{
 "cells": [
  {
   "cell_type": "code",
   "execution_count": 1,
   "id": "880e2b4d",
   "metadata": {},
   "outputs": [],
   "source": [
    "import json\n",
    "import os\n",
    "import pickle\n",
    "import random\n",
    "import sys\n",
    "import pickle\n",
    "import jraph\n",
    "import tqdm\n",
    "\n",
    "from typing import Callable, Dict, List, Optional\n",
    "import haiku as hk\n",
    "import ase\n",
    "import ase.io\n",
    "import jax\n",
    "import jax.numpy as jnp\n",
    "import numpy as np\n",
    "import optax\n",
    "import yaml\n",
    "\n",
    "import matplotlib.pyplot as plt\n",
    "\n",
    "from functools import partial\n",
    "\n",
    "import sys\n",
    "import os\n",
    "# Get the current script's directory\n",
    "current_dir = os.getcwd()\n",
    "# Get the parent directory by going one level up\n",
    "parent_dir = os.path.dirname(current_dir)\n",
    "# Add the parent directory to sys.path\n",
    "sys.path.append(parent_dir)\n",
    "\n",
    "\n",
    "from phonax.datasets import datasets\n",
    "from phonax.utils import (\n",
    "    create_directory_with_random_name,\n",
    "    compute_avg_num_neighbors,\n",
    ")\n",
    "from phonax.data_utils import (\n",
    "    get_atomic_number_table_from_zs,\n",
    "    compute_average_E0s,\n",
    ")\n",
    "from phonax.predictors import predict_energy_forces_stress\n",
    "from phonax.optimizer import optimizer\n",
    "from phonax.energy_force_train import energy_force_train\n",
    "from phonax.loss import WeightedEnergyFrocesStressLoss\n",
    "\n",
    "\n",
    "from phonax.trained_models import NequIP_JAXMD_molecule_model\n",
    "\n",
    "from phonax.phonons import (\n",
    "    atoms_to_ext_graph,\n",
    "    #predict_hessian_matrix,\n",
    "    #dynamical_matrix,\n",
    "    predict_molecular_spectra_unfilter,\n",
    ")\n",
    "\n",
    "from posym import SymmetryNormalModes\n",
    "\n",
    "jax.config.update(\"jax_debug_nans\", True)\n",
    "jax.config.update(\"jax_debug_infs\", True)\n",
    "np.set_printoptions(precision=3, suppress=True)"
   ]
  },
  {
   "cell_type": "markdown",
   "id": "97cc7113",
   "metadata": {},
   "source": [
    "# Molecular symmetry analysis for IR / Raman active modes\n",
    "\n",
    "In this tutorial, we demonstrate how to perform symmetry analysis for vibrational modes of the molecules and determine the IR / Raman active modes.\n",
    "We use CH$_4$ molecule as the example (as used in the book on group theory, application to the physics of condensed matter, by M. Dresselhaus, G. Dresselhaus and A. Jorio.)\n"
   ]
  },
  {
   "cell_type": "markdown",
   "id": "b7afa2c2",
   "metadata": {},
   "source": [
    "## Pre-trained NequIP energy model for molecules\n",
    "\n",
    "We we load the pre-trained NequIP model for molecules.\n",
    "This energy model is trained with energy and force data selected from universal IAP dataset which contain only H, C, N, O and F elements that are common for organic molecules. The DFT calculations are done with the PBE exchange-correlation functionals.\n",
    "This simplified model is used to discuss the symmetry analysis for IR / Raman active modes, and the model can be improved by more advanced DFT (hybrid functional) or quantum chemistry methods (such as CCSD).\n"
   ]
  },
  {
   "cell_type": "code",
   "execution_count": 3,
   "id": "97253f76",
   "metadata": {},
   "outputs": [
    {
     "name": "stdout",
     "output_type": "stream",
     "text": [
      "Create NequIP (JAX-MD version) with parameters {'use_sc': True, 'graph_net_steps': 2, 'hidden_irreps': '96x0e+ 96x0o  + 64x1e +64x1o +64x2e +64x2o', 'nonlinearities': {'e': 'swish', 'o': 'tanh'}, 'r_max': 5.0, 'avg_num_neighbors': 53.2808396682792, 'avg_r_min': None, 'num_species': 100, 'radial_basis': <function bessel_basis at 0x1666ce550>, 'radial_envelope': <function soft_envelope at 0x1666ce5e0>}\n"
     ]
    }
   ],
   "source": [
    "model_fn, params, num_message_passing, r_max= NequIP_JAXMD_molecule_model(weights_path='trained-models')\n"
   ]
  },
  {
   "cell_type": "markdown",
   "id": "4a647c64",
   "metadata": {},
   "source": [
    "Next, we load the molecular graph data and compute the molecular vibrational modes and spectrum"
   ]
  },
  {
   "cell_type": "code",
   "execution_count": 10,
   "id": "e887a141",
   "metadata": {},
   "outputs": [
    {
     "name": "stdout",
     "output_type": "stream",
     "text": [
      "Molecular vibration mode energies (in cm^-1):\n"
     ]
    },
    {
     "data": {
      "text/plain": [
       "DeviceArray([   0.586,    0.935,    1.772,    4.187,    4.232,    4.327,\n",
       "             1245.97 , 1245.971, 1342.506, 1342.507, 1342.507, 3277.473,\n",
       "             3277.474, 3277.474, 3305.339], dtype=float32)"
      ]
     },
     "execution_count": 10,
     "metadata": {},
     "output_type": "execute_result"
    }
   ],
   "source": [
    "mol_atoms = ase.io.read('CH4-symmetry.vasp')\n",
    "\n",
    "mol_graph = atoms_to_ext_graph(mol_atoms, r_max, num_message_passing=1)\n",
    "mol_masses = ase.data.atomic_masses[mol_graph.nodes.species][mol_graph.nodes.mask_primitive]\n",
    "gamma_eigs, gamma_vecs, D_gamma = predict_molecular_spectra_unfilter(params, model_fn,mol_graph,mol_masses)\n",
    "\n",
    "print('Molecular vibration mode energies (in cm^-1):')\n",
    "# in cm^-1\n",
    "gamma_eigs\n"
   ]
  },
  {
   "cell_type": "code",
   "execution_count": 9,
   "id": "a804b8b0",
   "metadata": {},
   "outputs": [
    {
     "name": "stdout",
     "output_type": "stream",
     "text": [
      "Molecular vibration mode energies (in cm^-1):\n"
     ]
    },
    {
     "data": {
      "text/plain": [
       "DeviceArray([ -51.059,  -51.054,  -50.787,   -1.454,   -0.66 ,    0.715,\n",
       "              170.521,  170.522,  302.064,  590.833,  590.834,  657.604,\n",
       "              717.665,  717.665,  793.576,  793.576,  830.256,  924.454,\n",
       "             1028.218, 1028.218, 1034.694, 1127.402, 1130.884, 1130.885,\n",
       "             1327.954, 1461.25 , 1461.25 , 1531.71 , 1604.668, 1604.668,\n",
       "             3128.385, 3128.385, 3131.014, 3167.463, 3167.463, 3185.932],            dtype=float32)"
      ]
     },
     "execution_count": 9,
     "metadata": {},
     "output_type": "execute_result"
    }
   ],
   "source": [
    "# test\n",
    "\n",
    "mol_atoms = ase.io.read('data/molecules/benzene-xy2.vasp')\n",
    "\n",
    "mol_graph = atoms_to_ext_graph(mol_atoms, r_max, num_message_passing=1)\n",
    "mol_masses = ase.data.atomic_masses[mol_graph.nodes.species][mol_graph.nodes.mask_primitive]\n",
    "gamma_eigs, gamma_vecs, D_gamma = predict_molecular_spectra_unfilter(params, model_fn,mol_graph,mol_masses)\n",
    "\n",
    "print('Molecular vibration mode energies (in cm^-1):')\n",
    "# in cm^-1\n",
    "gamma_eigs\n"
   ]
  },
  {
   "cell_type": "code",
   "execution_count": 11,
   "id": "eb424d96",
   "metadata": {},
   "outputs": [
    {
     "name": "stdout",
     "output_type": "stream",
     "text": [
      "/Users/shiangfang/Dropbox (MIT)/Research/e3nn-phonon/phonax/github/phonax\n"
     ]
    }
   ],
   "source": [
    "import pickle\n",
    "\n",
    "with open('benzene-phonon.pkl','wb') as f:\n",
    "    pickle.dump(gamma_vecs,f)\n",
    "\n",
    "import os\n",
    "print(os.getcwd())"
   ]
  },
  {
   "cell_type": "markdown",
   "id": "0ca34ac4",
   "metadata": {},
   "source": [
    "## Molecular point group symmetry\n",
    "\n",
    "Now we can use posym tool to figure out the molecular point group symmetry.\n",
    "\n",
    "https://github.com/abelcarreras/posym\n",
    "\n",
    "\n",
    "To be confirmed: the output Continuous symmetry measures (CSM) probes the amount of symmetry break with respect to a point group symmetry? We should select the point group (highest symmetry) with small measure?\n",
    "Any other more direct way to get the point group symmetry? (pymatgen might have a relevant tool for this, but needs to figure out how to convert the molecular structure object.)\n",
    "\n",
    "Response from Abel Carreras confirms this:\n",
    "\n",
    "Using Posym, indeed you can also determine the symmetry point group a molecule belongs by computing the CSM\n",
    "and looking for the group that gives a value close to zero. However, in general this requires to analyze\n",
    "all the possible groups one by one which can be quite inefficient compared to other methods.\n",
    "\n",
    "Also yes, you will find zero CMS value for all subgroups (since the molecule belongs to all of them),\n",
    "then is your criteria to choose the highest symmetry group among them. The advantage of using posym\n",
    "in this case is that you have a clear measure (the CSM) that you can use as a criteria to determine if the\n",
    "molecule belongs or not to the group given a certain tolerance (concept of quasi-symmetry).\n",
    "\n",
    "There are many ways (and software) to determine the point group.\n",
    "Usually they are based in the determination of the principal axis of inertia to reduce rule out\n",
    "different symmetry groups and then looking for specific symmetry operations to restrict the\n",
    "search until the group is found. Very similar to the usual scheme that you can find in chemistry books.\n",
    "\n",
    "Below, we can also use another method from his repository:\n",
    "\n",
    "https://github.com/abelcarreras/pointgroup\n",
    "\n",
    "\n",
    "\n",
    "Regarding the proper citation(s) for his work:\n",
    "\n",
    "At this moment I don’t have any paper specific to this library. That’s why I created a citable zenodo\n",
    "repository:\n",
    "\n",
    "https://zenodo.org/record/7261326\n",
    "\n",
    "Here I list some papers related to the methodology employed in this library:\n",
    "\n",
    "Pinsky M, Dryzun C, Casanova D, Alemany P, Avnir D, J Comput Chem. 29:2712-21 (2008) \n",
    "Pinsky M, Casanova D, Alemany P, Alvarez S, Avnir D, Dryzun C, Kizner Z, Sterkin A. J Comput Chem. 29:190-7 (2008)\n",
    "Casanova D, Alemany P. Phys Chem Chem Phys. 12(47):15523–9 (2010)\n",
    "Casanova D, Alemany P, Falceto A, Carreras A, Alvarez S. J Comput Chem 34(15):1321–31 (2013)\n",
    "A. Carreras, E. Bernuz, X. Marugan, M. Llunell, P. Alemany, Chem. Eur. J. 25, 673 – 691 (2019) \n",
    "\n",
    "\n"
   ]
  },
  {
   "cell_type": "code",
   "execution_count": 5,
   "id": "be3be14c",
   "metadata": {},
   "outputs": [
    {
     "name": "stdout",
     "output_type": "stream",
     "text": [
      "Symmetry measure Td :  26.785291419551015\n",
      "Symmetry measure C3v :  7.00126623343067e-09\n",
      "Symmetry measure C4v :  3.349364906754382\n",
      "Symmetry measure D6h :  6.982858735682385e-10\n"
     ]
    }
   ],
   "source": [
    "from posym import SymmetryMolecule\n",
    "\n",
    "pos_CM = mol_atoms.get_center_of_mass()\n",
    "\n",
    "coordinates = mol_atoms.get_positions() - pos_CM\n",
    "\n",
    "#coordinates = np.array([[0.0,0.0,0.0],\n",
    "\n",
    "\n",
    "symbols = mol_atoms.get_chemical_symbols()\n",
    "\n",
    "sym_geom = SymmetryMolecule(group='Td', coordinates=coordinates, symbols=symbols)\n",
    "print('Symmetry measure Td : ', sym_geom.measure)\n",
    "\n",
    "\n",
    "# C3v as a subgroup of D6h, the measure will be small as well.\n",
    "sym_geom = SymmetryMolecule(group='C3v', coordinates=coordinates, symbols=symbols)\n",
    "print('Symmetry measure C3v : ', sym_geom.measure)\n",
    "\n",
    "sym_geom = SymmetryMolecule(group='C4v', coordinates=coordinates, symbols=symbols)\n",
    "print('Symmetry measure C4v : ', sym_geom.measure)\n",
    "\n",
    "# this is our symmetry for the benzene\n",
    "sym_geom = SymmetryMolecule(group='D6h', coordinates=coordinates, symbols=symbols)\n",
    "print('Symmetry measure D6h : ', sym_geom.measure)"
   ]
  },
  {
   "cell_type": "markdown",
   "id": "80428d0f",
   "metadata": {},
   "source": [
    "Alternatively, we can use the pointgroup library by the same author of the library, and we confirm a CH$_4$ molecule has a Td point group symmetry."
   ]
  },
  {
   "cell_type": "code",
   "execution_count": 6,
   "id": "f5149a83",
   "metadata": {},
   "outputs": [
    {
     "name": "stdout",
     "output_type": "stream",
     "text": [
      "Point group:  D6h\n"
     ]
    }
   ],
   "source": [
    "from pointgroup import PointGroup\n",
    "\n",
    "pos_CM = mol_atoms.get_center_of_mass()\n",
    "\n",
    "coordinates = mol_atoms.get_positions() - pos_CM\n",
    "\n",
    "symbols = mol_atoms.get_chemical_symbols()\n",
    "\n",
    "pg = PointGroup(positions=coordinates, \n",
    "                symbols=symbols)\n",
    "\n",
    "print('Point group: ', pg.get_point_group())\n",
    "\n"
   ]
  },
  {
   "cell_type": "markdown",
   "id": "d9a5e54d",
   "metadata": {},
   "source": [
    "## Translational / Rotational mode projections\n",
    "\n",
    "In the following, I would like to show how one can perform the mode projections to filter out the pure traslational / rotational modes (with respect to the center of mass)\n",
    "\n",
    "Note with the point group symmetry analysis above, the translational modes would carry the vector like symmetry irreducible symmetry representations (irreps), while the rotational modes would be of the anti-symmetric second rank tensor type irreps. These will be relevant later for the IR / Raman active mode analysis."
   ]
  },
  {
   "cell_type": "code",
   "execution_count": null,
   "id": "b801992e",
   "metadata": {},
   "outputs": [],
   "source": [
    "# here we would like to project out the translation + rotation modes by defining the projector\n",
    "\n",
    "# function to orthogonalize the modes we select\n",
    "def vector_gram_schmidt(vecs_in):\n",
    "    vecs_out = []\n",
    "    for vec in vecs_in:\n",
    "        if len(vecs_out) == 0:\n",
    "            vecs_out.append(vec/jnp.linalg.norm(vec))\n",
    "        else:\n",
    "            for vec_proj in vecs_out:\n",
    "                vec -= jnp.sum(vec*vec_proj) *vec_proj\n",
    "            vecs_out.append(vec/jnp.linalg.norm(vec))\n",
    "    return vecs_out\n",
    "\n",
    "num_atoms = len(mol_atoms)\n",
    "\n",
    "mol_cm = mol_atoms.get_center_of_mass()\n",
    "shift_pos = mol_atoms.get_positions() - mol_cm\n",
    "\n",
    "# write down the mode vector, note the subtle sqrt(mass) factor here!\n",
    "tr_mode1 = jnp.zeros((num_atoms,3))\n",
    "tr_mode1 = tr_mode1.at[:,0].add(1.0) * jnp.sqrt(mol_masses)[:,None]\n",
    "tr_mode2 = jnp.zeros((num_atoms,3))\n",
    "tr_mode2 = tr_mode2.at[:,1].add(1.0)* jnp.sqrt(mol_masses)[:,None]\n",
    "tr_mode3 = jnp.zeros((num_atoms,3))\n",
    "tr_mode3 = tr_mode3.at[:,2].add(1.0)* jnp.sqrt(mol_masses)[:,None]\n",
    "\n",
    "\n",
    "tr_mode1 /= jnp.linalg.norm(tr_mode1)\n",
    "tr_mode2 /= jnp.linalg.norm(tr_mode2)\n",
    "tr_mode3 /= jnp.linalg.norm(tr_mode3)\n",
    "\n",
    "[tr_mode1,tr_mode2,tr_mode3] = vector_gram_schmidt([tr_mode1,tr_mode2,tr_mode3])\n",
    "\n",
    "x_axis = jnp.array([1.0,0.0,0.0])\n",
    "y_axis = jnp.array([0.0,1.0,0.0])\n",
    "z_axis = jnp.array([0.0,0.0,1.0])\n",
    "\n",
    "rot_mode1 = jnp.cross(x_axis, shift_pos) * jnp.sqrt(mol_masses)[:,None]\n",
    "rot_mode1 /= jnp.linalg.norm(rot_mode1)\n",
    "rot_mode2 = jnp.cross(y_axis, shift_pos) * jnp.sqrt(mol_masses)[:,None]\n",
    "rot_mode2 /= jnp.linalg.norm(rot_mode2)\n",
    "rot_mode3 = jnp.cross(z_axis, shift_pos) * jnp.sqrt(mol_masses)[:,None]\n",
    "rot_mode3 /= jnp.linalg.norm(rot_mode3)\n",
    "\n",
    "[rot_mode1,rot_mode2,rot_mode3] = vector_gram_schmidt([rot_mode1,rot_mode2,rot_mode3])\n",
    "\n",
    "\n",
    "proj_modes = [tr_mode1,tr_mode2,tr_mode3,rot_mode1,rot_mode2,rot_mode3]\n",
    "\n",
    "\n",
    "proj_mat = jnp.zeros((3*num_atoms, 3*num_atoms))\n",
    "for pmode in proj_modes:\n",
    "    pmode = pmode.reshape(-1)\n",
    "    proj_mat += jnp.einsum('i,j->ij',pmode,pmode)\n",
    "    \n",
    "gamma_proj_norm = []\n",
    "\n",
    "for gamma_vec in gamma_vecs.T:\n",
    "    proj_vec = proj_mat @ gamma_vec.real\n",
    "    gamma_proj_norm.append(jnp.linalg.norm(proj_vec).item())\n",
    "    \n",
    "gamma_proj_norm = np.array(gamma_proj_norm) **2"
   ]
  },
  {
   "cell_type": "markdown",
   "id": "4a91d151",
   "metadata": {},
   "source": [
    "With the total 6 modes for translations and rotations, we can compute the projection weight of these states in the molecular vibrational spectrum. With the projection weight distribution, we find these modes are concentrated at the lowest $E \\sim 0$ zero energy modes."
   ]
  },
  {
   "cell_type": "code",
   "execution_count": null,
   "id": "aace4599",
   "metadata": {},
   "outputs": [],
   "source": [
    "plt.plot(gamma_proj_norm)\n",
    "plt.scatter(x=np.arange(len(gamma_proj_norm)),y=gamma_proj_norm)\n",
    "plt.xlabel('phonon mode index')\n",
    "plt.ylabel('projected norm')\n"
   ]
  },
  {
   "cell_type": "markdown",
   "id": "51ca6bab",
   "metadata": {},
   "source": [
    "With the external library to perform symmetry analysis, we can determine the vibrational mode symmetry irrep as below:"
   ]
  },
  {
   "cell_type": "code",
   "execution_count": 9,
   "id": "96252324",
   "metadata": {},
   "outputs": [
    {
     "name": "stdout",
     "output_type": "stream",
     "text": [
      "Symmetry irrep:  T2\n"
     ]
    }
   ],
   "source": [
    "# In this example, they are translational modes, which transform as (x,y,z)\n",
    "test_modes = np.array(gamma_vecs.T[:3].real)\n",
    "test_modes = test_modes.reshape(3,5,3)\n",
    "\n",
    "sym_modes_gs = SymmetryNormalModes(group='Td', coordinates=coordinates, modes=test_modes, symbols=symbols)\n",
    "print('Symmetry irrep: ', sym_modes_gs)"
   ]
  },
  {
   "cell_type": "code",
   "execution_count": 18,
   "id": "f9ca68c5",
   "metadata": {},
   "outputs": [
    {
     "name": "stdout",
     "output_type": "stream",
     "text": [
      "Symmetry irrep:  T1\n"
     ]
    }
   ],
   "source": [
    "# In this example, they are rotational modes, which transform as (Rx,Ry,Rz)\n",
    "test_modes = np.array(gamma_vecs.T[3:6].real)\n",
    "test_modes = test_modes.reshape(3,5,3)\n",
    "\n",
    "sym_modes_gs = SymmetryNormalModes(group='Td', coordinates=coordinates, modes=test_modes, symbols=symbols)\n",
    "print('Symmetry irrep: ', sym_modes_gs)"
   ]
  },
  {
   "cell_type": "code",
   "execution_count": 20,
   "id": "608531ba",
   "metadata": {},
   "outputs": [
    {
     "name": "stdout",
     "output_type": "stream",
     "text": [
      "Symmetry irrep:  E\n"
     ]
    }
   ],
   "source": [
    "# one can check any (degenerate) mode(s) to find their symmetry irrep\n",
    "test_modes = np.array(gamma_vecs.T[6:8].real)\n",
    "test_modes = test_modes.reshape(2,5,3)\n",
    "\n",
    "sym_modes_gs = SymmetryNormalModes(group='Td', coordinates=coordinates, modes=test_modes, symbols=symbols)\n",
    "print('Symmetry irrep: ', sym_modes_gs)"
   ]
  },
  {
   "cell_type": "markdown",
   "id": "0de9034d",
   "metadata": {},
   "source": [
    "## IR / Raman activity\n",
    "\n",
    "The point group symmetry imposes constraints of the IR / Raman active modes.\n",
    "We fwllow the symmetry arguments in the group theory book relevant for the IR / Raman transitions with phonons.\n",
    "In short summary, the IR modes would transform as vectors, while the Raman modes would transform as symmetric second rank tensors.\n",
    "In the following, we will implement these symmetry selection rules:\n",
    "\n"
   ]
  },
  {
   "cell_type": "code",
   "execution_count": 7,
   "id": "6b302186",
   "metadata": {},
   "outputs": [
    {
     "name": "stdout",
     "output_type": "stream",
     "text": [
      "Molecular point group:  D6h\n",
      "Translation mode irreps:  A2u + E1u\n",
      "Rotational mode irreps:  A2g + E1g\n"
     ]
    }
   ],
   "source": [
    "from posym import SymmetryNormalModes\n",
    "\n",
    "from pointgroup import PointGroup\n",
    "\n",
    "pos_CM = mol_atoms.get_center_of_mass()\n",
    "\n",
    "coordinates = mol_atoms.get_positions() - pos_CM\n",
    "\n",
    "symbols = mol_atoms.get_chemical_symbols()\n",
    "\n",
    "pg = PointGroup(positions=coordinates, \n",
    "                symbols=symbols)\n",
    "\n",
    "\n",
    "print('Molecular point group: ',pg.get_point_group())\n",
    "\n",
    "tran_modes_all = [tr_mode1,tr_mode2,tr_mode3]\n",
    "sym_modes_trans = SymmetryNormalModes(group=pg.get_point_group(), coordinates=coordinates, modes=tran_modes_all, symbols=symbols)\n",
    "\n",
    "\n",
    "print('Translation mode irreps: ',sym_modes_trans)\n",
    "\n",
    "\n",
    "rot_modes_all = np.array([rot_mode1,rot_mode2,rot_mode3])\n",
    "\n",
    "sym_modes_gs_rot = SymmetryNormalModes(group=pg.get_point_group(), coordinates=coordinates, modes=rot_modes_all, symbols=symbols)\n",
    "print('Rotational mode irreps: ',sym_modes_gs_rot)\n",
    "\n"
   ]
  },
  {
   "cell_type": "markdown",
   "id": "f0fc5a4d",
   "metadata": {},
   "source": [
    "Because of the symmetry selection rules, the active modes:\n",
    "\n",
    "IR active modes: They will transform as vector irreps found in the translational modes at zero energy.\n",
    "\n",
    "Raman active modes: Since they transform as symmetric second rank tensors, we derive the symmetry irreps by finding the irreps for the second rank tensor first (square of the vector irreps), then removing the anti-symmetric component (derived in the rotational modes)\n"
   ]
  },
  {
   "cell_type": "code",
   "execution_count": 8,
   "id": "9f31178d",
   "metadata": {},
   "outputs": [
    {
     "name": "stdout",
     "output_type": "stream",
     "text": [
      "point group:  D6h\n",
      "IR active modes:  A2u + E1u\n",
      "Raman active modes:  2 A1g + E1g + E2g\n"
     ]
    }
   ],
   "source": [
    "set_pg = pg.get_point_group()\n",
    "\n",
    "\n",
    "print('point group: ',set_pg)\n",
    "\n",
    "def decomp_irreps(sym_irreps):\n",
    "    ir_rep = np.dot(sym_irreps._pg.trans_matrix_inv, sym_irreps.get_reduced_op_representation().values)\n",
    "    index=sym_irreps._pg.ir_labels\n",
    "    in_irreps = []\n",
    "    for ir_, idx_label in zip(ir_rep,index):\n",
    "        if ir_ > 0.5:\n",
    "            in_irreps.append(idx_label)\n",
    "    return in_irreps\n",
    "            \n",
    "    \n",
    "trans_irs = decomp_irreps(sym_modes_trans)\n",
    "\n",
    "total_r2_irreps = None\n",
    "\n",
    "from posym import PointGroup, SymmetryObject\n",
    "\n",
    "for ir1_ in trans_irs:\n",
    "    ir1 = SymmetryObject(group=set_pg, rep=ir1_)\n",
    "    for ir2_ in trans_irs:\n",
    "        ir2 = SymmetryObject(group=set_pg, rep=ir2_)\n",
    "\n",
    "        if total_r2_irreps is None:\n",
    "            total_r2_irreps = ir1 * ir2\n",
    "        else:\n",
    "            total_r2_irreps = total_r2_irreps + ir1*ir2\n",
    "            \n",
    "# now remove the rotational ones:\n",
    "rot_irs = decomp_irreps(sym_modes_gs_rot)\n",
    "\n",
    "for ir_ in rot_irs:\n",
    "    ir = SymmetryObject(group=set_pg, rep=ir_)\n",
    "    total_r2_irreps = total_r2_irreps + (-1*ir)\n",
    "    \n",
    "print('IR active modes: ',sym_modes_trans)\n",
    "print('Raman active modes: ',total_r2_irreps)"
   ]
  },
  {
   "cell_type": "markdown",
   "id": "e9c081aa",
   "metadata": {},
   "source": [
    "## Summary\n",
    "\n",
    "\n"
   ]
  },
  {
   "cell_type": "code",
   "execution_count": null,
   "id": "76f2e08d",
   "metadata": {},
   "outputs": [],
   "source": []
  },
  {
   "cell_type": "code",
   "execution_count": 10,
   "id": "50fb1ea0",
   "metadata": {},
   "outputs": [
    {
     "data": {
      "text/plain": [
       "DeviceArray([  -1.007,   -0.261,    0.746,   57.595,   57.684,   57.918,\n",
       "              201.737,  202.185,  321.818,  587.409,  587.482,  661.59 ,\n",
       "              720.302,  721.12 ,  796.204,  796.782,  833.704,  926.093,\n",
       "             1023.373, 1028.364, 1028.49 , 1133.236, 1137.675, 1138.121,\n",
       "             1332.841, 1457.972, 1458.163, 1499.368, 1582.478, 1582.817,\n",
       "             3126.82 , 3127.91 , 3131.63 , 3164.577, 3165.738, 3181.892],            dtype=float32)"
      ]
     },
     "execution_count": 10,
     "metadata": {},
     "output_type": "execute_result"
    }
   ],
   "source": [
    "gamma_eigs"
   ]
  },
  {
   "cell_type": "code",
   "execution_count": 10,
   "id": "3f0ab846",
   "metadata": {},
   "outputs": [
    {
     "data": {
      "text/plain": [
       "[[(0, DeviceArray(-51.059, dtype=float32)),\n",
       "  (1, DeviceArray(-51.054, dtype=float32)),\n",
       "  (2, DeviceArray(-50.787, dtype=float32))],\n",
       " [(3, DeviceArray(-1.454, dtype=float32)),\n",
       "  (4, DeviceArray(-0.66, dtype=float32)),\n",
       "  (5, DeviceArray(0.715, dtype=float32))],\n",
       " [(6, DeviceArray(170.521, dtype=float32)),\n",
       "  (7, DeviceArray(170.522, dtype=float32))],\n",
       " [(8, DeviceArray(302.064, dtype=float32))],\n",
       " [(9, DeviceArray(590.833, dtype=float32)),\n",
       "  (10, DeviceArray(590.834, dtype=float32))],\n",
       " [(11, DeviceArray(657.604, dtype=float32))],\n",
       " [(12, DeviceArray(717.665, dtype=float32)),\n",
       "  (13, DeviceArray(717.665, dtype=float32))],\n",
       " [(14, DeviceArray(793.576, dtype=float32)),\n",
       "  (15, DeviceArray(793.576, dtype=float32))],\n",
       " [(16, DeviceArray(830.256, dtype=float32))],\n",
       " [(17, DeviceArray(924.454, dtype=float32))],\n",
       " [(18, DeviceArray(1028.218, dtype=float32)),\n",
       "  (19, DeviceArray(1028.218, dtype=float32))],\n",
       " [(20, DeviceArray(1034.694, dtype=float32))],\n",
       " [(21, DeviceArray(1127.402, dtype=float32))],\n",
       " [(22, DeviceArray(1130.884, dtype=float32)),\n",
       "  (23, DeviceArray(1130.885, dtype=float32))],\n",
       " [(24, DeviceArray(1327.954, dtype=float32))],\n",
       " [(25, DeviceArray(1461.25, dtype=float32)),\n",
       "  (26, DeviceArray(1461.25, dtype=float32))],\n",
       " [(27, DeviceArray(1531.71, dtype=float32))],\n",
       " [(28, DeviceArray(1604.668, dtype=float32)),\n",
       "  (29, DeviceArray(1604.668, dtype=float32))],\n",
       " [(30, DeviceArray(3128.385, dtype=float32)),\n",
       "  (31, DeviceArray(3128.385, dtype=float32))],\n",
       " [(32, DeviceArray(3131.014, dtype=float32))],\n",
       " [(33, DeviceArray(3167.463, dtype=float32)),\n",
       "  (34, DeviceArray(3167.463, dtype=float32))],\n",
       " [(35, DeviceArray(3185.932, dtype=float32))]]"
      ]
     },
     "execution_count": 10,
     "metadata": {},
     "output_type": "execute_result"
    }
   ],
   "source": [
    "\n",
    "def group_numbers(nums, thres):\n",
    "    # assume sorted numbers for the input\n",
    "    out = []\n",
    "    group = []\n",
    "    for idx, num in enumerate(nums):\n",
    "        if len(group) == 0:\n",
    "            group.append((idx, num))\n",
    "        elif abs(group[-1][1] - num) <= thres:\n",
    "            group.append((idx, num))\n",
    "        else:\n",
    "            out.append(group)\n",
    "            group = [(idx, num)]\n",
    "    if len(group) > 0:\n",
    "        out.append(group)\n",
    "    return out\n",
    "\n",
    "            \n",
    "eigs_groups = group_numbers(gamma_eigs, 2.0)\n",
    "    \n",
    "\n",
    "eigs_groups"
   ]
  },
  {
   "cell_type": "code",
   "execution_count": 11,
   "id": "e3a54dea",
   "metadata": {},
   "outputs": [
    {
     "name": "stdout",
     "output_type": "stream",
     "text": [
      "Symmetry irrep:  [0, 1, 2]   0.07 A1g + 0.93 A2g + E1g\n",
      "Symmetry irrep:  [3, 4, 5]   A2u + E1u\n",
      "Symmetry irrep:  [6, 7]   E2u\n",
      "Symmetry irrep:  [8]   B2g\n",
      "Symmetry irrep:  [9, 10]   E2g\n",
      "Symmetry irrep:  [11]   A2u\n",
      "Symmetry irrep:  [12, 13]   E1g\n",
      "Symmetry irrep:  [14, 15]   E2u\n",
      "Symmetry irrep:  [16]   B2g\n",
      "Symmetry irrep:  [17]   0.93 B1u + 0.07 B2u\n",
      "Symmetry irrep:  [18, 19]   E1u\n",
      "Symmetry irrep:  [20]   0.93 A1g + 0.07 A2g\n",
      "Symmetry irrep:  [21]   0.07 B1u + 0.93 B2u\n",
      "Symmetry irrep:  [22, 23]   E2g\n",
      "Symmetry irrep:  [24]   0.07 A1g + 0.93 A2g\n",
      "Symmetry irrep:  [25, 26]   E1u\n",
      "Symmetry irrep:  [27]   0.07 B1u + 0.93 B2u\n",
      "Symmetry irrep:  [28, 29]   E2g\n",
      "Symmetry irrep:  [30, 31]   E1u\n",
      "Symmetry irrep:  [32]   0.93 A1g + 0.07 A2g\n",
      "Symmetry irrep:  [33, 34]   E2g\n",
      "Symmetry irrep:  [35]   0.93 B1u + 0.07 B2u\n"
     ]
    }
   ],
   "source": [
    "# Raman mode irreps: A1g + E1g + E2g\n",
    "# Raman modes: 0,1,2 (x2), 9,10, 12,13, 20, 22,23, 28,29, 32, 33,34\n",
    "for eigs_group in eigs_groups:\n",
    "    sel_idx = [_[0] for _ in eigs_group]\n",
    "    test_modes = np.array(gamma_vecs.T[sel_idx[0]:(sel_idx[-1]+1)].real)\n",
    "    test_modes = test_modes.reshape(len(sel_idx),12,3)\n",
    "    sym_modes_gs = SymmetryNormalModes(group='D6h', coordinates=coordinates, modes=test_modes, symbols=symbols)\n",
    "    print('Symmetry irrep: ',sel_idx,' ', sym_modes_gs)"
   ]
  },
  {
   "cell_type": "code",
   "execution_count": 51,
   "id": "4612e388",
   "metadata": {},
   "outputs": [
    {
     "data": {
      "text/plain": [
       "2A1g+E1g+E2g"
      ]
     },
     "execution_count": 51,
     "metadata": {},
     "output_type": "execute_result"
    }
   ],
   "source": [
    "total_r2_irreps"
   ]
  },
  {
   "cell_type": "code",
   "execution_count": 52,
   "id": "2c1f5c13",
   "metadata": {},
   "outputs": [],
   "source": [
    "Raman_modes = [9, 10, 12, 13, 18, 22, 23, 28, 29, 32, 33, 34]"
   ]
  },
  {
   "cell_type": "code",
   "execution_count": 50,
   "id": "17f86dd7",
   "metadata": {},
   "outputs": [
    {
     "data": {
      "text/plain": [
       "A1g    7.749791e-05\n",
       "A2g   -1.369263e-08\n",
       "B1g    9.223012e-08\n",
       "B2g   -2.193773e-08\n",
       "E1g    3.732030e-07\n",
       "E2g    8.780659e-05\n",
       "A1u   -2.193773e-08\n",
       "A2u    6.407618e-08\n",
       "B1u   -2.191942e-08\n",
       "B2u    9.995105e-01\n",
       "E1u    1.177777e-04\n",
       "E2u   -4.365468e-09\n",
       "dtype: float64"
      ]
     },
     "execution_count": 50,
     "metadata": {},
     "output_type": "execute_result"
    }
   ],
   "source": [
    "sym_modes_gs.get_ir_representation()"
   ]
  },
  {
   "cell_type": "code",
   "execution_count": 13,
   "id": "f7b7216b",
   "metadata": {},
   "outputs": [
    {
     "name": "stdout",
     "output_type": "stream",
     "text": [
      "Symmetry irrep:  [35]   0.07 A1g + 0.93 A2g + E1g + A2u + E1u\n"
     ]
    }
   ],
   "source": [
    "test_modes = np.array(gamma_vecs.T[:6].real)\n",
    "test_modes = test_modes.reshape(6,12,3)\n",
    "sym_modes_gs = SymmetryNormalModes(group='D6h', coordinates=coordinates, modes=test_modes, symbols=symbols)\n",
    "print('Symmetry irrep: ',sel_idx,' ', sym_modes_gs)"
   ]
  },
  {
   "cell_type": "code",
   "execution_count": 14,
   "id": "80b36b88",
   "metadata": {},
   "outputs": [
    {
     "data": {
      "text/plain": [
       "12"
      ]
     },
     "execution_count": 14,
     "metadata": {},
     "output_type": "execute_result"
    }
   ],
   "source": [
    "len([9,10, 12,13, 20, 22,23, 28,29, 32, 33,34])"
   ]
  },
  {
   "cell_type": "code",
   "execution_count": null,
   "id": "650f973c",
   "metadata": {},
   "outputs": [],
   "source": []
  }
 ],
 "metadata": {
  "kernelspec": {
   "display_name": "Python 3 (ipykernel)",
   "language": "python",
   "name": "python3"
  },
  "language_info": {
   "codemirror_mode": {
    "name": "ipython",
    "version": 3
   },
   "file_extension": ".py",
   "mimetype": "text/x-python",
   "name": "python",
   "nbconvert_exporter": "python",
   "pygments_lexer": "ipython3",
   "version": "3.9.13"
  }
 },
 "nbformat": 4,
 "nbformat_minor": 5
}
