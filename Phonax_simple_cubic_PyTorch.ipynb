{
 "cells": [
  {
   "cell_type": "code",
   "execution_count": 1,
   "id": "b4622c74",
   "metadata": {},
   "outputs": [],
   "source": [
    "import torch\n",
    "import numpy as np\n",
    "\n",
    "from typing import Optional, Tuple\n",
    "\n",
    "import ase\n",
    "import ase.io\n",
    "from ase import Atoms\n",
    "import tqdm\n",
    "import matscipy\n",
    "\n",
    "import matplotlib.pyplot as plt\n",
    "import matscipy.neighbours\n",
    "import numpy as np\n",
    "from torch.autograd.functional import jvp\n",
    "import ase.spectrum.band_structure\n"
   ]
  },
  {
   "cell_type": "code",
   "execution_count": 2,
   "id": "6505bcb2",
   "metadata": {},
   "outputs": [],
   "source": [
    "def get_neighborhood(\n",
    "    positions: np.ndarray,  # [num_positions, 3]\n",
    "    cutoff: float,\n",
    "    pbc: Optional[Tuple[bool, bool, bool]] = None,\n",
    "    cell: Optional[np.ndarray] = None,  # [3, 3]\n",
    ") -> Tuple[np.ndarray, np.ndarray, np.ndarray]:\n",
    "    if pbc is None:\n",
    "        pbc = (False, False, False)\n",
    "\n",
    "    if cell is None or np.all(cell == 0.0):\n",
    "        cell = np.identity(3, dtype=float)\n",
    "\n",
    "    assert len(pbc) == 3 and all(isinstance(i, (bool, np.bool_)) for i in pbc)\n",
    "    assert cell.shape == (3, 3)\n",
    "\n",
    "    # Note (mario): I swapped senders and receivers here\n",
    "    # j = senders, i = receivers instead of the other way around\n",
    "    # such that the receivers are always in the central cell.\n",
    "    # This is important to propagate message passing towards the center which can be useful in some cases.\n",
    "    receivers, senders, senders_unit_shifts = matscipy.neighbours.neighbour_list(\n",
    "        quantities=\"ijS\",\n",
    "        pbc=pbc,\n",
    "        cell=cell,\n",
    "        positions=positions,\n",
    "        cutoff=cutoff,\n",
    "    )\n",
    "\n",
    "    # From the docs: With the shift vector S, the distances D between atoms can be computed from\n",
    "    # D = positions[j]-positions[i]+S.dot(cell)\n",
    "    # Note (mario): this is done in the function get_edge_relative_vectors\n",
    "    return senders, receivers, senders_unit_shifts\n",
    "\n",
    "# define our 3D cubic lattice and find out the nearest neighbors\n",
    "r_max = 1.2\n",
    "d = 1.0\n",
    "L = 10.0\n",
    "cubic_lat = Atoms('C',\n",
    "             positions=[[0, 0, 0]],\n",
    "             cell=[d, d, d],\n",
    "             pbc=[1, 1, 1])\n",
    "\n",
    "senders, receivers, senders_unit_shifts = get_neighborhood(\n",
    "    positions=cubic_lat.positions,\n",
    "    cutoff=r_max,\n",
    "    pbc=cubic_lat.pbc,\n",
    "    cell=cubic_lat.cell.array,\n",
    ")"
   ]
  },
  {
   "cell_type": "code",
   "execution_count": 3,
   "id": "42a0215e",
   "metadata": {},
   "outputs": [],
   "source": [
    "shift_vec = senders_unit_shifts @ cubic_lat.cell.array\n",
    "\n",
    "cubic_pos = np.vstack((np.array([[0.0,0.0,0.0]]),shift_vec))\n",
    "cubic_pos = torch.tensor(cubic_pos,requires_grad = True)"
   ]
  },
  {
   "cell_type": "code",
   "execution_count": 4,
   "id": "9abafb73",
   "metadata": {},
   "outputs": [
    {
     "data": {
      "text/plain": [
       "tensor(0., dtype=torch.float64, grad_fn=<SumBackward0>)"
      ]
     },
     "execution_count": 4,
     "metadata": {},
     "output_type": "execute_result"
    }
   ],
   "source": [
    "# manual input for the pairs in the cubic for now\n",
    "cubic_spring_pairs = torch.tensor([[0,1],\n",
    "                                  [0,2],\n",
    "                                  [0,3],\n",
    "                                  [0,4],\n",
    "                                  [0,5],\n",
    "                                  [0,6]])\n",
    "\n",
    "# mass and spring phonon model\n",
    "def cubic_spring_energy(cubic_pos):\n",
    "    edge_vec = cubic_pos[cubic_spring_pairs[:,1]] - cubic_pos[cubic_spring_pairs[:,0]]\n",
    "    edge_len = edge_vec.norm(dim=1)\n",
    "    return torch.sum((edge_len-1.0)**2)\n",
    "    \n",
    "cubic_spring_energy(cubic_pos)"
   ]
  },
  {
   "cell_type": "code",
   "execution_count": 5,
   "id": "71ae6ce2",
   "metadata": {},
   "outputs": [],
   "source": [
    "def calc_force(cubic_pos):\n",
    "    cubic_energy = cubic_spring_energy(cubic_pos)\n",
    "    \n",
    "    cubic_forces = torch.autograd.grad(\n",
    "        cubic_energy,\n",
    "        cubic_pos,\n",
    "        retain_graph = True,\n",
    "        create_graph=True,\n",
    "    )[0]\n",
    "    return cubic_forces\n",
    "\n",
    "cubic_forces = calc_force(cubic_pos)\n"
   ]
  },
  {
   "cell_type": "code",
   "execution_count": 6,
   "id": "53b4dfac",
   "metadata": {},
   "outputs": [
    {
     "data": {
      "text/plain": [
       "torch.Size([7, 3, 7, 3])"
      ]
     },
     "execution_count": 6,
     "metadata": {},
     "output_type": "execute_result"
    }
   ],
   "source": [
    "cubic_pos_np = torch.detach(cubic_pos).numpy()\n",
    "full_basis = np.eye(\n",
    "    cubic_pos_np.size, dtype=cubic_pos_np.dtype\n",
    ").reshape(-1, *cubic_pos_np.shape)\n",
    "\n",
    "full_hessian = []\n",
    "for basis in full_basis:\n",
    "    basis = torch.tensor(basis)\n",
    "    cubic_hessian = jvp(\n",
    "        calc_force,\n",
    "        cubic_pos,\n",
    "        v=basis,\n",
    "        create_graph=True,\n",
    "    )\n",
    "    full_hessian.append(cubic_hessian[1][None,:,:])\n",
    "\n",
    "full_hessian = torch.vstack(full_hessian)\n",
    "full_hessian = full_hessian.reshape(cubic_pos.shape + cubic_pos.shape)\n",
    "\n",
    "full_hessian.shape\n"
   ]
  },
  {
   "cell_type": "code",
   "execution_count": 7,
   "id": "5eca213e",
   "metadata": {},
   "outputs": [],
   "source": [
    "cell = ase.Atoms(cell=cubic_lat.cell, pbc=[True,True,True]).cell\n",
    "rec_vecs_cubic = 2 * np.pi * cell.reciprocal().real\n",
    "mp_band_path_cubic = cell.bandpath(npoints=300)\n",
    "all_kpts_cubic = mp_band_path_cubic.kpts @ rec_vecs_cubic\n"
   ]
  },
  {
   "cell_type": "code",
   "execution_count": null,
   "id": "48c17fea",
   "metadata": {},
   "outputs": [],
   "source": []
  },
  {
   "cell_type": "code",
   "execution_count": 8,
   "id": "1c67f316",
   "metadata": {},
   "outputs": [],
   "source": [
    "def hessian_k(kpt,pos,H,num_atoms,idx0):\n",
    "    Hk = torch.zeros((num_atoms,3,num_atoms,3),dtype=torch.complex64)\n",
    "    num_sites = pos.shape[0]\n",
    "    \n",
    "    for idx1 in range(num_sites):\n",
    "        idx0_1 = idx0[idx1]\n",
    "        for idx2 in range(num_sites):\n",
    "            idx0_2 = idx0[idx2]\n",
    "            Hk[idx0_1,:,idx0_2,:] += H[idx1,:,idx2,:] * torch.exp(-1j*torch.dot(kpt,pos[idx1]-pos[idx2]))\n",
    "    Hk = Hk.reshape((num_atoms*3,num_atoms*3))\n",
    "    return Hk"
   ]
  },
  {
   "cell_type": "code",
   "execution_count": 9,
   "id": "2e2b0845",
   "metadata": {},
   "outputs": [
    {
     "name": "stderr",
     "output_type": "stream",
     "text": [
      "100%|██████████████████████████████████████████████████████| 300/300 [00:00<00:00, 659.93it/s]\n"
     ]
    }
   ],
   "source": [
    "def sqrt(x):\n",
    "    return  np.sign(x) * np.sqrt(np.abs(x))\n",
    "\n",
    "all_eigs_cubic = []\n",
    "num_atoms = 1\n",
    "cubic_idx0 = torch.zeros((7),dtype=torch.long)\n",
    "for kpt in tqdm.tqdm(all_kpts_cubic):\n",
    "    # print(kpt)\n",
    "    #Hk = dynamical_matrix(kpt, cubic_graph, H_cubic, masses = np.array([1.0]))\n",
    "    Hk = hessian_k(kpt=torch.tensor(kpt,dtype=torch.float64),\n",
    "                   pos=cubic_pos,\n",
    "                   H=full_hessian,\n",
    "                   num_atoms=num_atoms,\n",
    "                   idx0=cubic_idx0)\n",
    "    all_eigs_cubic.append(np.sort(sqrt(np.linalg.eigh(Hk.detach().numpy())[0])))\n",
    "\n",
    "all_eigs_cubic = np.stack(all_eigs_cubic)\n",
    "\n",
    "bs_cubic = ase.spectrum.band_structure.BandStructure(mp_band_path_cubic, all_eigs_cubic[None])\n"
   ]
  },
  {
   "cell_type": "code",
   "execution_count": 13,
   "id": "b2ed8b9c",
   "metadata": {},
   "outputs": [
    {
     "data": {
      "text/plain": [
       "Text(0.5, 1.0, 'Simple cubic lattice')"
      ]
     },
     "execution_count": 13,
     "metadata": {},
     "output_type": "execute_result"
    },
    {
     "data": {
      "image/png": "[encoded data removed]",
      "text/plain": [
       "<Figure size 432x288 with 1 Axes>"
      ]
     },
     "metadata": {
      "needs_background": "light"
     },
     "output_type": "display_data"
    }
   ],
   "source": [
    "bs_cubic.plot(emin=1.1 * np.min(all_eigs_cubic), emax=1.3 * np.max(all_eigs_cubic))\n",
    "plt.ylabel(\"F\",size=18)\n",
    "plt.title('Simple cubic lattice')"
   ]
  },
  {
   "cell_type": "code",
   "execution_count": null,
   "id": "cdfc8b91",
   "metadata": {},
   "outputs": [],
   "source": []
  },
  {
   "cell_type": "code",
   "execution_count": null,
   "id": "46c5b2ed",
   "metadata": {},
   "outputs": [],
   "source": []
  },
  {
   "cell_type": "code",
   "execution_count": null,
   "id": "9035c8d4",
   "metadata": {},
   "outputs": [],
   "source": []
  },
  {
   "cell_type": "code",
   "execution_count": null,
   "id": "8ac35d7e",
   "metadata": {},
   "outputs": [],
   "source": []
  },
  {
   "cell_type": "code",
   "execution_count": null,
   "id": "a877fda0",
   "metadata": {},
   "outputs": [],
   "source": []
  },
  {
   "cell_type": "code",
   "execution_count": null,
   "id": "7d84be44",
   "metadata": {},
   "outputs": [],
   "source": []
  },
  {
   "cell_type": "code",
   "execution_count": null,
   "id": "edf5732e",
   "metadata": {},
   "outputs": [],
   "source": []
  },
  {
   "cell_type": "code",
   "execution_count": null,
   "id": "f6cf34c6",
   "metadata": {},
   "outputs": [],
   "source": []
  },
  {
   "cell_type": "code",
   "execution_count": null,
   "id": "11b6e689",
   "metadata": {},
   "outputs": [],
   "source": []
  },
  {
   "cell_type": "code",
   "execution_count": null,
   "id": "b73b1a35",
   "metadata": {},
   "outputs": [],
   "source": []
  },
  {
   "cell_type": "code",
   "execution_count": null,
   "id": "46c1ddee",
   "metadata": {},
   "outputs": [],
   "source": []
  },
  {
   "cell_type": "code",
   "execution_count": null,
   "id": "6bd0ec1b",
   "metadata": {},
   "outputs": [],
   "source": []
  },
  {
   "cell_type": "code",
   "execution_count": null,
   "id": "a6e24011",
   "metadata": {},
   "outputs": [],
   "source": []
  },
  {
   "cell_type": "code",
   "execution_count": null,
   "id": "bd8458f1",
   "metadata": {},
   "outputs": [],
   "source": []
  },
  {
   "cell_type": "code",
   "execution_count": null,
   "id": "f9bff64e",
   "metadata": {},
   "outputs": [],
   "source": []
  },
  {
   "cell_type": "code",
   "execution_count": null,
   "id": "880b15e8",
   "metadata": {},
   "outputs": [],
   "source": []
  },
  {
   "cell_type": "code",
   "execution_count": null,
   "id": "b6db49f2",
   "metadata": {},
   "outputs": [],
   "source": []
  },
  {
   "cell_type": "code",
   "execution_count": null,
   "id": "2c2dc951",
   "metadata": {},
   "outputs": [],
   "source": []
  },
  {
   "cell_type": "code",
   "execution_count": null,
   "id": "c5529ae8",
   "metadata": {},
   "outputs": [],
   "source": []
  },
  {
   "cell_type": "code",
   "execution_count": null,
   "id": "2c100630",
   "metadata": {},
   "outputs": [],
   "source": []
  }
 ],
 "metadata": {
  "kernelspec": {
   "display_name": "Python 3 (ipykernel)",
   "language": "python",
   "name": "python3"
  },
  "language_info": {
   "codemirror_mode": {
    "name": "ipython",
    "version": 3
   },
   "file_extension": ".py",
   "mimetype": "text/x-python",
   "name": "python",
   "nbconvert_exporter": "python",
   "pygments_lexer": "ipython3",
   "version": "3.9.13"
  }
 },
 "nbformat": 4,
 "nbformat_minor": 5
}
