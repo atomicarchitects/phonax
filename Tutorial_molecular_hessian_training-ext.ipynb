{
 "cells": [
  {
   "cell_type": "code",
   "execution_count": 1,
   "id": "4ba0e8af",
   "metadata": {},
   "outputs": [],
   "source": [
    "import json\n",
    "import os\n",
    "import pickle\n",
    "import random\n",
    "import sys\n",
    "import pickle\n",
    "\n",
    "from typing import Callable, Dict, List, Optional\n",
    "import haiku as hk\n",
    "import ase\n",
    "import ase.io\n",
    "import jax\n",
    "import jax.numpy as jnp\n",
    "import numpy as np\n",
    "import optax\n",
    "import yaml\n",
    "\n",
    "from phonax.datasets import (\n",
    "    datasets,\n",
    "    ph_datasets,\n",
    ")\n",
    "from phonax.optimizer import optimizer\n",
    "from phonax.energy_force_train import energy_force_train\n",
    "from phonax.loss import (\n",
    "    WeightedEnergyFrocesStressLoss,\n",
    "    HessianLoss,\n",
    ")\n",
    "from phonax.nequip_model import NequIP_JAXMD_model\n",
    "\n",
    "from phonax.utils import (\n",
    "    create_directory_with_random_name,\n",
    ")\n",
    "\n",
    "from phonax.phonons_train import (\n",
    "    ph_evaluate,\n",
    "    hessian_train,\n",
    "    two_stage_hessian_train,\n",
    ")\n",
    "\n",
    "from phonax.predictors import (\n",
    "    predict_energy_forces_stress,\n",
    "    predict_hessian,\n",
    ")\n",
    "from phonax.phonons import (\n",
    "    atoms_to_ext_graph, \n",
    "    predict_gamma_spectra_filter\n",
    ")\n",
    "\n",
    "from phonax.data_utils import to_f32\n",
    "\n",
    "from phonax.trained_models import NequIP_JAXMD_molecule_model   \n",
    "\n",
    "jax.config.update(\"jax_debug_nans\", True)\n",
    "jax.config.update(\"jax_debug_infs\", True)\n",
    "np.set_printoptions(precision=3, suppress=True)"
   ]
  },
  {
   "cell_type": "markdown",
   "id": "7cbdbebf",
   "metadata": {},
   "source": [
    "# Introduction\n",
    "\n",
    "Previously, we have been making the second derivative Hessian matrix predictions given an energy model, which is trained with zeroth and first order derivative data (i.e. energy and forces).\n",
    "Here in this tutorial, we will demonstrate an alternative view of the Hessian data, and use them as part of the training data (the Hessian matrix, or the eigenvalue spectrum).\n",
    "\n",
    "As discussed in our work, this augments the training dataset in converging the energy models. Locally, the second derivative data improves the local curvatures of the energy model landscape.\n",
    "To demonstrate this here, we use molecular cases as the examples. There are two parts of this tutorial, the first one focuses on using the Hessian matrix as an extended data type to train the energy model/functional. The second part uses the eigenvalues of the Hessian matrix instead. The implications are the connections to the experimental probes for the vibrational modes such as IR / Raman / inelastic neutron scatterings.\n",
    "This enables the energy model training or fine-tuning with realistic experimental data."
   ]
  },
  {
   "cell_type": "markdown",
   "id": "a8f51379",
   "metadata": {},
   "source": [
    "## Energy model training with molecular Hessian data\n",
    "\n",
    "This section focuses on using the Hessian matrix as an extended data type to train the energy model/functional for the interatomic potentials.\n",
    "The training procedure can be viewed as an extension to the conventional interatomic potential training using only the zeroth and first order training data for the energy landscape (i.e. energy and force).\n",
    "\n",
    "For the specific example, we consdier the propane molecules as discussed in our work.\n",
    "The structure of a propane molecule is mainly defined by the two torsion angles $\\phi_1, \\phi_2$ for the two C-C bonds.\n",
    "Due to the symmetry, we only need to consider the range $[0,2\\pi/3]$ for $\\phi_i$.\n",
    "In the valid dataset for the forces (in deriving the force MAE), we have scanned the $\\phi_1, \\phi_2$ angles ($31 \\times 31$ grid). At each torsion angle combination, we also add a small Gaussian noise to the atomic coordinates.\n",
    "\n",
    "In the training dataset, we only use four randomly generated propane structures (randomized torsion angles and perturbed atomic coordinates).\n",
    "For the conventional training procedure, only the energy / force data is used, while the full molecular Hessians are added in the new training procedure to utilize the second order derivative information.\n",
    "Below, we give more details for setting up these trainings.\n",
    "\n",
    "\n"
   ]
  },
  {
   "cell_type": "markdown",
   "id": "f4bf1adb",
   "metadata": {},
   "source": [
    "### Initialize the training procedures\n",
    "\n",
    "Here we load the training configurations and datasets, initialize the model, loss functions, and the predictors used for the next training steps."
   ]
  },
  {
   "cell_type": "code",
   "execution_count": 2,
   "id": "71edbe14",
   "metadata": {},
   "outputs": [
    {
     "name": "stdout",
     "output_type": "stream",
     "text": [
      "2024-01-11-21:14-xenophobic-aridatha\n",
      "2024-01-11-21:14-xenophobic-aridatha\n",
      "nums check 256 2048 10\n",
      "Loaded 40 training configurations from 'data/propane/propane_force_N4.xyz'\n",
      "Loaded 9610 validation configurations from 'data/propane/propane_v2_mesh_PBE_force.xyz'\n",
      "Total number of configurations: train=40, valid=9610, test=0\n"
     ]
    },
    {
     "name": "stderr",
     "output_type": "stream",
     "text": [
      "100%|████████████████████████████████████████| 40/40 [00:00<00:00, 23250.02it/s]\n",
      "100%|████████████████████████████████████| 9610/9610 [00:00<00:00, 24722.09it/s]\n",
      "0it [00:00, ?it/s]\n",
      "Pad train: 100%|███████████████████████████| 4356/4356 [00:16<00:00, 256.28it/s]\n",
      "Pad valid: 100%|███████████████████████████| 1000/1000 [00:03<00:00, 272.31it/s]\n"
     ]
    },
    {
     "name": "stdout",
     "output_type": "stream",
     "text": [
      "Total number of configurations: train=4356, valid=1000, test=0\n",
      "Compute the average number of neighbors: 10.000\n",
      "Do not normalize the radial basis (avg_r_min=None)\n",
      "Computed average Atomic Energies using least squares: {1: -6.220972980547945, 6: -2.3328648677054784}\n",
      "Create NequIP (JAX-MD version) with parameters {'use_sc': True, 'graph_net_steps': 2, 'hidden_irreps': '24x0e+24x0o+12x1e+12x1o+8x2e+8x2o', 'nonlinearities': {'e': 'swish', 'o': 'tanh'}, 'r_max': 5.0, 'avg_num_neighbors': 10.0, 'avg_r_min': None, 'num_species': 100, 'radial_basis': <function bessel_basis at 0x7fb719c41080>, 'radial_envelope': <function soft_envelope at 0x7fb719c40fe0>}\n",
      "num_params: 105836\n"
     ]
    }
   ],
   "source": [
    "# Load the config files\n",
    "with open('data/propane/mol-propane.yaml') as f:\n",
    "    config = yaml.load(f, Loader=yaml.FullLoader)\n",
    "        \n",
    "if 'save_dir_name' in config:\n",
    "    save_dir_name = config['save_dir_name']\n",
    "else:\n",
    "    save_dir_name = create_directory_with_random_name()\n",
    "print(save_dir_name)\n",
    "        #os.path.splitext(os.path.basename(sys.argv[1]))[0]\n",
    "        \n",
    "# Save config and code\n",
    "with open(f\"{save_dir_name}/config.yaml\", \"w\") as f:\n",
    "    yaml.dump(config, f)\n",
    "    \n",
    "# Load the energy/force training/valid dataset\n",
    "EF_train_loader, EF_valid_loader, EF_test_loader, EF_r_max = datasets(\n",
    "    r_max = config[\"cutoff\"],\n",
    "    config_dataset = config[\"dataset\"],\n",
    ")\n",
    "#print(len(EF_train_loader.graphs),len(EF_valid_loader.graphs))\n",
    "\n",
    "# Load the Hessian training/valid dataset\n",
    "ph_train_loader, ph_valid_loader, ph_test_loader, ph_r_max, num_message_passing = ph_datasets(\n",
    "    r_max = config[\"cutoff\"],\n",
    "    config_dataset = config[\"ph_dataset\"],\n",
    "    num_message_passing = config['model']['num_layers'],\n",
    ")\n",
    "#print(len(ph_train_loader.graphs),len(ph_valid_loader.graphs))\n",
    "\n",
    "assert ph_r_max==EF_r_max\n",
    "r_max = EF_r_max\n",
    "\n",
    "# Initialize the NequIP model\n",
    "model_fn, params, num_message_passing = NequIP_JAXMD_model(\n",
    "    r_max=r_max,\n",
    "    atomic_energies_dict={},\n",
    "    train_graphs=EF_train_loader.graphs,\n",
    "    initialize_seed=config[\"model\"][\"seed\"],\n",
    "    num_species = config[\"model\"][\"num_species\"],\n",
    "    use_sc = True,\n",
    "    graph_net_steps = config[\"model\"][\"num_layers\"],\n",
    "    hidden_irreps = config[\"model\"][\"internal_irreps\"],\n",
    "    nonlinearities =  {'e': 'swish', 'o': 'tanh'},\n",
    "    save_dir_name = save_dir_name,\n",
    "    reload = config[\"initialization\"]['reload'] if 'reload' in config[\"initialization\"] else None,\n",
    ")\n",
    "    \n",
    "print(\"num_params:\", sum(p.size for p in jax.tree_util.tree_leaves(params)))\n",
    "\n",
    "# Define Loss functions for energy/force and Hessians\n",
    "EF_loss_fn = WeightedEnergyFrocesStressLoss(\n",
    "    energy_weight = config[\"training\"][\"energy_weight\"],\n",
    "    forces_weight = config[\"training\"][\"forces_weight\"],\n",
    "    stress_weight = config[\"training\"][\"stress_weight\"],\n",
    ")\n",
    "\n",
    "H_loss_fn = HessianLoss()\n",
    "\n",
    "# Predictors for the energy/force/stress and Hessians\n",
    "EF_predictor = jax.jit(\n",
    "    lambda w, g: predict_energy_forces_stress(lambda *x: model_fn(w, *x), g)\n",
    ")\n",
    "\n",
    "H_predictor = jax.jit(\n",
    "    lambda w, g: predict_hessian(lambda *x: model_fn(w, *x), g)\n",
    ")\n"
   ]
  },
  {
   "cell_type": "markdown",
   "id": "e5d7b929-3e9a-450a-910b-b1db2641ee24",
   "metadata": {},
   "source": [
    "### Training with energy / force training data\n",
    "\n",
    "In this section, we demonstrate the energy model training by using only the energy and force training data, as is done in the conventional interatomic potential model training procedure.\n",
    "Note in this simple propane molecule example, we only use four molecular configurations in the training dataset.\n",
    "\n"
   ]
  },
  {
   "cell_type": "code",
   "execution_count": 3,
   "id": "2057e4cf",
   "metadata": {
    "scrolled": true
   },
   "outputs": [
    {
     "name": "stdout",
     "output_type": "stream",
     "text": [
      "optimizer num_params: 317510\n",
      "Started training\n"
     ]
    },
    {
     "name": "stderr",
     "output_type": "stream",
     "text": [
      "eval_train:   0%|                                         | 0/4 [00:00<?, ?it/s]"
     ]
    },
    {
     "name": "stdout",
     "output_type": "stream",
     "text": [
      "Compiled function `model` for args:\n",
      "cache size: 1\n"
     ]
    },
    {
     "name": "stderr",
     "output_type": "stream",
     "text": [
      "eval_train: 100%|███████████████████████████| 4/4 [00:05<00:00,  1.35s/it, n=36]\n"
     ]
    },
    {
     "name": "stdout",
     "output_type": "stream",
     "text": [
      "Interval 0: eval_train: loss=44.3532, mae_e_per_atom=750.6 meV, mae_f=522.2 meV/Å, mae_s=0.8 meV/Å³\n"
     ]
    },
    {
     "name": "stderr",
     "output_type": "stream",
     "text": [
      "eval_valid: 100%|██████████████████▉| 1066/1068 [00:15<00:00, 68.81it/s, n=9603]"
     ]
    },
    {
     "name": "stdout",
     "output_type": "stream",
     "text": [
      "Compiled function `model` for args:\n",
      "cache size: 2\n"
     ]
    },
    {
     "name": "stderr",
     "output_type": "stream",
     "text": [
      "eval_valid: 100%|███████████████████| 1068/1068 [00:20<00:00, 52.43it/s, n=9610]\n"
     ]
    },
    {
     "name": "stdout",
     "output_type": "stream",
     "text": [
      "Interval 0: eval_valid: loss=49.4872, mae_e_per_atom=754.2 meV, mae_f=550.4 meV/Å, mae_s=0.8 meV/Å³\n"
     ]
    },
    {
     "name": "stderr",
     "output_type": "stream",
     "text": [
      "Train interval 0:   2%|▏           | 10/500 [00:07<04:14,  1.92it/s, loss=3.499]"
     ]
    },
    {
     "name": "stdout",
     "output_type": "stream",
     "text": [
      "Compiled function `update_fn` for args:\n",
      "Outout: loss= 39.634\n",
      "Compilation time: 7.050s, cache size: 1\n",
      "Compiled function `update_fn` for args:\n",
      "Outout: loss= 35.488\n",
      "Compilation time: 0.015s, cache size: 2\n"
     ]
    },
    {
     "name": "stderr",
     "output_type": "stream",
     "text": [
      "Train interval 0: 100%|███████████| 500/500 [00:13<00:00, 38.16it/s, loss=0.062]\n",
      "eval_train: 100%|███████████████████████████| 4/4 [00:00<00:00, 66.92it/s, n=36]\n"
     ]
    },
    {
     "name": "stdout",
     "output_type": "stream",
     "text": [
      "Interval 1: eval_train: loss=0.0677, mae_e_per_atom=0.3 meV, mae_f=24.0 meV/Å, mae_s=1.2 meV/Å³\n"
     ]
    },
    {
     "name": "stderr",
     "output_type": "stream",
     "text": [
      "eval_valid: 100%|███████████████████| 1068/1068 [00:15<00:00, 68.53it/s, n=9610]\n"
     ]
    },
    {
     "name": "stdout",
     "output_type": "stream",
     "text": [
      "Interval 1: eval_valid: loss=1.0084, mae_e_per_atom=1.1 meV, mae_f=67.1 meV/Å, mae_s=1.4 meV/Å³\n"
     ]
    },
    {
     "name": "stderr",
     "output_type": "stream",
     "text": [
      "Train interval 1: 100%|███████████| 500/500 [00:06<00:00, 83.25it/s, loss=0.034]\n",
      "eval_train: 100%|███████████████████████████| 4/4 [00:00<00:00, 67.81it/s, n=36]\n"
     ]
    },
    {
     "name": "stdout",
     "output_type": "stream",
     "text": [
      "Interval 2: eval_train: loss=0.0389, mae_e_per_atom=0.6 meV, mae_f=18.5 meV/Å, mae_s=1.2 meV/Å³\n"
     ]
    },
    {
     "name": "stderr",
     "output_type": "stream",
     "text": [
      "eval_valid: 100%|███████████████████| 1068/1068 [00:15<00:00, 68.32it/s, n=9610]\n"
     ]
    },
    {
     "name": "stdout",
     "output_type": "stream",
     "text": [
      "Interval 2: eval_valid: loss=1.0545, mae_e_per_atom=1.4 meV, mae_f=68.2 meV/Å, mae_s=1.4 meV/Å³\n"
     ]
    },
    {
     "name": "stderr",
     "output_type": "stream",
     "text": [
      "Train interval 2: 100%|███████████| 500/500 [00:06<00:00, 82.01it/s, loss=0.024]\n",
      "eval_train: 100%|███████████████████████████| 4/4 [00:00<00:00, 65.20it/s, n=36]\n"
     ]
    },
    {
     "name": "stdout",
     "output_type": "stream",
     "text": [
      "Interval 3: eval_train: loss=0.0249, mae_e_per_atom=0.7 meV, mae_f=15.1 meV/Å, mae_s=1.2 meV/Å³\n"
     ]
    },
    {
     "name": "stderr",
     "output_type": "stream",
     "text": [
      "eval_valid: 100%|███████████████████| 1068/1068 [00:15<00:00, 68.15it/s, n=9610]\n"
     ]
    },
    {
     "name": "stdout",
     "output_type": "stream",
     "text": [
      "Interval 3: eval_valid: loss=1.0137, mae_e_per_atom=1.5 meV, mae_f=66.9 meV/Å, mae_s=1.4 meV/Å³\n"
     ]
    },
    {
     "name": "stderr",
     "output_type": "stream",
     "text": [
      "Train interval 3: 100%|███████████| 500/500 [00:06<00:00, 82.24it/s, loss=0.034]\n",
      "eval_train: 100%|███████████████████████████| 4/4 [00:00<00:00, 67.15it/s, n=36]\n"
     ]
    },
    {
     "name": "stdout",
     "output_type": "stream",
     "text": [
      "Interval 4: eval_train: loss=0.0136, mae_e_per_atom=0.8 meV, mae_f=11.3 meV/Å, mae_s=1.2 meV/Å³\n"
     ]
    },
    {
     "name": "stderr",
     "output_type": "stream",
     "text": [
      "eval_valid: 100%|███████████████████| 1068/1068 [00:15<00:00, 67.95it/s, n=9610]\n"
     ]
    },
    {
     "name": "stdout",
     "output_type": "stream",
     "text": [
      "Interval 4: eval_valid: loss=0.9484, mae_e_per_atom=1.3 meV, mae_f=63.6 meV/Å, mae_s=1.4 meV/Å³\n"
     ]
    },
    {
     "name": "stderr",
     "output_type": "stream",
     "text": [
      "Train interval 4: 100%|███████████| 500/500 [00:06<00:00, 82.11it/s, loss=0.009]\n",
      "eval_train: 100%|███████████████████████████| 4/4 [00:00<00:00, 66.66it/s, n=36]\n"
     ]
    },
    {
     "name": "stdout",
     "output_type": "stream",
     "text": [
      "Interval 5: eval_train: loss=0.0079, mae_e_per_atom=0.7 meV, mae_f=8.6 meV/Å, mae_s=1.2 meV/Å³\n"
     ]
    },
    {
     "name": "stderr",
     "output_type": "stream",
     "text": [
      "eval_valid: 100%|███████████████████| 1068/1068 [00:15<00:00, 67.82it/s, n=9610]\n"
     ]
    },
    {
     "name": "stdout",
     "output_type": "stream",
     "text": [
      "Interval 5: eval_valid: loss=0.8525, mae_e_per_atom=1.2 meV, mae_f=59.0 meV/Å, mae_s=1.4 meV/Å³\n"
     ]
    },
    {
     "name": "stderr",
     "output_type": "stream",
     "text": [
      "Train interval 5: 100%|███████████| 500/500 [00:06<00:00, 82.29it/s, loss=0.005]\n",
      "eval_train: 100%|███████████████████████████| 4/4 [00:00<00:00, 65.06it/s, n=36]\n"
     ]
    },
    {
     "name": "stdout",
     "output_type": "stream",
     "text": [
      "Interval 6: eval_train: loss=0.0051, mae_e_per_atom=0.5 meV, mae_f=6.8 meV/Å, mae_s=1.2 meV/Å³\n"
     ]
    },
    {
     "name": "stderr",
     "output_type": "stream",
     "text": [
      "eval_valid: 100%|███████████████████| 1068/1068 [00:15<00:00, 67.84it/s, n=9610]\n"
     ]
    },
    {
     "name": "stdout",
     "output_type": "stream",
     "text": [
      "Interval 6: eval_valid: loss=0.7972, mae_e_per_atom=1.3 meV, mae_f=55.4 meV/Å, mae_s=1.4 meV/Å³\n"
     ]
    },
    {
     "name": "stderr",
     "output_type": "stream",
     "text": [
      "Train interval 6: 100%|███████████| 500/500 [00:06<00:00, 81.76it/s, loss=0.007]\n",
      "eval_train: 100%|███████████████████████████| 4/4 [00:00<00:00, 66.67it/s, n=36]\n"
     ]
    },
    {
     "name": "stdout",
     "output_type": "stream",
     "text": [
      "Interval 7: eval_train: loss=0.0036, mae_e_per_atom=0.3 meV, mae_f=5.7 meV/Å, mae_s=1.2 meV/Å³\n"
     ]
    },
    {
     "name": "stderr",
     "output_type": "stream",
     "text": [
      "eval_valid: 100%|███████████████████| 1068/1068 [00:15<00:00, 67.73it/s, n=9610]\n"
     ]
    },
    {
     "name": "stdout",
     "output_type": "stream",
     "text": [
      "Interval 7: eval_valid: loss=0.7833, mae_e_per_atom=1.2 meV, mae_f=53.6 meV/Å, mae_s=1.4 meV/Å³\n"
     ]
    },
    {
     "name": "stderr",
     "output_type": "stream",
     "text": [
      "Train interval 7: 100%|███████████| 500/500 [00:06<00:00, 81.45it/s, loss=0.004]\n",
      "eval_train: 100%|███████████████████████████| 4/4 [00:00<00:00, 67.92it/s, n=36]\n"
     ]
    },
    {
     "name": "stdout",
     "output_type": "stream",
     "text": [
      "Interval 8: eval_train: loss=0.0028, mae_e_per_atom=0.3 meV, mae_f=5.0 meV/Å, mae_s=1.2 meV/Å³\n"
     ]
    },
    {
     "name": "stderr",
     "output_type": "stream",
     "text": [
      "eval_valid: 100%|███████████████████| 1068/1068 [00:15<00:00, 67.94it/s, n=9610]\n"
     ]
    },
    {
     "name": "stdout",
     "output_type": "stream",
     "text": [
      "Interval 8: eval_valid: loss=0.7885, mae_e_per_atom=1.0 meV, mae_f=52.6 meV/Å, mae_s=1.4 meV/Å³\n"
     ]
    },
    {
     "name": "stderr",
     "output_type": "stream",
     "text": [
      "Train interval 8: 100%|███████████| 500/500 [00:06<00:00, 81.24it/s, loss=0.005]\n",
      "eval_train: 100%|███████████████████████████| 4/4 [00:00<00:00, 67.24it/s, n=36]\n"
     ]
    },
    {
     "name": "stdout",
     "output_type": "stream",
     "text": [
      "Interval 9: eval_train: loss=0.0023, mae_e_per_atom=0.3 meV, mae_f=4.4 meV/Å, mae_s=1.2 meV/Å³\n"
     ]
    },
    {
     "name": "stderr",
     "output_type": "stream",
     "text": [
      "eval_valid: 100%|███████████████████| 1068/1068 [00:15<00:00, 67.66it/s, n=9610]\n"
     ]
    },
    {
     "name": "stdout",
     "output_type": "stream",
     "text": [
      "Interval 9: eval_valid: loss=0.8120, mae_e_per_atom=1.0 meV, mae_f=52.5 meV/Å, mae_s=1.4 meV/Å³\n"
     ]
    },
    {
     "name": "stderr",
     "output_type": "stream",
     "text": [
      "Train interval 9: 100%|███████████| 500/500 [00:06<00:00, 80.99it/s, loss=0.002]\n",
      "eval_train: 100%|███████████████████████████| 4/4 [00:00<00:00, 66.04it/s, n=36]\n"
     ]
    },
    {
     "name": "stdout",
     "output_type": "stream",
     "text": [
      "Interval 10: eval_train: loss=0.0019, mae_e_per_atom=0.2 meV, mae_f=4.0 meV/Å, mae_s=1.2 meV/Å³\n"
     ]
    },
    {
     "name": "stderr",
     "output_type": "stream",
     "text": [
      "eval_valid: 100%|███████████████████| 1068/1068 [00:15<00:00, 67.43it/s, n=9610]\n"
     ]
    },
    {
     "name": "stdout",
     "output_type": "stream",
     "text": [
      "Interval 10: eval_valid: loss=0.8345, mae_e_per_atom=1.0 meV, mae_f=52.4 meV/Å, mae_s=1.4 meV/Å³\n"
     ]
    },
    {
     "name": "stderr",
     "output_type": "stream",
     "text": [
      "Train interval 10: 100%|██████████| 500/500 [00:05<00:00, 85.00it/s, loss=0.002]\n",
      "eval_train: 100%|███████████████████████████| 4/4 [00:00<00:00, 67.82it/s, n=36]\n"
     ]
    },
    {
     "name": "stdout",
     "output_type": "stream",
     "text": [
      "Interval 11: eval_train: loss=0.0016, mae_e_per_atom=0.1 meV, mae_f=3.7 meV/Å, mae_s=1.2 meV/Å³\n"
     ]
    },
    {
     "name": "stderr",
     "output_type": "stream",
     "text": [
      "eval_valid: 100%|███████████████████| 1068/1068 [00:15<00:00, 68.92it/s, n=9610]\n"
     ]
    },
    {
     "name": "stdout",
     "output_type": "stream",
     "text": [
      "Interval 11: eval_valid: loss=0.8648, mae_e_per_atom=1.1 meV, mae_f=52.8 meV/Å, mae_s=1.4 meV/Å³\n"
     ]
    },
    {
     "name": "stderr",
     "output_type": "stream",
     "text": [
      "Train interval 11: 100%|██████████| 500/500 [00:05<00:00, 84.68it/s, loss=0.002]\n",
      "eval_train: 100%|███████████████████████████| 4/4 [00:00<00:00, 63.89it/s, n=36]\n"
     ]
    },
    {
     "name": "stdout",
     "output_type": "stream",
     "text": [
      "Interval 12: eval_train: loss=0.0014, mae_e_per_atom=0.1 meV, mae_f=3.4 meV/Å, mae_s=1.2 meV/Å³\n"
     ]
    },
    {
     "name": "stderr",
     "output_type": "stream",
     "text": [
      "eval_valid: 100%|███████████████████| 1068/1068 [00:15<00:00, 69.02it/s, n=9610]\n"
     ]
    },
    {
     "name": "stdout",
     "output_type": "stream",
     "text": [
      "Interval 12: eval_valid: loss=0.9025, mae_e_per_atom=1.0 meV, mae_f=53.4 meV/Å, mae_s=1.4 meV/Å³\n"
     ]
    },
    {
     "name": "stderr",
     "output_type": "stream",
     "text": [
      "Train interval 12: 100%|██████████| 500/500 [00:05<00:00, 84.26it/s, loss=0.001]\n",
      "eval_train: 100%|███████████████████████████| 4/4 [00:00<00:00, 67.95it/s, n=36]\n"
     ]
    },
    {
     "name": "stdout",
     "output_type": "stream",
     "text": [
      "Interval 13: eval_train: loss=0.0012, mae_e_per_atom=0.2 meV, mae_f=3.2 meV/Å, mae_s=1.2 meV/Å³\n"
     ]
    },
    {
     "name": "stderr",
     "output_type": "stream",
     "text": [
      "eval_valid: 100%|███████████████████| 1068/1068 [00:15<00:00, 69.02it/s, n=9610]\n"
     ]
    },
    {
     "name": "stdout",
     "output_type": "stream",
     "text": [
      "Interval 13: eval_valid: loss=0.9284, mae_e_per_atom=1.2 meV, mae_f=53.8 meV/Å, mae_s=1.4 meV/Å³\n"
     ]
    },
    {
     "name": "stderr",
     "output_type": "stream",
     "text": [
      "Train interval 13: 100%|██████████| 500/500 [00:05<00:00, 83.88it/s, loss=0.002]\n",
      "eval_train: 100%|███████████████████████████| 4/4 [00:00<00:00, 65.86it/s, n=36]\n"
     ]
    },
    {
     "name": "stdout",
     "output_type": "stream",
     "text": [
      "Interval 14: eval_train: loss=0.0011, mae_e_per_atom=0.1 meV, mae_f=3.0 meV/Å, mae_s=1.2 meV/Å³\n"
     ]
    },
    {
     "name": "stderr",
     "output_type": "stream",
     "text": [
      "eval_valid: 100%|███████████████████| 1068/1068 [00:15<00:00, 69.05it/s, n=9610]\n"
     ]
    },
    {
     "name": "stdout",
     "output_type": "stream",
     "text": [
      "Interval 14: eval_valid: loss=0.9599, mae_e_per_atom=1.1 meV, mae_f=54.3 meV/Å, mae_s=1.4 meV/Å³\n"
     ]
    },
    {
     "name": "stderr",
     "output_type": "stream",
     "text": [
      "Train interval 14: 100%|██████████| 500/500 [00:05<00:00, 84.13it/s, loss=0.001]\n",
      "eval_train: 100%|███████████████████████████| 4/4 [00:00<00:00, 67.76it/s, n=36]\n"
     ]
    },
    {
     "name": "stdout",
     "output_type": "stream",
     "text": [
      "Interval 15: eval_train: loss=0.0009, mae_e_per_atom=0.2 meV, mae_f=2.8 meV/Å, mae_s=1.2 meV/Å³\n"
     ]
    },
    {
     "name": "stderr",
     "output_type": "stream",
     "text": [
      "eval_valid: 100%|███████████████████| 1068/1068 [00:15<00:00, 68.55it/s, n=9610]\n"
     ]
    },
    {
     "name": "stdout",
     "output_type": "stream",
     "text": [
      "Interval 15: eval_valid: loss=0.9881, mae_e_per_atom=1.2 meV, mae_f=54.8 meV/Å, mae_s=1.4 meV/Å³\n"
     ]
    },
    {
     "name": "stderr",
     "output_type": "stream",
     "text": [
      "Train interval 15: 100%|██████████| 500/500 [00:05<00:00, 83.52it/s, loss=0.001]\n",
      "eval_train: 100%|███████████████████████████| 4/4 [00:00<00:00, 68.34it/s, n=36]\n"
     ]
    },
    {
     "name": "stdout",
     "output_type": "stream",
     "text": [
      "Interval 16: eval_train: loss=0.0008, mae_e_per_atom=0.2 meV, mae_f=2.6 meV/Å, mae_s=1.2 meV/Å³\n"
     ]
    },
    {
     "name": "stderr",
     "output_type": "stream",
     "text": [
      "eval_valid: 100%|███████████████████| 1068/1068 [00:15<00:00, 68.27it/s, n=9610]\n"
     ]
    },
    {
     "name": "stdout",
     "output_type": "stream",
     "text": [
      "Interval 16: eval_valid: loss=1.0164, mae_e_per_atom=1.2 meV, mae_f=55.3 meV/Å, mae_s=1.4 meV/Å³\n"
     ]
    },
    {
     "name": "stderr",
     "output_type": "stream",
     "text": [
      "Train interval 16: 100%|██████████| 500/500 [00:05<00:00, 83.70it/s, loss=0.001]\n",
      "eval_train: 100%|███████████████████████████| 4/4 [00:00<00:00, 66.20it/s, n=36]\n"
     ]
    },
    {
     "name": "stdout",
     "output_type": "stream",
     "text": [
      "Interval 17: eval_train: loss=0.0007, mae_e_per_atom=0.1 meV, mae_f=2.5 meV/Å, mae_s=1.2 meV/Å³\n"
     ]
    },
    {
     "name": "stderr",
     "output_type": "stream",
     "text": [
      "eval_valid: 100%|███████████████████| 1068/1068 [00:15<00:00, 69.14it/s, n=9610]\n"
     ]
    },
    {
     "name": "stdout",
     "output_type": "stream",
     "text": [
      "Interval 17: eval_valid: loss=1.0375, mae_e_per_atom=1.0 meV, mae_f=55.6 meV/Å, mae_s=1.4 meV/Å³\n"
     ]
    },
    {
     "name": "stderr",
     "output_type": "stream",
     "text": [
      "Train interval 17: 100%|██████████| 500/500 [00:05<00:00, 84.00it/s, loss=0.001]\n",
      "eval_train: 100%|███████████████████████████| 4/4 [00:00<00:00, 63.45it/s, n=36]\n"
     ]
    },
    {
     "name": "stdout",
     "output_type": "stream",
     "text": [
      "Interval 18: eval_train: loss=0.0007, mae_e_per_atom=0.1 meV, mae_f=2.4 meV/Å, mae_s=1.2 meV/Å³\n"
     ]
    },
    {
     "name": "stderr",
     "output_type": "stream",
     "text": [
      "eval_valid: 100%|███████████████████| 1068/1068 [00:15<00:00, 68.53it/s, n=9610]\n"
     ]
    },
    {
     "name": "stdout",
     "output_type": "stream",
     "text": [
      "Interval 18: eval_valid: loss=1.0589, mae_e_per_atom=1.0 meV, mae_f=56.1 meV/Å, mae_s=1.4 meV/Å³\n"
     ]
    },
    {
     "name": "stderr",
     "output_type": "stream",
     "text": [
      "Train interval 18: 100%|██████████| 500/500 [00:05<00:00, 83.69it/s, loss=0.001]\n",
      "eval_train: 100%|███████████████████████████| 4/4 [00:00<00:00, 66.97it/s, n=36]\n"
     ]
    },
    {
     "name": "stdout",
     "output_type": "stream",
     "text": [
      "Interval 19: eval_train: loss=0.0006, mae_e_per_atom=0.2 meV, mae_f=2.2 meV/Å, mae_s=1.2 meV/Å³\n"
     ]
    },
    {
     "name": "stderr",
     "output_type": "stream",
     "text": [
      "eval_valid: 100%|███████████████████| 1068/1068 [00:15<00:00, 68.68it/s, n=9610]\n"
     ]
    },
    {
     "name": "stdout",
     "output_type": "stream",
     "text": [
      "Interval 19: eval_valid: loss=1.0751, mae_e_per_atom=1.1 meV, mae_f=56.3 meV/Å, mae_s=1.4 meV/Å³\n"
     ]
    },
    {
     "name": "stderr",
     "output_type": "stream",
     "text": [
      "Train interval 19: 100%|██████████| 500/500 [00:06<00:00, 82.83it/s, loss=0.001]\n",
      "eval_train: 100%|███████████████████████████| 4/4 [00:00<00:00, 65.39it/s, n=36]\n"
     ]
    },
    {
     "name": "stdout",
     "output_type": "stream",
     "text": [
      "Interval 20: eval_train: loss=0.0005, mae_e_per_atom=0.1 meV, mae_f=2.1 meV/Å, mae_s=1.2 meV/Å³\n"
     ]
    },
    {
     "name": "stderr",
     "output_type": "stream",
     "text": [
      "eval_valid: 100%|███████████████████| 1068/1068 [00:15<00:00, 68.39it/s, n=9610]\n"
     ]
    },
    {
     "name": "stdout",
     "output_type": "stream",
     "text": [
      "Interval 20: eval_valid: loss=1.0961, mae_e_per_atom=1.2 meV, mae_f=56.6 meV/Å, mae_s=1.4 meV/Å³\n",
      "Training complete\n"
     ]
    }
   ],
   "source": [
    "# force only training\n",
    "\n",
    "Fonly_params = params.copy()\n",
    "\n",
    "gradient_transform, steps_per_interval, max_num_intervals = optimizer(\n",
    "    lr = config[\"training\"][\"learning_rate\"],\n",
    "    max_num_intervals = config[\"training\"][\"max_num_intervals\"],\n",
    "    steps_per_interval = config[\"training\"][\"steps_per_interval\"],\n",
    "    # weight_decay = config[\"training\"][\"weight_decay\"],\n",
    ")\n",
    "optimizer_state = gradient_transform.init(params)\n",
    "print(\"optimizer num_params:\", sum(p.size for p in jax.tree_util.tree_leaves(optimizer_state)))\n",
    "    \n",
    "train_out = energy_force_train(\n",
    "    EF_predictor,\n",
    "    Fonly_params,\n",
    "    optimizer_state,\n",
    "    EF_train_loader,\n",
    "    EF_valid_loader,\n",
    "    EF_test_loader,\n",
    "    gradient_transform,\n",
    "    EF_loss_fn,\n",
    "    max_num_intervals,\n",
    "    steps_per_interval,\n",
    "    save_dir_name,\n",
    "    ema_decay = config[\"training\"][\"ema_decay\"],\n",
    "    patience = config[\"training\"][\"patience\"],\n",
    ")\n",
    "\n"
   ]
  },
  {
   "cell_type": "markdown",
   "id": "5e6004b5-f604-4611-affb-b164732969bb",
   "metadata": {},
   "source": [
    "### Training with molecular Hessians\n",
    "\n",
    "In the next section, we show the energy model training with additional second order Hessian data beynd the force data at the first order derivative.\n",
    "Specifically, there are two tages in the training procedure.\n",
    "The first stage, or the warm-up stage, uses only the energy and force data to initialize the energy model training.\n",
    "After trained with several warm-up steps, the second training stage adds the Hessian data in computing the loss function.\n",
    "At the second stage, the update gradients come from both the energy / force training losses, and the Hessian losses, and we combine the two (weighted sum) to get the overall training gradient.\n",
    "\n",
    "From the training results below, one can see the valid force MAE further decreases once we have included the Hessian training data in the second stage.\n",
    "\n",
    "We note that, it remains an open question to find the optimal training procedure in adding the second order Hessian data. For example, one can perform the training without warm-up steps, or gradually ramp up the training weights associated with the Hessian losses.\n",
    "It would be relevant to examine the energy model converged for their predictions and stability under molecular dynamics simulations.\n"
   ]
  },
  {
   "cell_type": "code",
   "execution_count": 3,
   "id": "0ddf289b",
   "metadata": {},
   "outputs": [
    {
     "name": "stdout",
     "output_type": "stream",
     "text": [
      "optimizer num_params: 317510\n"
     ]
    },
    {
     "name": "stderr",
     "output_type": "stream",
     "text": [
      "eval_train:   0%|                                         | 0/4 [00:00<?, ?it/s]"
     ]
    },
    {
     "name": "stdout",
     "output_type": "stream",
     "text": [
      "Compiled function `model` for args:\n",
      "cache size: 1\n"
     ]
    },
    {
     "name": "stderr",
     "output_type": "stream",
     "text": [
      "eval_train: 100%|███████████████████████████| 4/4 [00:05<00:00,  1.37s/it, n=36]\n"
     ]
    },
    {
     "name": "stdout",
     "output_type": "stream",
     "text": [
      "Interval 0: eval_train: loss=44.3532, mae_e_per_atom=750.565 meV, mae_f=522.178 meV/Å, mae_s=0.802 meV/Å³\n"
     ]
    },
    {
     "name": "stderr",
     "output_type": "stream",
     "text": [
      "eval_valid:  99%|██████████████████▉| 1061/1068 [00:15<00:00, 67.28it/s, n=9603]"
     ]
    },
    {
     "name": "stdout",
     "output_type": "stream",
     "text": [
      "Compiled function `model` for args:\n",
      "cache size: 2\n"
     ]
    },
    {
     "name": "stderr",
     "output_type": "stream",
     "text": [
      "eval_valid: 100%|███████████████████| 1068/1068 [00:20<00:00, 51.81it/s, n=9610]\n",
      "/home/shiangfang/miniconda3/envs/phonax/lib/python3.11/site-packages/numpy/core/fromnumeric.py:3464: RuntimeWarning: Mean of empty slice.\n",
      "  return _methods._mean(a, axis=axis, dtype=dtype,\n",
      "/home/shiangfang/miniconda3/envs/phonax/lib/python3.11/site-packages/numpy/core/_methods.py:192: RuntimeWarning: invalid value encountered in scalar divide\n",
      "  ret = ret.dtype.type(ret / rcount)\n"
     ]
    },
    {
     "name": "stdout",
     "output_type": "stream",
     "text": [
      "Interval 0: eval_valid: loss=49.4872, mae_e_per_atom=754.195 meV, mae_f=550.353 meV/Å, mae_s=0.799 meV/Å³\n"
     ]
    },
    {
     "name": "stderr",
     "output_type": "stream",
     "text": [
      "Interval 0: 100%|████████████████| 500/500 [00:13<00:00, 37.81it/s, loss=0.0621]\n",
      "eval_train: 100%|███████████████████████████| 4/4 [00:00<00:00, 66.69it/s, n=36]\n"
     ]
    },
    {
     "name": "stdout",
     "output_type": "stream",
     "text": [
      "Interval 1: eval_train: loss=0.0678, mae_e_per_atom=0.289 meV, mae_f=24.034 meV/Å, mae_s=1.226 meV/Å³\n"
     ]
    },
    {
     "name": "stderr",
     "output_type": "stream",
     "text": [
      "eval_valid: 100%|███████████████████| 1068/1068 [00:15<00:00, 67.49it/s, n=9610]\n"
     ]
    },
    {
     "name": "stdout",
     "output_type": "stream",
     "text": [
      "Interval 1: eval_valid: loss=1.0080, mae_e_per_atom=1.182 meV, mae_f=67.117 meV/Å, mae_s=1.404 meV/Å³\n"
     ]
    },
    {
     "name": "stderr",
     "output_type": "stream",
     "text": [
      "Interval 1: 100%|█████████████████| 500/500 [00:06<00:00, 80.98it/s, loss=0.034]\n",
      "eval_train: 100%|███████████████████████████| 4/4 [00:00<00:00, 65.25it/s, n=36]\n"
     ]
    },
    {
     "name": "stdout",
     "output_type": "stream",
     "text": [
      "Interval 2: eval_train: loss=0.0389, mae_e_per_atom=0.588 meV, mae_f=18.516 meV/Å, mae_s=1.198 meV/Å³\n"
     ]
    },
    {
     "name": "stderr",
     "output_type": "stream",
     "text": [
      "eval_valid: 100%|███████████████████| 1068/1068 [00:15<00:00, 67.72it/s, n=9610]\n"
     ]
    },
    {
     "name": "stdout",
     "output_type": "stream",
     "text": [
      "Interval 2: eval_valid: loss=1.0539, mae_e_per_atom=1.356 meV, mae_f=68.166 meV/Å, mae_s=1.410 meV/Å³\n"
     ]
    },
    {
     "name": "stderr",
     "output_type": "stream",
     "text": [
      "Interval 2: 100%|████████████████| 500/500 [00:06<00:00, 80.74it/s, loss=0.0243]\n",
      "eval_train: 100%|███████████████████████████| 4/4 [00:00<00:00, 64.40it/s, n=36]\n"
     ]
    },
    {
     "name": "stdout",
     "output_type": "stream",
     "text": [
      "Interval 3: eval_train: loss=0.0248, mae_e_per_atom=0.674 meV, mae_f=15.119 meV/Å, mae_s=1.193 meV/Å³\n"
     ]
    },
    {
     "name": "stderr",
     "output_type": "stream",
     "text": [
      "eval_valid: 100%|███████████████████| 1068/1068 [00:15<00:00, 67.30it/s, n=9610]\n"
     ]
    },
    {
     "name": "stdout",
     "output_type": "stream",
     "text": [
      "Interval 3: eval_valid: loss=1.0134, mae_e_per_atom=1.485 meV, mae_f=66.930 meV/Å, mae_s=1.417 meV/Å³\n"
     ]
    },
    {
     "name": "stderr",
     "output_type": "stream",
     "text": [
      "Interval 3: 100%|████████████████| 500/500 [00:06<00:00, 80.75it/s, loss=0.0317]\n",
      "eval_train: 100%|███████████████████████████| 4/4 [00:00<00:00, 66.18it/s, n=36]\n"
     ]
    },
    {
     "name": "stdout",
     "output_type": "stream",
     "text": [
      "Interval 4: eval_train: loss=0.0135, mae_e_per_atom=0.788 meV, mae_f=11.331 meV/Å, mae_s=1.212 meV/Å³\n"
     ]
    },
    {
     "name": "stderr",
     "output_type": "stream",
     "text": [
      "eval_valid: 100%|███████████████████| 1068/1068 [00:15<00:00, 67.28it/s, n=9610]\n"
     ]
    },
    {
     "name": "stdout",
     "output_type": "stream",
     "text": [
      "Interval 4: eval_valid: loss=0.9512, mae_e_per_atom=1.365 meV, mae_f=63.675 meV/Å, mae_s=1.423 meV/Å³\n"
     ]
    },
    {
     "name": "stderr",
     "output_type": "stream",
     "text": [
      "Interval 4: 100%|████████████████| 500/500 [00:06<00:00, 80.18it/s, loss=0.0104]\n",
      "eval_train: 100%|███████████████████████████| 4/4 [00:00<00:00, 64.87it/s, n=36]\n"
     ]
    },
    {
     "name": "stdout",
     "output_type": "stream",
     "text": [
      "Interval 5: eval_train: loss=0.0079, mae_e_per_atom=0.644 meV, mae_f=8.594 meV/Å, mae_s=1.202 meV/Å³\n"
     ]
    },
    {
     "name": "stderr",
     "output_type": "stream",
     "text": [
      "eval_valid: 100%|███████████████████| 1068/1068 [00:15<00:00, 67.27it/s, n=9610]\n"
     ]
    },
    {
     "name": "stdout",
     "output_type": "stream",
     "text": [
      "Interval 5: eval_valid: loss=0.8542, mae_e_per_atom=1.302 meV, mae_f=59.068 meV/Å, mae_s=1.428 meV/Å³\n"
     ]
    },
    {
     "name": "stderr",
     "output_type": "stream",
     "text": [
      "Interval 5: 100%|███████████████| 500/500 [00:06<00:00, 80.01it/s, loss=0.00522]\n",
      "eval_train: 100%|███████████████████████████| 4/4 [00:00<00:00, 66.29it/s, n=36]\n"
     ]
    },
    {
     "name": "stdout",
     "output_type": "stream",
     "text": [
      "Interval 6: eval_train: loss=0.0051, mae_e_per_atom=0.463 meV, mae_f=6.796 meV/Å, mae_s=1.204 meV/Å³\n"
     ]
    },
    {
     "name": "stderr",
     "output_type": "stream",
     "text": [
      "eval_valid: 100%|███████████████████| 1068/1068 [00:15<00:00, 67.26it/s, n=9610]\n"
     ]
    },
    {
     "name": "stdout",
     "output_type": "stream",
     "text": [
      "Interval 6: eval_valid: loss=0.7981, mae_e_per_atom=1.298 meV, mae_f=55.446 meV/Å, mae_s=1.429 meV/Å³\n"
     ]
    },
    {
     "name": "stderr",
     "output_type": "stream",
     "text": [
      "Interval 6: 100%|███████████████| 500/500 [00:06<00:00, 80.21it/s, loss=0.00986]\n",
      "eval_train: 100%|███████████████████████████| 4/4 [00:00<00:00, 64.86it/s, n=36]\n"
     ]
    },
    {
     "name": "stdout",
     "output_type": "stream",
     "text": [
      "Interval 7: eval_train: loss=0.0037, mae_e_per_atom=0.341 meV, mae_f=5.736 meV/Å, mae_s=1.213 meV/Å³\n"
     ]
    },
    {
     "name": "stderr",
     "output_type": "stream",
     "text": [
      "eval_valid: 100%|███████████████████| 1068/1068 [00:15<00:00, 66.88it/s, n=9610]\n"
     ]
    },
    {
     "name": "stdout",
     "output_type": "stream",
     "text": [
      "Interval 7: eval_valid: loss=0.7852, mae_e_per_atom=1.171 meV, mae_f=53.699 meV/Å, mae_s=1.430 meV/Å³\n"
     ]
    },
    {
     "name": "stderr",
     "output_type": "stream",
     "text": [
      "Interval 7: 100%|███████████████| 500/500 [00:06<00:00, 79.83it/s, loss=0.00312]\n",
      "eval_train: 100%|███████████████████████████| 4/4 [00:00<00:00, 64.27it/s, n=36]\n"
     ]
    },
    {
     "name": "stdout",
     "output_type": "stream",
     "text": [
      "Interval 8: eval_train: loss=0.0028, mae_e_per_atom=0.269 meV, mae_f=5.025 meV/Å, mae_s=1.214 meV/Å³\n"
     ]
    },
    {
     "name": "stderr",
     "output_type": "stream",
     "text": [
      "eval_valid: 100%|███████████████████| 1068/1068 [00:15<00:00, 67.02it/s, n=9610]\n"
     ]
    },
    {
     "name": "stdout",
     "output_type": "stream",
     "text": [
      "Interval 8: eval_valid: loss=0.7903, mae_e_per_atom=1.104 meV, mae_f=52.668 meV/Å, mae_s=1.431 meV/Å³\n"
     ]
    },
    {
     "name": "stderr",
     "output_type": "stream",
     "text": [
      "Interval 8: 100%|███████████████| 500/500 [00:06<00:00, 80.20it/s, loss=0.00389]\n",
      "eval_train: 100%|███████████████████████████| 4/4 [00:00<00:00, 62.86it/s, n=36]\n"
     ]
    },
    {
     "name": "stdout",
     "output_type": "stream",
     "text": [
      "Interval 9: eval_train: loss=0.0022, mae_e_per_atom=0.223 meV, mae_f=4.422 meV/Å, mae_s=1.220 meV/Å³\n"
     ]
    },
    {
     "name": "stderr",
     "output_type": "stream",
     "text": [
      "eval_valid: 100%|███████████████████| 1068/1068 [00:15<00:00, 67.12it/s, n=9610]\n"
     ]
    },
    {
     "name": "stdout",
     "output_type": "stream",
     "text": [
      "Interval 9: eval_valid: loss=0.8143, mae_e_per_atom=1.123 meV, mae_f=52.510 meV/Å, mae_s=1.431 meV/Å³\n"
     ]
    },
    {
     "name": "stderr",
     "output_type": "stream",
     "text": [
      "Interval 9: 100%|███████████████| 500/500 [00:06<00:00, 79.45it/s, loss=0.00161]\n",
      "eval_train: 100%|███████████████████████████| 4/4 [00:00<00:00, 64.30it/s, n=36]\n"
     ]
    },
    {
     "name": "stdout",
     "output_type": "stream",
     "text": [
      "Interval 0: eval_train: loss=0.0019, mae_e_per_atom=0.175 meV, mae_f=4.029 meV/Å, mae_s=1.208 meV/Å³\n"
     ]
    },
    {
     "name": "stderr",
     "output_type": "stream",
     "text": [
      "eval_valid: 100%|███████████████████| 1068/1068 [00:15<00:00, 67.02it/s, n=9610]\n"
     ]
    },
    {
     "name": "stdout",
     "output_type": "stream",
     "text": [
      "Interval 0: eval_valid: loss=0.8359, mae_e_per_atom=1.090 meV, mae_f=52.501 meV/Å, mae_s=1.431 meV/Å³\n"
     ]
    },
    {
     "name": "stderr",
     "output_type": "stream",
     "text": [
      "Evaluating hessian train: 100%|█| 121/121 [00:06<00:00, 19.46it/s, n_graphs=4356\n"
     ]
    },
    {
     "name": "stdout",
     "output_type": "stream",
     "text": [
      "interval 0: hessian train hessian MAE 0.245 eV/A2 \n"
     ]
    },
    {
     "name": "stderr",
     "output_type": "stream",
     "text": [
      "Evaluating hessian valid: 100%|██| 28/28 [00:00<00:00, 81.14it/s, n_graphs=1000]\n"
     ]
    },
    {
     "name": "stdout",
     "output_type": "stream",
     "text": [
      "interval 0: hessian valid hessian MAE 0.237 eV/A2 \n"
     ]
    },
    {
     "name": "stderr",
     "output_type": "stream",
     "text": [
      "Interval 0: 100%|████████████████| 500/500 [00:28<00:00, 17.69it/s, loss=0.0461]\n",
      "eval_train: 100%|███████████████████████████| 4/4 [00:00<00:00, 66.67it/s, n=36]\n"
     ]
    },
    {
     "name": "stdout",
     "output_type": "stream",
     "text": [
      "Interval 1: eval_train: loss=0.0178, mae_e_per_atom=0.453 meV, mae_f=11.894 meV/Å, mae_s=1.216 meV/Å³\n"
     ]
    },
    {
     "name": "stderr",
     "output_type": "stream",
     "text": [
      "eval_valid: 100%|███████████████████| 1068/1068 [00:16<00:00, 65.63it/s, n=9610]\n"
     ]
    },
    {
     "name": "stdout",
     "output_type": "stream",
     "text": [
      "Interval 1: eval_valid: loss=0.1337, mae_e_per_atom=1.211 meV, mae_f=24.011 meV/Å, mae_s=1.455 meV/Å³\n"
     ]
    },
    {
     "name": "stderr",
     "output_type": "stream",
     "text": [
      "Evaluating hessian train: 100%|█| 121/121 [00:00<00:00, 145.00it/s, n_graphs=435\n"
     ]
    },
    {
     "name": "stdout",
     "output_type": "stream",
     "text": [
      "interval 1: hessian train hessian MAE 0.089 eV/A2 \n"
     ]
    },
    {
     "name": "stderr",
     "output_type": "stream",
     "text": [
      "Evaluating hessian valid: 100%|█| 28/28 [00:00<00:00, 149.45it/s, n_graphs=1000]\n"
     ]
    },
    {
     "name": "stdout",
     "output_type": "stream",
     "text": [
      "interval 1: hessian valid hessian MAE 0.082 eV/A2 \n"
     ]
    },
    {
     "name": "stderr",
     "output_type": "stream",
     "text": [
      "Interval 1: 100%|████████████████| 500/500 [00:10<00:00, 48.89it/s, loss=0.0856]\n",
      "eval_train: 100%|███████████████████████████| 4/4 [00:00<00:00, 66.69it/s, n=36]\n"
     ]
    },
    {
     "name": "stdout",
     "output_type": "stream",
     "text": [
      "Interval 2: eval_train: loss=0.0120, mae_e_per_atom=0.486 meV, mae_f=10.137 meV/Å, mae_s=1.217 meV/Å³\n"
     ]
    },
    {
     "name": "stderr",
     "output_type": "stream",
     "text": [
      "eval_valid: 100%|███████████████████| 1068/1068 [00:16<00:00, 66.41it/s, n=9610]\n"
     ]
    },
    {
     "name": "stdout",
     "output_type": "stream",
     "text": [
      "Interval 2: eval_valid: loss=0.0857, mae_e_per_atom=1.127 meV, mae_f=19.744 meV/Å, mae_s=1.464 meV/Å³\n"
     ]
    },
    {
     "name": "stderr",
     "output_type": "stream",
     "text": [
      "Evaluating hessian train: 100%|█| 121/121 [00:00<00:00, 148.58it/s, n_graphs=435\n"
     ]
    },
    {
     "name": "stdout",
     "output_type": "stream",
     "text": [
      "interval 2: hessian train hessian MAE 0.072 eV/A2 \n"
     ]
    },
    {
     "name": "stderr",
     "output_type": "stream",
     "text": [
      "Evaluating hessian valid: 100%|█| 28/28 [00:00<00:00, 150.35it/s, n_graphs=1000]\n"
     ]
    },
    {
     "name": "stdout",
     "output_type": "stream",
     "text": [
      "interval 2: hessian valid hessian MAE 0.067 eV/A2 \n"
     ]
    },
    {
     "name": "stderr",
     "output_type": "stream",
     "text": [
      "Interval 2: 100%|████████████████| 500/500 [00:10<00:00, 49.15it/s, loss=0.0385]\n",
      "eval_train: 100%|███████████████████████████| 4/4 [00:00<00:00, 65.35it/s, n=36]\n"
     ]
    },
    {
     "name": "stdout",
     "output_type": "stream",
     "text": [
      "Interval 3: eval_train: loss=0.0095, mae_e_per_atom=0.827 meV, mae_f=9.045 meV/Å, mae_s=1.212 meV/Å³\n"
     ]
    },
    {
     "name": "stderr",
     "output_type": "stream",
     "text": [
      "eval_valid: 100%|███████████████████| 1068/1068 [00:16<00:00, 66.54it/s, n=9610]\n"
     ]
    },
    {
     "name": "stdout",
     "output_type": "stream",
     "text": [
      "Interval 3: eval_valid: loss=0.0834, mae_e_per_atom=0.944 meV, mae_f=19.136 meV/Å, mae_s=1.463 meV/Å³\n"
     ]
    },
    {
     "name": "stderr",
     "output_type": "stream",
     "text": [
      "Evaluating hessian train: 100%|█| 121/121 [00:00<00:00, 145.46it/s, n_graphs=435\n"
     ]
    },
    {
     "name": "stdout",
     "output_type": "stream",
     "text": [
      "interval 3: hessian train hessian MAE 0.065 eV/A2 \n"
     ]
    },
    {
     "name": "stderr",
     "output_type": "stream",
     "text": [
      "Evaluating hessian valid: 100%|█| 28/28 [00:00<00:00, 148.37it/s, n_graphs=1000]\n"
     ]
    },
    {
     "name": "stdout",
     "output_type": "stream",
     "text": [
      "interval 3: hessian valid hessian MAE 0.058 eV/A2 \n"
     ]
    },
    {
     "name": "stderr",
     "output_type": "stream",
     "text": [
      "Interval 3: 100%|████████████████| 500/500 [00:10<00:00, 48.93it/s, loss=0.0283]\n",
      "eval_train: 100%|███████████████████████████| 4/4 [00:00<00:00, 64.87it/s, n=36]\n"
     ]
    },
    {
     "name": "stdout",
     "output_type": "stream",
     "text": [
      "Interval 4: eval_train: loss=0.0078, mae_e_per_atom=0.376 meV, mae_f=8.265 meV/Å, mae_s=1.208 meV/Å³\n"
     ]
    },
    {
     "name": "stderr",
     "output_type": "stream",
     "text": [
      "eval_valid: 100%|███████████████████| 1068/1068 [00:16<00:00, 65.54it/s, n=9610]\n"
     ]
    },
    {
     "name": "stdout",
     "output_type": "stream",
     "text": [
      "Interval 4: eval_valid: loss=0.0695, mae_e_per_atom=0.869 meV, mae_f=17.837 meV/Å, mae_s=1.465 meV/Å³\n"
     ]
    },
    {
     "name": "stderr",
     "output_type": "stream",
     "text": [
      "Evaluating hessian train: 100%|█| 121/121 [00:00<00:00, 147.54it/s, n_graphs=435\n"
     ]
    },
    {
     "name": "stdout",
     "output_type": "stream",
     "text": [
      "interval 4: hessian train hessian MAE 0.059 eV/A2 \n"
     ]
    },
    {
     "name": "stderr",
     "output_type": "stream",
     "text": [
      "Evaluating hessian valid: 100%|█| 28/28 [00:00<00:00, 150.55it/s, n_graphs=1000]\n"
     ]
    },
    {
     "name": "stdout",
     "output_type": "stream",
     "text": [
      "interval 4: hessian valid hessian MAE 0.051 eV/A2 \n"
     ]
    },
    {
     "name": "stderr",
     "output_type": "stream",
     "text": [
      "Interval 4: 100%|████████████████| 500/500 [00:10<00:00, 48.81it/s, loss=0.0441]\n",
      "eval_train: 100%|███████████████████████████| 4/4 [00:00<00:00, 65.15it/s, n=36]\n"
     ]
    },
    {
     "name": "stdout",
     "output_type": "stream",
     "text": [
      "Interval 5: eval_train: loss=0.0063, mae_e_per_atom=0.323 meV, mae_f=7.471 meV/Å, mae_s=1.219 meV/Å³\n"
     ]
    },
    {
     "name": "stderr",
     "output_type": "stream",
     "text": [
      "eval_valid: 100%|███████████████████| 1068/1068 [00:16<00:00, 66.03it/s, n=9610]\n"
     ]
    },
    {
     "name": "stdout",
     "output_type": "stream",
     "text": [
      "Interval 5: eval_valid: loss=0.0584, mae_e_per_atom=0.692 meV, mae_f=16.446 meV/Å, mae_s=1.469 meV/Å³\n"
     ]
    },
    {
     "name": "stderr",
     "output_type": "stream",
     "text": [
      "Evaluating hessian train: 100%|█| 121/121 [00:00<00:00, 147.20it/s, n_graphs=435\n"
     ]
    },
    {
     "name": "stdout",
     "output_type": "stream",
     "text": [
      "interval 5: hessian train hessian MAE 0.054 eV/A2 \n"
     ]
    },
    {
     "name": "stderr",
     "output_type": "stream",
     "text": [
      "Evaluating hessian valid: 100%|█| 28/28 [00:00<00:00, 151.47it/s, n_graphs=1000]\n"
     ]
    },
    {
     "name": "stdout",
     "output_type": "stream",
     "text": [
      "interval 5: hessian valid hessian MAE 0.048 eV/A2 \n"
     ]
    },
    {
     "name": "stderr",
     "output_type": "stream",
     "text": [
      "Interval 5: 100%|████████████████| 500/500 [00:10<00:00, 48.81it/s, loss=0.0245]\n",
      "eval_train: 100%|███████████████████████████| 4/4 [00:00<00:00, 62.35it/s, n=36]\n"
     ]
    },
    {
     "name": "stdout",
     "output_type": "stream",
     "text": [
      "Interval 6: eval_train: loss=0.0056, mae_e_per_atom=0.414 meV, mae_f=7.032 meV/Å, mae_s=1.225 meV/Å³\n"
     ]
    },
    {
     "name": "stderr",
     "output_type": "stream",
     "text": [
      "eval_valid: 100%|███████████████████| 1068/1068 [00:16<00:00, 65.97it/s, n=9610]\n"
     ]
    },
    {
     "name": "stdout",
     "output_type": "stream",
     "text": [
      "Interval 6: eval_valid: loss=0.0581, mae_e_per_atom=0.796 meV, mae_f=16.354 meV/Å, mae_s=1.469 meV/Å³\n"
     ]
    },
    {
     "name": "stderr",
     "output_type": "stream",
     "text": [
      "Evaluating hessian train: 100%|█| 121/121 [00:00<00:00, 146.07it/s, n_graphs=435\n"
     ]
    },
    {
     "name": "stdout",
     "output_type": "stream",
     "text": [
      "interval 6: hessian train hessian MAE 0.050 eV/A2 \n"
     ]
    },
    {
     "name": "stderr",
     "output_type": "stream",
     "text": [
      "Evaluating hessian valid: 100%|█| 28/28 [00:00<00:00, 150.46it/s, n_graphs=1000]\n"
     ]
    },
    {
     "name": "stdout",
     "output_type": "stream",
     "text": [
      "interval 6: hessian valid hessian MAE 0.046 eV/A2 \n"
     ]
    },
    {
     "name": "stderr",
     "output_type": "stream",
     "text": [
      "Interval 6: 100%|████████████████| 500/500 [00:10<00:00, 48.86it/s, loss=0.0266]\n",
      "eval_train: 100%|███████████████████████████| 4/4 [00:00<00:00, 65.19it/s, n=36]\n"
     ]
    },
    {
     "name": "stdout",
     "output_type": "stream",
     "text": [
      "Interval 7: eval_train: loss=0.0051, mae_e_per_atom=0.269 meV, mae_f=6.784 meV/Å, mae_s=1.210 meV/Å³\n"
     ]
    },
    {
     "name": "stderr",
     "output_type": "stream",
     "text": [
      "eval_valid: 100%|███████████████████| 1068/1068 [00:16<00:00, 65.84it/s, n=9610]\n"
     ]
    },
    {
     "name": "stdout",
     "output_type": "stream",
     "text": [
      "Interval 7: eval_valid: loss=0.0596, mae_e_per_atom=0.561 meV, mae_f=16.195 meV/Å, mae_s=1.469 meV/Å³\n"
     ]
    },
    {
     "name": "stderr",
     "output_type": "stream",
     "text": [
      "Evaluating hessian train: 100%|█| 121/121 [00:00<00:00, 148.64it/s, n_graphs=435\n"
     ]
    },
    {
     "name": "stdout",
     "output_type": "stream",
     "text": [
      "interval 7: hessian train hessian MAE 0.049 eV/A2 \n"
     ]
    },
    {
     "name": "stderr",
     "output_type": "stream",
     "text": [
      "Evaluating hessian valid: 100%|█| 28/28 [00:00<00:00, 150.32it/s, n_graphs=1000]\n"
     ]
    },
    {
     "name": "stdout",
     "output_type": "stream",
     "text": [
      "interval 7: hessian valid hessian MAE 0.043 eV/A2 \n"
     ]
    },
    {
     "name": "stderr",
     "output_type": "stream",
     "text": [
      "Interval 7: 100%|████████████████| 500/500 [00:10<00:00, 48.79it/s, loss=0.0544]\n",
      "eval_train: 100%|███████████████████████████| 4/4 [00:00<00:00, 64.53it/s, n=36]\n"
     ]
    },
    {
     "name": "stdout",
     "output_type": "stream",
     "text": [
      "Interval 8: eval_train: loss=0.0046, mae_e_per_atom=0.228 meV, mae_f=6.429 meV/Å, mae_s=1.226 meV/Å³\n"
     ]
    },
    {
     "name": "stderr",
     "output_type": "stream",
     "text": [
      "eval_valid: 100%|███████████████████| 1068/1068 [00:16<00:00, 65.63it/s, n=9610]\n"
     ]
    },
    {
     "name": "stdout",
     "output_type": "stream",
     "text": [
      "Interval 8: eval_valid: loss=0.0598, mae_e_per_atom=0.524 meV, mae_f=16.076 meV/Å, mae_s=1.470 meV/Å³\n"
     ]
    },
    {
     "name": "stderr",
     "output_type": "stream",
     "text": [
      "Evaluating hessian train: 100%|█| 121/121 [00:00<00:00, 146.68it/s, n_graphs=435\n"
     ]
    },
    {
     "name": "stdout",
     "output_type": "stream",
     "text": [
      "interval 8: hessian train hessian MAE 0.048 eV/A2 \n"
     ]
    },
    {
     "name": "stderr",
     "output_type": "stream",
     "text": [
      "Evaluating hessian valid: 100%|█| 28/28 [00:00<00:00, 153.00it/s, n_graphs=1000]\n"
     ]
    },
    {
     "name": "stdout",
     "output_type": "stream",
     "text": [
      "interval 8: hessian valid hessian MAE 0.043 eV/A2 \n"
     ]
    },
    {
     "name": "stderr",
     "output_type": "stream",
     "text": [
      "Interval 8: 100%|████████████████| 500/500 [00:10<00:00, 48.76it/s, loss=0.0222]\n",
      "eval_train: 100%|███████████████████████████| 4/4 [00:00<00:00, 63.93it/s, n=36]\n"
     ]
    },
    {
     "name": "stdout",
     "output_type": "stream",
     "text": [
      "Interval 9: eval_train: loss=0.0044, mae_e_per_atom=0.443 meV, mae_f=6.279 meV/Å, mae_s=1.209 meV/Å³\n"
     ]
    },
    {
     "name": "stderr",
     "output_type": "stream",
     "text": [
      "eval_valid: 100%|███████████████████| 1068/1068 [00:16<00:00, 65.58it/s, n=9610]\n"
     ]
    },
    {
     "name": "stdout",
     "output_type": "stream",
     "text": [
      "Interval 9: eval_valid: loss=0.0584, mae_e_per_atom=0.799 meV, mae_f=15.824 meV/Å, mae_s=1.470 meV/Å³\n"
     ]
    },
    {
     "name": "stderr",
     "output_type": "stream",
     "text": [
      "Evaluating hessian train: 100%|█| 121/121 [00:00<00:00, 148.50it/s, n_graphs=435\n"
     ]
    },
    {
     "name": "stdout",
     "output_type": "stream",
     "text": [
      "interval 9: hessian train hessian MAE 0.046 eV/A2 \n"
     ]
    },
    {
     "name": "stderr",
     "output_type": "stream",
     "text": [
      "Evaluating hessian valid: 100%|█| 28/28 [00:00<00:00, 150.27it/s, n_graphs=1000]\n"
     ]
    },
    {
     "name": "stdout",
     "output_type": "stream",
     "text": [
      "interval 9: hessian valid hessian MAE 0.040 eV/A2 \n"
     ]
    },
    {
     "name": "stderr",
     "output_type": "stream",
     "text": [
      "Interval 9: 100%|██████████████████| 500/500 [00:10<00:00, 48.69it/s, loss=0.03]\n",
      "eval_train: 100%|███████████████████████████| 4/4 [00:00<00:00, 64.58it/s, n=36]\n"
     ]
    },
    {
     "name": "stdout",
     "output_type": "stream",
     "text": [
      "Interval 10: eval_train: loss=0.0042, mae_e_per_atom=0.223 meV, mae_f=6.129 meV/Å, mae_s=1.206 meV/Å³\n"
     ]
    },
    {
     "name": "stderr",
     "output_type": "stream",
     "text": [
      "eval_valid: 100%|███████████████████| 1068/1068 [00:16<00:00, 65.63it/s, n=9610]\n"
     ]
    },
    {
     "name": "stdout",
     "output_type": "stream",
     "text": [
      "Interval 10: eval_valid: loss=0.0584, mae_e_per_atom=0.522 meV, mae_f=15.539 meV/Å, mae_s=1.470 meV/Å³\n"
     ]
    },
    {
     "name": "stderr",
     "output_type": "stream",
     "text": [
      "Evaluating hessian train: 100%|█| 121/121 [00:00<00:00, 147.54it/s, n_graphs=435\n"
     ]
    },
    {
     "name": "stdout",
     "output_type": "stream",
     "text": [
      "interval 10: hessian train hessian MAE 0.045 eV/A2 \n"
     ]
    },
    {
     "name": "stderr",
     "output_type": "stream",
     "text": [
      "Evaluating hessian valid: 100%|█| 28/28 [00:00<00:00, 149.69it/s, n_graphs=1000]\n"
     ]
    },
    {
     "name": "stdout",
     "output_type": "stream",
     "text": [
      "interval 10: hessian valid hessian MAE 0.040 eV/A2 \n"
     ]
    },
    {
     "name": "stderr",
     "output_type": "stream",
     "text": [
      "Interval 10: 100%|███████████████| 500/500 [00:10<00:00, 48.75it/s, loss=0.0292]\n",
      "eval_train: 100%|███████████████████████████| 4/4 [00:00<00:00, 63.11it/s, n=36]\n"
     ]
    },
    {
     "name": "stdout",
     "output_type": "stream",
     "text": [
      "Interval 11: eval_train: loss=0.0042, mae_e_per_atom=0.192 meV, mae_f=6.115 meV/Å, mae_s=1.208 meV/Å³\n"
     ]
    },
    {
     "name": "stderr",
     "output_type": "stream",
     "text": [
      "eval_valid: 100%|███████████████████| 1068/1068 [00:16<00:00, 65.46it/s, n=9610]\n"
     ]
    },
    {
     "name": "stdout",
     "output_type": "stream",
     "text": [
      "Interval 11: eval_valid: loss=0.0540, mae_e_per_atom=0.486 meV, mae_f=15.138 meV/Å, mae_s=1.471 meV/Å³\n"
     ]
    },
    {
     "name": "stderr",
     "output_type": "stream",
     "text": [
      "Evaluating hessian train: 100%|█| 121/121 [00:00<00:00, 144.92it/s, n_graphs=435\n"
     ]
    },
    {
     "name": "stdout",
     "output_type": "stream",
     "text": [
      "interval 11: hessian train hessian MAE 0.043 eV/A2 \n"
     ]
    },
    {
     "name": "stderr",
     "output_type": "stream",
     "text": [
      "Evaluating hessian valid: 100%|█| 28/28 [00:00<00:00, 148.84it/s, n_graphs=1000]\n"
     ]
    },
    {
     "name": "stdout",
     "output_type": "stream",
     "text": [
      "interval 11: hessian valid hessian MAE 0.038 eV/A2 \n"
     ]
    },
    {
     "name": "stderr",
     "output_type": "stream",
     "text": [
      "Interval 11: 100%|███████████████| 500/500 [00:10<00:00, 48.64it/s, loss=0.0296]\n",
      "eval_train: 100%|███████████████████████████| 4/4 [00:00<00:00, 67.56it/s, n=36]\n"
     ]
    },
    {
     "name": "stdout",
     "output_type": "stream",
     "text": [
      "Interval 12: eval_train: loss=0.0036, mae_e_per_atom=0.229 meV, mae_f=5.592 meV/Å, mae_s=1.230 meV/Å³\n"
     ]
    },
    {
     "name": "stderr",
     "output_type": "stream",
     "text": [
      "eval_valid: 100%|███████████████████| 1068/1068 [00:16<00:00, 65.42it/s, n=9610]\n"
     ]
    },
    {
     "name": "stdout",
     "output_type": "stream",
     "text": [
      "Interval 12: eval_valid: loss=0.0534, mae_e_per_atom=0.479 meV, mae_f=14.925 meV/Å, mae_s=1.470 meV/Å³\n"
     ]
    },
    {
     "name": "stderr",
     "output_type": "stream",
     "text": [
      "Evaluating hessian train: 100%|█| 121/121 [00:00<00:00, 145.08it/s, n_graphs=435\n"
     ]
    },
    {
     "name": "stdout",
     "output_type": "stream",
     "text": [
      "interval 12: hessian train hessian MAE 0.042 eV/A2 \n"
     ]
    },
    {
     "name": "stderr",
     "output_type": "stream",
     "text": [
      "Evaluating hessian valid: 100%|█| 28/28 [00:00<00:00, 147.38it/s, n_graphs=1000]\n"
     ]
    },
    {
     "name": "stdout",
     "output_type": "stream",
     "text": [
      "interval 12: hessian valid hessian MAE 0.036 eV/A2 \n"
     ]
    },
    {
     "name": "stderr",
     "output_type": "stream",
     "text": [
      "Interval 12: 100%|███████████████| 500/500 [00:10<00:00, 48.46it/s, loss=0.0399]\n",
      "eval_train: 100%|███████████████████████████| 4/4 [00:00<00:00, 62.58it/s, n=36]\n"
     ]
    },
    {
     "name": "stdout",
     "output_type": "stream",
     "text": [
      "Interval 13: eval_train: loss=0.0037, mae_e_per_atom=0.294 meV, mae_f=5.690 meV/Å, mae_s=1.205 meV/Å³\n"
     ]
    },
    {
     "name": "stderr",
     "output_type": "stream",
     "text": [
      "eval_valid: 100%|███████████████████| 1068/1068 [00:16<00:00, 65.54it/s, n=9610]\n"
     ]
    },
    {
     "name": "stdout",
     "output_type": "stream",
     "text": [
      "Interval 13: eval_valid: loss=0.0567, mae_e_per_atom=0.472 meV, mae_f=15.105 meV/Å, mae_s=1.471 meV/Å³\n"
     ]
    },
    {
     "name": "stderr",
     "output_type": "stream",
     "text": [
      "Evaluating hessian train: 100%|█| 121/121 [00:00<00:00, 148.11it/s, n_graphs=435\n"
     ]
    },
    {
     "name": "stdout",
     "output_type": "stream",
     "text": [
      "interval 13: hessian train hessian MAE 0.041 eV/A2 \n"
     ]
    },
    {
     "name": "stderr",
     "output_type": "stream",
     "text": [
      "Evaluating hessian valid: 100%|█| 28/28 [00:00<00:00, 147.91it/s, n_graphs=1000]\n"
     ]
    },
    {
     "name": "stdout",
     "output_type": "stream",
     "text": [
      "interval 13: hessian valid hessian MAE 0.037 eV/A2 \n"
     ]
    },
    {
     "name": "stderr",
     "output_type": "stream",
     "text": [
      "Interval 13: 100%|███████████████| 500/500 [00:10<00:00, 48.38it/s, loss=0.0184]\n",
      "eval_train: 100%|███████████████████████████| 4/4 [00:00<00:00, 63.77it/s, n=36]\n"
     ]
    },
    {
     "name": "stdout",
     "output_type": "stream",
     "text": [
      "Interval 14: eval_train: loss=0.0036, mae_e_per_atom=0.220 meV, mae_f=5.612 meV/Å, mae_s=1.229 meV/Å³\n"
     ]
    },
    {
     "name": "stderr",
     "output_type": "stream",
     "text": [
      "eval_valid: 100%|███████████████████| 1068/1068 [00:16<00:00, 65.34it/s, n=9610]\n"
     ]
    },
    {
     "name": "stdout",
     "output_type": "stream",
     "text": [
      "Interval 14: eval_valid: loss=0.0514, mae_e_per_atom=0.462 meV, mae_f=14.522 meV/Å, mae_s=1.472 meV/Å³\n"
     ]
    },
    {
     "name": "stderr",
     "output_type": "stream",
     "text": [
      "Evaluating hessian train: 100%|█| 121/121 [00:00<00:00, 145.88it/s, n_graphs=435\n"
     ]
    },
    {
     "name": "stdout",
     "output_type": "stream",
     "text": [
      "interval 14: hessian train hessian MAE 0.040 eV/A2 \n"
     ]
    },
    {
     "name": "stderr",
     "output_type": "stream",
     "text": [
      "Evaluating hessian valid: 100%|█| 28/28 [00:00<00:00, 149.89it/s, n_graphs=1000]\n"
     ]
    },
    {
     "name": "stdout",
     "output_type": "stream",
     "text": [
      "interval 14: hessian valid hessian MAE 0.037 eV/A2 \n"
     ]
    },
    {
     "name": "stderr",
     "output_type": "stream",
     "text": [
      "Interval 14: 100%|███████████████| 500/500 [00:10<00:00, 48.39it/s, loss=0.0194]\n"
     ]
    }
   ],
   "source": [
    "FH_params = params.copy()\n",
    "\n",
    "# restart the optimizer state\n",
    "gradient_transform, steps_per_interval, max_num_intervals = optimizer(\n",
    "    lr = config[\"training\"][\"learning_rate\"],\n",
    "    max_num_intervals = config[\"training\"][\"max_num_intervals\"],\n",
    "    steps_per_interval = config[\"training\"][\"steps_per_interval\"],\n",
    "    # weight_decay = config[\"training\"][\"weight_decay\"],\n",
    ")\n",
    "optimizer_state = gradient_transform.init(params)\n",
    "print(\"optimizer num_params:\", sum(p.size for p in jax.tree_util.tree_leaves(optimizer_state)))\n",
    "\n",
    "two_stage_hessian_train(\n",
    "    energy_forces_stress_predictor=EF_predictor,\n",
    "    phonon_predictor=H_predictor,\n",
    "    params=FH_params,\n",
    "    gradient_transform=gradient_transform,\n",
    "    optimizer_state=optimizer_state,\n",
    "    steps_per_interval=steps_per_interval,\n",
    "    EF_loss_fn=EF_loss_fn,\n",
    "    H_loss_fn=H_loss_fn,\n",
    "    EF_train_loader=EF_train_loader,\n",
    "    EF_valid_loader=EF_valid_loader,\n",
    "    H_train_loader=ph_train_loader,\n",
    "    H_valid_loader=ph_valid_loader,\n",
    "    warmup_num_intervals=config['training']['warmup_num_intervals'],\n",
    "    phtrain_num_intervals=config['training']['phtrain_num_intervals'],\n",
    ")\n",
    "\n",
    "\n"
   ]
  },
  {
   "cell_type": "code",
   "execution_count": null,
   "id": "d04c7d71",
   "metadata": {},
   "outputs": [],
   "source": []
  },
  {
   "cell_type": "markdown",
   "id": "89ba6ae6",
   "metadata": {},
   "source": [
    "# Energy model fine-tuning with Hessian spectrum data\n",
    "\n",
    "\n"
   ]
  },
  {
   "cell_type": "markdown",
   "id": "86f4408c-6256-41c5-b2b8-c32598be0090",
   "metadata": {},
   "source": [
    "Here in this section,"
   ]
  },
  {
   "cell_type": "code",
   "execution_count": 9,
   "id": "3825e5b3",
   "metadata": {},
   "outputs": [
    {
     "name": "stdout",
     "output_type": "stream",
     "text": [
      "Create NequIP (JAX-MD version) with parameters {'use_sc': True, 'graph_net_steps': 2, 'hidden_irreps': '96x0e+ 96x0o  + 64x1e +64x1o +64x2e +64x2o', 'nonlinearities': {'e': 'swish', 'o': 'tanh'}, 'r_max': 5.0, 'avg_num_neighbors': 53.2808396682792, 'avg_r_min': None, 'num_species': 100, 'radial_basis': <function bessel_basis at 0x7fc675cb8f40>, 'radial_envelope': <function soft_envelope at 0x7fc675cb8ea0>}\n",
      "[  27.241  124.733  185.288  272.313  296.006  432.863  508.388  591.262\n",
      "  638.448  673.533  726.167  756.616  773.11   790.474  918.766  964.463\n",
      "  989.697 1014.223 1054.913 1109.872 1128.433 1175.232 1261.061 1390.29\n",
      " 1393.739 1409.089 1410.737 1489.265 1489.482 1559.595 1614.208 3003.036\n",
      " 3066.553 3076.231 3116.929 3120.129 3133.57  3182.578 3195.179]\n",
      "[  56.127  114.344  168.365  267.759  325.269  471.621  477.716  585.247\n",
      "  637.507  674.73   730.066  741.727  755.256  790.084  846.058  898.071\n",
      " 1006.948 1031.635 1084.506 1121.792 1161.519 1234.501 1366.707 1401.575\n",
      " 1468.404 1523.292 1571.599 3017.03  3052.645 3120.238 3209.874 3241.998\n",
      " 3996.29 ]\n"
     ]
    }
   ],
   "source": [
    "model_fn, params, num_message_passing, r_max = NequIP_JAXMD_molecule_model(os.path.join(os.getcwd(), 'trained-models'))\n",
    "\n",
    "train_crystal = ase.io.read('data/molecules/benzene.vasp')\n",
    "train_crystal.pbc=False\n",
    "train_graph = atoms_to_ext_graph(train_crystal, r_max, num_message_passing=1)\n",
    "train_graph = jax.tree_util.tree_map(to_f32, train_graph)\n",
    "\n",
    "test_crystal1 = ase.io.read('data/molecules/toluene.vasp')\n",
    "test_crystal1.pbc=False\n",
    "test_graph1 = atoms_to_ext_graph(test_crystal1, r_max, num_message_passing=1)\n",
    "test_graph1 = jax.tree_util.tree_map(to_f32, test_graph1)\n",
    "\n",
    "test_crystal2 = ase.io.read('data/molecules/phenol.vasp')\n",
    "test_crystal2.pbc=False\n",
    "test_graph2 = atoms_to_ext_graph(test_crystal2, r_max, num_message_passing=1)\n",
    "test_graph2 = jax.tree_util.tree_map(to_f32, test_graph2)\n",
    "\n",
    "train_masses = ase.data.atomic_masses[train_graph.nodes.species][train_graph.nodes.mask_primitive]\n",
    "test_masses1 = ase.data.atomic_masses[test_graph1.nodes.species][test_graph1.nodes.mask_primitive]\n",
    "test_masses2 = ase.data.atomic_masses[test_graph2.nodes.species][test_graph2.nodes.mask_primitive]\n",
    "\n",
    "\n",
    "def read_gamma_modes(fname):\n",
    "    all_modes = []\n",
    "    with open(fname,'r') as f:\n",
    "        for line in f:\n",
    "            if \"Mode\" in line:\n",
    "                all_modes.append(float(line.strip().split(',')[-1].strip().split()[0]))\n",
    "    all_modes = jnp.array(all_modes)\n",
    "    return all_modes\n",
    "benzene_gamma = read_gamma_modes('data/molecules/benzene_gamma')\n",
    "toluene_gamma = read_gamma_modes('data/molecules/toluene_gamma')\n",
    "phenol_gamma = read_gamma_modes('data/molecules/phenol_gamma')\n",
    "\n",
    "def loss_fn_train(spectra_in):\n",
    "    return jnp.mean(jnp.abs(spectra_in-benzene_gamma))\n",
    "def loss_fn_test(spectra_in):\n",
    "    return jnp.mean(jnp.abs(spectra_in-toluene_gamma))\n",
    "def mae_spectra(pred_spectra,target_spectra):\n",
    "    return jnp.mean(jnp.abs(pred_spectra-target_spectra))\n",
    "\n",
    "\n",
    "import optax\n",
    "\n",
    "gradient_transform = optax.adam(5E-5)\n",
    "\n",
    "optimizer_state = gradient_transform.init(params)\n",
    "\n",
    "spectra_predictor = jax.jit(\n",
    "    lambda w: predict_gamma_spectra_filter(w,model_fn,train_graph,train_masses)  #predict_gamma_spectra(lambda *x: model_fn(w, *x), test_graph)\n",
    ")\n",
    "\n",
    "valid_modes_original1 = predict_gamma_spectra_filter(params,model_fn,test_graph1,test_masses1)\n",
    "valid_modes_original2 = predict_gamma_spectra_filter(params,model_fn,test_graph2,test_masses2)\n",
    "\n",
    "print(valid_modes_original1)\n",
    "print(valid_modes_original2)\n"
   ]
  },
  {
   "cell_type": "markdown",
   "id": "9d0eda38-97b6-4a4f-8cdb-3b33c4a74315",
   "metadata": {},
   "source": []
  },
  {
   "cell_type": "code",
   "execution_count": 10,
   "id": "ec9db688",
   "metadata": {},
   "outputs": [
    {
     "name": "stdout",
     "output_type": "stream",
     "text": [
      "Benzene spectra MAE:  91.12171 Toluene spectra MAE:  74.20551 Phenol spectra MAE:  118.95801\n",
      "Benzene spectra MAE:  88.059845 Toluene spectra MAE:  74.18919 Phenol spectra MAE:  117.76283\n",
      "Benzene spectra MAE:  85.86708 Toluene spectra MAE:  72.87429 Phenol spectra MAE:  115.70694\n",
      "Benzene spectra MAE:  83.41568 Toluene spectra MAE:  70.7665 Phenol spectra MAE:  113.41099\n",
      "Benzene spectra MAE:  80.89757 Toluene spectra MAE:  68.3862 Phenol spectra MAE:  110.95591\n",
      "Benzene spectra MAE:  78.78432 Toluene spectra MAE:  65.72682 Phenol spectra MAE:  108.42663\n",
      "Benzene spectra MAE:  76.699165 Toluene spectra MAE:  63.42361 Phenol spectra MAE:  106.05086\n",
      "Benzene spectra MAE:  74.64546 Toluene spectra MAE:  61.307156 Phenol spectra MAE:  103.73342\n",
      "Benzene spectra MAE:  72.41833 Toluene spectra MAE:  59.640274 Phenol spectra MAE:  101.66294\n",
      "Benzene spectra MAE:  70.27754 Toluene spectra MAE:  58.177433 Phenol spectra MAE:  99.57655\n",
      "Benzene spectra MAE:  68.56174 Toluene spectra MAE:  56.83075 Phenol spectra MAE:  97.555664\n",
      "Benzene spectra MAE:  67.40623 Toluene spectra MAE:  55.64423 Phenol spectra MAE:  95.626305\n",
      "Benzene spectra MAE:  66.225945 Toluene spectra MAE:  54.373077 Phenol spectra MAE:  93.757\n",
      "Benzene spectra MAE:  65.04283 Toluene spectra MAE:  53.326298 Phenol spectra MAE:  92.0392\n",
      "Benzene spectra MAE:  64.29378 Toluene spectra MAE:  52.423985 Phenol spectra MAE:  90.32045\n",
      "Benzene spectra MAE:  63.429375 Toluene spectra MAE:  51.65116 Phenol spectra MAE:  88.833565\n",
      "Benzene spectra MAE:  62.43929 Toluene spectra MAE:  50.944145 Phenol spectra MAE:  87.49139\n",
      "Benzene spectra MAE:  61.37943 Toluene spectra MAE:  50.285168 Phenol spectra MAE:  86.291595\n",
      "Benzene spectra MAE:  60.243126 Toluene spectra MAE:  49.715343 Phenol spectra MAE:  85.29989\n",
      "Benzene spectra MAE:  59.006668 Toluene spectra MAE:  49.29444 Phenol spectra MAE:  84.4921\n",
      "Benzene spectra MAE:  57.67392 Toluene spectra MAE:  48.983288 Phenol spectra MAE:  83.889084\n",
      "Benzene spectra MAE:  56.342693 Toluene spectra MAE:  48.783337 Phenol spectra MAE:  83.47418\n",
      "Benzene spectra MAE:  54.93107 Toluene spectra MAE:  48.213516 Phenol spectra MAE:  82.85252\n",
      "Benzene spectra MAE:  54.112816 Toluene spectra MAE:  47.238712 Phenol spectra MAE:  81.88165\n",
      "Benzene spectra MAE:  53.310448 Toluene spectra MAE:  46.405224 Phenol spectra MAE:  81.08159\n",
      "Benzene spectra MAE:  52.534874 Toluene spectra MAE:  45.650265 Phenol spectra MAE:  80.24603\n",
      "Benzene spectra MAE:  51.765713 Toluene spectra MAE:  44.78005 Phenol spectra MAE:  79.38253\n",
      "Benzene spectra MAE:  51.060898 Toluene spectra MAE:  43.898045 Phenol spectra MAE:  78.622375\n",
      "Benzene spectra MAE:  50.526413 Toluene spectra MAE:  43.039246 Phenol spectra MAE:  77.88439\n",
      "Benzene spectra MAE:  49.869167 Toluene spectra MAE:  42.679108 Phenol spectra MAE:  77.400475\n",
      "Benzene spectra MAE:  49.048946 Toluene spectra MAE:  42.708908 Phenol spectra MAE:  77.13106\n",
      "Benzene spectra MAE:  48.38872 Toluene spectra MAE:  42.828857 Phenol spectra MAE:  77.1642\n",
      "Benzene spectra MAE:  47.753197 Toluene spectra MAE:  42.826065 Phenol spectra MAE:  77.18595\n",
      "Benzene spectra MAE:  47.113995 Toluene spectra MAE:  42.749763 Phenol spectra MAE:  77.1401\n",
      "Benzene spectra MAE:  46.577564 Toluene spectra MAE:  42.530228 Phenol spectra MAE:  76.88843\n",
      "Benzene spectra MAE:  45.97151 Toluene spectra MAE:  42.206707 Phenol spectra MAE:  76.45884\n",
      "Benzene spectra MAE:  45.320194 Toluene spectra MAE:  41.727238 Phenol spectra MAE:  75.83909\n",
      "Benzene spectra MAE:  44.62535 Toluene spectra MAE:  41.27335 Phenol spectra MAE:  74.96156\n",
      "Benzene spectra MAE:  43.90154 Toluene spectra MAE:  40.77647 Phenol spectra MAE:  73.962006\n",
      "Benzene spectra MAE:  43.35633 Toluene spectra MAE:  40.288937 Phenol spectra MAE:  72.984276\n",
      "Benzene spectra MAE:  42.800877 Toluene spectra MAE:  39.887344 Phenol spectra MAE:  72.11914\n",
      "Benzene spectra MAE:  42.177868 Toluene spectra MAE:  39.590694 Phenol spectra MAE:  71.48981\n",
      "Benzene spectra MAE:  41.459595 Toluene spectra MAE:  39.47575 Phenol spectra MAE:  70.99644\n",
      "Benzene spectra MAE:  40.977104 Toluene spectra MAE:  39.477093 Phenol spectra MAE:  70.76332\n",
      "Benzene spectra MAE:  40.220688 Toluene spectra MAE:  38.996014 Phenol spectra MAE:  69.911896\n",
      "Benzene spectra MAE:  39.59298 Toluene spectra MAE:  38.47108 Phenol spectra MAE:  68.935295\n",
      "Benzene spectra MAE:  39.11135 Toluene spectra MAE:  37.985886 Phenol spectra MAE:  68.020836\n",
      "Benzene spectra MAE:  38.576595 Toluene spectra MAE:  37.63791 Phenol spectra MAE:  67.445465\n",
      "Benzene spectra MAE:  38.036774 Toluene spectra MAE:  37.373592 Phenol spectra MAE:  67.0262\n",
      "Benzene spectra MAE:  37.51913 Toluene spectra MAE:  37.044132 Phenol spectra MAE:  66.60735\n",
      "Benzene spectra MAE:  36.959023 Toluene spectra MAE:  36.913727 Phenol spectra MAE:  66.37075\n",
      "Benzene spectra MAE:  36.419308 Toluene spectra MAE:  36.881817 Phenol spectra MAE:  66.2785\n",
      "Benzene spectra MAE:  35.917843 Toluene spectra MAE:  36.799286 Phenol spectra MAE:  66.0792\n",
      "Benzene spectra MAE:  35.37117 Toluene spectra MAE:  36.594273 Phenol spectra MAE:  65.737755\n",
      "Benzene spectra MAE:  34.75303 Toluene spectra MAE:  36.31332 Phenol spectra MAE:  65.33036\n",
      "Benzene spectra MAE:  34.543957 Toluene spectra MAE:  35.960808 Phenol spectra MAE:  64.76558\n",
      "Benzene spectra MAE:  34.36601 Toluene spectra MAE:  35.64767 Phenol spectra MAE:  64.34987\n",
      "Benzene spectra MAE:  34.15337 Toluene spectra MAE:  35.422684 Phenol spectra MAE:  64.04087\n",
      "Benzene spectra MAE:  33.865826 Toluene spectra MAE:  35.3477 Phenol spectra MAE:  63.956367\n",
      "Benzene spectra MAE:  33.59395 Toluene spectra MAE:  35.32049 Phenol spectra MAE:  63.8919\n",
      "Benzene spectra MAE:  33.29308 Toluene spectra MAE:  35.283615 Phenol spectra MAE:  63.84893\n",
      "Benzene spectra MAE:  33.067886 Toluene spectra MAE:  35.24428 Phenol spectra MAE:  63.757763\n",
      "Benzene spectra MAE:  32.842163 Toluene spectra MAE:  35.166584 Phenol spectra MAE:  63.6753\n",
      "Benzene spectra MAE:  32.604706 Toluene spectra MAE:  35.100475 Phenol spectra MAE:  63.529964\n",
      "Benzene spectra MAE:  32.348648 Toluene spectra MAE:  35.01699 Phenol spectra MAE:  63.3069\n",
      "Benzene spectra MAE:  32.08634 Toluene spectra MAE:  34.90898 Phenol spectra MAE:  63.05537\n",
      "Benzene spectra MAE:  31.798887 Toluene spectra MAE:  34.761566 Phenol spectra MAE:  62.7141\n",
      "Benzene spectra MAE:  31.648216 Toluene spectra MAE:  34.55864 Phenol spectra MAE:  62.259575\n",
      "Benzene spectra MAE:  31.45669 Toluene spectra MAE:  34.468742 Phenol spectra MAE:  62.05159\n",
      "Benzene spectra MAE:  31.342827 Toluene spectra MAE:  34.862774 Phenol spectra MAE:  62.601444\n",
      "Benzene spectra MAE:  31.505018 Toluene spectra MAE:  35.055077 Phenol spectra MAE:  62.81057\n",
      "Benzene spectra MAE:  30.838305 Toluene spectra MAE:  34.634308 Phenol spectra MAE:  62.19228\n",
      "Benzene spectra MAE:  31.142792 Toluene spectra MAE:  34.044464 Phenol spectra MAE:  61.34365\n",
      "Benzene spectra MAE:  31.189497 Toluene spectra MAE:  33.903133 Phenol spectra MAE:  60.962833\n",
      "Benzene spectra MAE:  30.751274 Toluene spectra MAE:  33.954884 Phenol spectra MAE:  61.06853\n",
      "Benzene spectra MAE:  30.068594 Toluene spectra MAE:  34.363125 Phenol spectra MAE:  61.55057\n",
      "Benzene spectra MAE:  30.70017 Toluene spectra MAE:  34.871857 Phenol spectra MAE:  62.08079\n",
      "Benzene spectra MAE:  30.31831 Toluene spectra MAE:  34.73918 Phenol spectra MAE:  61.736164\n",
      "Benzene spectra MAE:  29.872372 Toluene spectra MAE:  34.135185 Phenol spectra MAE:  60.737793\n",
      "Benzene spectra MAE:  30.04811 Toluene spectra MAE:  33.793377 Phenol spectra MAE:  60.189705\n",
      "Benzene spectra MAE:  29.737864 Toluene spectra MAE:  33.85152 Phenol spectra MAE:  60.288506\n",
      "Benzene spectra MAE:  29.215073 Toluene spectra MAE:  34.120064 Phenol spectra MAE:  60.673786\n",
      "Benzene spectra MAE:  29.44229 Toluene spectra MAE:  34.441414 Phenol spectra MAE:  61.191597\n",
      "Benzene spectra MAE:  28.986013 Toluene spectra MAE:  34.20917 Phenol spectra MAE:  60.949444\n",
      "Benzene spectra MAE:  29.075146 Toluene spectra MAE:  33.672325 Phenol spectra MAE:  60.211143\n",
      "Benzene spectra MAE:  29.370857 Toluene spectra MAE:  33.377373 Phenol spectra MAE:  59.668354\n",
      "Benzene spectra MAE:  29.26784 Toluene spectra MAE:  33.289967 Phenol spectra MAE:  59.497017\n",
      "Benzene spectra MAE:  28.831272 Toluene spectra MAE:  33.33537 Phenol spectra MAE:  59.619755\n",
      "Benzene spectra MAE:  28.275776 Toluene spectra MAE:  33.72248 Phenol spectra MAE:  60.036255\n",
      "Benzene spectra MAE:  28.747972 Toluene spectra MAE:  34.166023 Phenol spectra MAE:  60.536358\n",
      "Benzene spectra MAE:  28.589766 Toluene spectra MAE:  34.03318 Phenol spectra MAE:  60.311283\n",
      "Benzene spectra MAE:  27.895767 Toluene spectra MAE:  33.545994 Phenol spectra MAE:  59.61194\n",
      "Benzene spectra MAE:  28.186487 Toluene spectra MAE:  32.922215 Phenol spectra MAE:  58.762608\n",
      "Benzene spectra MAE:  28.28451 Toluene spectra MAE:  32.766792 Phenol spectra MAE:  58.51448\n",
      "Benzene spectra MAE:  27.762114 Toluene spectra MAE:  32.901157 Phenol spectra MAE:  58.763535\n",
      "Benzene spectra MAE:  27.420479 Toluene spectra MAE:  33.37417 Phenol spectra MAE:  59.474186\n",
      "Benzene spectra MAE:  27.911789 Toluene spectra MAE:  33.848385 Phenol spectra MAE:  60.14179\n",
      "Benzene spectra MAE:  27.785082 Toluene spectra MAE:  33.854538 Phenol spectra MAE:  60.07257\n",
      "Benzene spectra MAE:  27.136566 Toluene spectra MAE:  33.386658 Phenol spectra MAE:  59.38295\n",
      "Benzene spectra MAE:  27.008955 Toluene spectra MAE:  33.03437 Phenol spectra MAE:  58.80787\n",
      "Benzene spectra MAE:  27.038675 Toluene spectra MAE:  32.748737 Phenol spectra MAE:  58.27156\n",
      "Benzene spectra MAE:  26.84569 Toluene spectra MAE:  32.709347 Phenol spectra MAE:  58.116848\n",
      "Benzene spectra MAE:  26.420938 Toluene spectra MAE:  32.95917 Phenol spectra MAE:  58.390133\n",
      "Benzene spectra MAE:  26.510439 Toluene spectra MAE:  33.36116 Phenol spectra MAE:  58.867302\n",
      "Benzene spectra MAE:  26.491283 Toluene spectra MAE:  33.363857 Phenol spectra MAE:  58.809284\n",
      "Benzene spectra MAE:  25.874752 Toluene spectra MAE:  32.96732 Phenol spectra MAE:  58.20891\n",
      "Benzene spectra MAE:  25.896114 Toluene spectra MAE:  32.77661 Phenol spectra MAE:  57.932095\n",
      "Benzene spectra MAE:  25.74997 Toluene spectra MAE:  32.756042 Phenol spectra MAE:  57.88207\n",
      "Benzene spectra MAE:  25.52279 Toluene spectra MAE:  32.91498 Phenol spectra MAE:  58.073586\n",
      "Benzene spectra MAE:  25.510588 Toluene spectra MAE:  33.069645 Phenol spectra MAE:  58.232616\n",
      "Benzene spectra MAE:  25.207623 Toluene spectra MAE:  32.91797 Phenol spectra MAE:  57.958645\n",
      "Benzene spectra MAE:  25.175419 Toluene spectra MAE:  32.627666 Phenol spectra MAE:  57.448364\n",
      "Benzene spectra MAE:  25.088364 Toluene spectra MAE:  32.569138 Phenol spectra MAE:  57.285194\n",
      "Benzene spectra MAE:  24.91974 Toluene spectra MAE:  32.68618 Phenol spectra MAE:  57.381218\n",
      "Benzene spectra MAE:  24.703663 Toluene spectra MAE:  32.922184 Phenol spectra MAE:  57.630905\n",
      "Benzene spectra MAE:  24.606817 Toluene spectra MAE:  32.958214 Phenol spectra MAE:  57.620266\n",
      "Benzene spectra MAE:  24.450815 Toluene spectra MAE:  32.845993 Phenol spectra MAE:  57.354107\n",
      "Benzene spectra MAE:  24.322136 Toluene spectra MAE:  32.792355 Phenol spectra MAE:  57.183914\n",
      "Benzene spectra MAE:  24.230333 Toluene spectra MAE:  32.90115 Phenol spectra MAE:  57.222225\n",
      "Benzene spectra MAE:  24.009848 Toluene spectra MAE:  32.85505 Phenol spectra MAE:  57.082867\n",
      "Benzene spectra MAE:  23.856531 Toluene spectra MAE:  32.917507 Phenol spectra MAE:  57.128155\n",
      "Benzene spectra MAE:  23.800621 Toluene spectra MAE:  33.038998 Phenol spectra MAE:  57.21817\n",
      "Benzene spectra MAE:  23.670046 Toluene spectra MAE:  32.81583 Phenol spectra MAE:  56.835407\n",
      "Benzene spectra MAE:  23.628925 Toluene spectra MAE:  32.776962 Phenol spectra MAE:  56.748386\n",
      "Benzene spectra MAE:  23.351011 Toluene spectra MAE:  33.012417 Phenol spectra MAE:  56.957108\n",
      "Benzene spectra MAE:  23.643614 Toluene spectra MAE:  33.226173 Phenol spectra MAE:  57.14172\n",
      "Benzene spectra MAE:  23.293457 Toluene spectra MAE:  32.969883 Phenol spectra MAE:  56.697113\n",
      "Benzene spectra MAE:  23.684727 Toluene spectra MAE:  32.53662 Phenol spectra MAE:  56.047825\n",
      "Benzene spectra MAE:  23.669016 Toluene spectra MAE:  32.475487 Phenol spectra MAE:  55.92077\n",
      "Benzene spectra MAE:  23.119349 Toluene spectra MAE:  32.813057 Phenol spectra MAE:  56.32789\n",
      "Benzene spectra MAE:  22.903082 Toluene spectra MAE:  33.287376 Phenol spectra MAE:  56.992573\n",
      "Benzene spectra MAE:  22.760162 Toluene spectra MAE:  33.349003 Phenol spectra MAE:  56.978245\n",
      "Benzene spectra MAE:  22.911764 Toluene spectra MAE:  32.998974 Phenol spectra MAE:  56.514523\n",
      "Benzene spectra MAE:  22.810104 Toluene spectra MAE:  32.852654 Phenol spectra MAE:  56.22516\n",
      "Benzene spectra MAE:  22.409693 Toluene spectra MAE:  32.891506 Phenol spectra MAE:  56.14493\n",
      "Benzene spectra MAE:  22.24125 Toluene spectra MAE:  33.10961 Phenol spectra MAE:  56.34216\n",
      "Benzene spectra MAE:  22.13856 Toluene spectra MAE:  32.92959 Phenol spectra MAE:  55.990273\n",
      "Benzene spectra MAE:  22.461805 Toluene spectra MAE:  32.570644 Phenol spectra MAE:  55.43302\n",
      "Benzene spectra MAE:  22.311365 Toluene spectra MAE:  32.56509 Phenol spectra MAE:  55.451393\n",
      "Benzene spectra MAE:  21.71801 Toluene spectra MAE:  32.89321 Phenol spectra MAE:  55.882313\n",
      "Benzene spectra MAE:  22.406857 Toluene spectra MAE:  33.34638 Phenol spectra MAE:  56.479424\n",
      "Benzene spectra MAE:  22.270557 Toluene spectra MAE:  33.309746 Phenol spectra MAE:  56.365837\n",
      "Benzene spectra MAE:  21.501116 Toluene spectra MAE:  32.849934 Phenol spectra MAE:  55.661522\n",
      "Benzene spectra MAE:  21.777878 Toluene spectra MAE:  32.540604 Phenol spectra MAE:  55.14839\n",
      "Benzene spectra MAE:  21.596872 Toluene spectra MAE:  32.57445 Phenol spectra MAE:  55.131077\n",
      "Benzene spectra MAE:  21.449774 Toluene spectra MAE:  32.881775 Phenol spectra MAE:  55.437813\n",
      "Benzene spectra MAE:  21.271376 Toluene spectra MAE:  32.866615 Phenol spectra MAE:  55.397297\n",
      "Benzene spectra MAE:  21.433054 Toluene spectra MAE:  32.546432 Phenol spectra MAE:  54.97713\n",
      "Benzene spectra MAE:  21.5598 Toluene spectra MAE:  32.468674 Phenol spectra MAE:  54.79729\n",
      "Benzene spectra MAE:  21.369877 Toluene spectra MAE:  32.489346 Phenol spectra MAE:  54.83217\n",
      "Benzene spectra MAE:  20.967901 Toluene spectra MAE:  32.694725 Phenol spectra MAE:  55.002052\n",
      "Benzene spectra MAE:  21.37463 Toluene spectra MAE:  32.893524 Phenol spectra MAE:  55.20023\n",
      "Benzene spectra MAE:  21.17725 Toluene spectra MAE:  32.72441 Phenol spectra MAE:  54.88141\n",
      "Benzene spectra MAE:  20.99728 Toluene spectra MAE:  32.321983 Phenol spectra MAE:  54.24907\n",
      "Benzene spectra MAE:  20.988876 Toluene spectra MAE:  32.23216 Phenol spectra MAE:  54.133057\n",
      "Benzene spectra MAE:  20.639698 Toluene spectra MAE:  32.491413 Phenol spectra MAE:  54.43665\n",
      "Benzene spectra MAE:  21.083641 Toluene spectra MAE:  32.81164 Phenol spectra MAE:  54.876213\n",
      "Benzene spectra MAE:  20.86333 Toluene spectra MAE:  32.74485 Phenol spectra MAE:  54.774513\n",
      "Benzene spectra MAE:  20.812685 Toluene spectra MAE:  32.23705 Phenol spectra MAE:  54.051136\n",
      "Benzene spectra MAE:  20.995712 Toluene spectra MAE:  31.91223 Phenol spectra MAE:  53.59219\n",
      "Benzene spectra MAE:  20.91329 Toluene spectra MAE:  31.871248 Phenol spectra MAE:  53.46998\n",
      "Benzene spectra MAE:  20.495363 Toluene spectra MAE:  32.099342 Phenol spectra MAE:  53.73941\n",
      "Benzene spectra MAE:  20.571905 Toluene spectra MAE:  32.561066 Phenol spectra MAE:  54.310974\n",
      "Benzene spectra MAE:  20.606958 Toluene spectra MAE:  32.52133 Phenol spectra MAE:  54.23433\n",
      "Benzene spectra MAE:  20.163746 Toluene spectra MAE:  32.102306 Phenol spectra MAE:  53.619553\n",
      "Benzene spectra MAE:  20.21534 Toluene spectra MAE:  32.005558 Phenol spectra MAE:  53.446003\n",
      "Benzene spectra MAE:  20.080027 Toluene spectra MAE:  32.20706 Phenol spectra MAE:  53.72194\n",
      "Benzene spectra MAE:  20.003033 Toluene spectra MAE:  32.2704 Phenol spectra MAE:  53.81455\n",
      "Benzene spectra MAE:  20.048664 Toluene spectra MAE:  32.05754 Phenol spectra MAE:  53.541565\n",
      "Benzene spectra MAE:  20.034575 Toluene spectra MAE:  32.13323 Phenol spectra MAE:  53.683685\n",
      "Benzene spectra MAE:  19.931479 Toluene spectra MAE:  32.258385 Phenol spectra MAE:  53.87279\n",
      "Benzene spectra MAE:  19.841635 Toluene spectra MAE:  32.206932 Phenol spectra MAE:  53.77989\n",
      "Benzene spectra MAE:  19.759977 Toluene spectra MAE:  31.96481 Phenol spectra MAE:  53.43327\n",
      "Benzene spectra MAE:  19.855167 Toluene spectra MAE:  31.845322 Phenol spectra MAE:  53.24666\n",
      "Benzene spectra MAE:  19.683674 Toluene spectra MAE:  31.999838 Phenol spectra MAE:  53.49742\n",
      "Benzene spectra MAE:  19.628345 Toluene spectra MAE:  32.074512 Phenol spectra MAE:  53.648064\n",
      "Benzene spectra MAE:  19.522184 Toluene spectra MAE:  31.96024 Phenol spectra MAE:  53.503376\n",
      "Benzene spectra MAE:  19.48328 Toluene spectra MAE:  31.991102 Phenol spectra MAE:  53.54706\n",
      "Benzene spectra MAE:  19.472178 Toluene spectra MAE:  31.802559 Phenol spectra MAE:  53.258545\n",
      "Benzene spectra MAE:  19.371265 Toluene spectra MAE:  31.770576 Phenol spectra MAE:  53.16426\n",
      "Benzene spectra MAE:  19.553844 Toluene spectra MAE:  31.992191 Phenol spectra MAE:  53.43118\n",
      "Benzene spectra MAE:  19.473373 Toluene spectra MAE:  31.911957 Phenol spectra MAE:  53.325573\n",
      "Benzene spectra MAE:  19.295458 Toluene spectra MAE:  31.618359 Phenol spectra MAE:  52.965275\n",
      "Benzene spectra MAE:  19.266726 Toluene spectra MAE:  31.66434 Phenol spectra MAE:  53.032753\n",
      "Benzene spectra MAE:  19.151955 Toluene spectra MAE:  31.845098 Phenol spectra MAE:  53.313908\n",
      "Benzene spectra MAE:  19.182512 Toluene spectra MAE:  31.872074 Phenol spectra MAE:  53.353207\n",
      "Benzene spectra MAE:  19.023716 Toluene spectra MAE:  31.610981 Phenol spectra MAE:  52.93647\n",
      "Benzene spectra MAE:  18.978737 Toluene spectra MAE:  31.557518 Phenol spectra MAE:  52.835148\n",
      "Benzene spectra MAE:  19.165274 Toluene spectra MAE:  31.826464 Phenol spectra MAE:  53.211662\n",
      "Benzene spectra MAE:  19.019453 Toluene spectra MAE:  31.761187 Phenol spectra MAE:  53.156414\n",
      "Benzene spectra MAE:  18.82736 Toluene spectra MAE:  31.451529 Phenol spectra MAE:  52.76421\n",
      "Benzene spectra MAE:  18.923567 Toluene spectra MAE:  31.367714 Phenol spectra MAE:  52.623848\n",
      "Benzene spectra MAE:  18.84794 Toluene spectra MAE:  31.339218 Phenol spectra MAE:  52.596554\n",
      "Benzene spectra MAE:  18.686247 Toluene spectra MAE:  31.604668 Phenol spectra MAE:  52.899292\n",
      "Benzene spectra MAE:  18.683172 Toluene spectra MAE:  31.54111 Phenol spectra MAE:  52.78343\n",
      "Benzene spectra MAE:  18.63614 Toluene spectra MAE:  31.322441 Phenol spectra MAE:  52.516582\n",
      "Benzene spectra MAE:  18.495897 Toluene spectra MAE:  31.436836 Phenol spectra MAE:  52.690704\n",
      "Benzene spectra MAE:  18.488071 Toluene spectra MAE:  31.489447 Phenol spectra MAE:  52.780914\n",
      "Benzene spectra MAE:  18.451738 Toluene spectra MAE:  31.260185 Phenol spectra MAE:  52.512\n",
      "Benzene spectra MAE:  18.401274 Toluene spectra MAE:  31.29997 Phenol spectra MAE:  52.525383\n",
      "Benzene spectra MAE:  18.571949 Toluene spectra MAE:  31.521347 Phenol spectra MAE:  52.80187\n",
      "Benzene spectra MAE:  18.463291 Toluene spectra MAE:  31.475067 Phenol spectra MAE:  52.733078\n",
      "Benzene spectra MAE:  18.140251 Toluene spectra MAE:  31.281492 Phenol spectra MAE:  52.44167\n",
      "Benzene spectra MAE:  18.43683 Toluene spectra MAE:  31.071121 Phenol spectra MAE:  52.11302\n",
      "Benzene spectra MAE:  18.337082 Toluene spectra MAE:  31.1539 Phenol spectra MAE:  52.193886\n",
      "Benzene spectra MAE:  18.234756 Toluene spectra MAE:  31.44957 Phenol spectra MAE:  52.608883\n",
      "Benzene spectra MAE:  18.263453 Toluene spectra MAE:  31.440882 Phenol spectra MAE:  52.68319\n",
      "Benzene spectra MAE:  18.01096 Toluene spectra MAE:  31.168385 Phenol spectra MAE:  52.262455\n",
      "Benzene spectra MAE:  17.907972 Toluene spectra MAE:  31.117085 Phenol spectra MAE:  52.193035\n",
      "Benzene spectra MAE:  17.975294 Toluene spectra MAE:  31.221016 Phenol spectra MAE:  52.247654\n",
      "Benzene spectra MAE:  17.865429 Toluene spectra MAE:  31.117886 Phenol spectra MAE:  52.04766\n",
      "Benzene spectra MAE:  18.008278 Toluene spectra MAE:  30.845917 Phenol spectra MAE:  51.704296\n",
      "Benzene spectra MAE:  17.767653 Toluene spectra MAE:  30.943691 Phenol spectra MAE:  51.84544\n",
      "Benzene spectra MAE:  17.953964 Toluene spectra MAE:  31.266039 Phenol spectra MAE:  52.258583\n",
      "Benzene spectra MAE:  17.84912 Toluene spectra MAE:  31.212017 Phenol spectra MAE:  52.173565\n",
      "Benzene spectra MAE:  17.704811 Toluene spectra MAE:  30.85833 Phenol spectra MAE:  51.71642\n",
      "Benzene spectra MAE:  17.753342 Toluene spectra MAE:  30.763216 Phenol spectra MAE:  51.481586\n",
      "Benzene spectra MAE:  17.4301 Toluene spectra MAE:  30.909824 Phenol spectra MAE:  51.668663\n",
      "Benzene spectra MAE:  17.659851 Toluene spectra MAE:  31.116367 Phenol spectra MAE:  51.868206\n",
      "Benzene spectra MAE:  17.451355 Toluene spectra MAE:  30.975689 Phenol spectra MAE:  51.635967\n",
      "Benzene spectra MAE:  17.628777 Toluene spectra MAE:  30.606977 Phenol spectra MAE:  51.163803\n",
      "Benzene spectra MAE:  17.473564 Toluene spectra MAE:  30.635551 Phenol spectra MAE:  51.17533\n",
      "Benzene spectra MAE:  17.320717 Toluene spectra MAE:  30.928911 Phenol spectra MAE:  51.55746\n",
      "Benzene spectra MAE:  17.375355 Toluene spectra MAE:  30.95625 Phenol spectra MAE:  51.570534\n",
      "Benzene spectra MAE:  17.266626 Toluene spectra MAE:  30.654705 Phenol spectra MAE:  51.12239\n",
      "Benzene spectra MAE:  17.279358 Toluene spectra MAE:  30.566648 Phenol spectra MAE:  50.91347\n",
      "Benzene spectra MAE:  17.195204 Toluene spectra MAE:  30.710634 Phenol spectra MAE:  51.058212\n",
      "Benzene spectra MAE:  17.115208 Toluene spectra MAE:  30.784325 Phenol spectra MAE:  51.11247\n",
      "Benzene spectra MAE:  16.921354 Toluene spectra MAE:  30.6756 Phenol spectra MAE:  51.00244\n",
      "Benzene spectra MAE:  17.074013 Toluene spectra MAE:  30.48323 Phenol spectra MAE:  50.727913\n",
      "Benzene spectra MAE:  16.94502 Toluene spectra MAE:  30.53434 Phenol spectra MAE:  50.73829\n",
      "Benzene spectra MAE:  16.923462 Toluene spectra MAE:  30.765923 Phenol spectra MAE:  50.970592\n",
      "Benzene spectra MAE:  16.7984 Toluene spectra MAE:  30.655907 Phenol spectra MAE:  50.73766\n",
      "Benzene spectra MAE:  16.769041 Toluene spectra MAE:  30.490816 Phenol spectra MAE:  50.495224\n",
      "Benzene spectra MAE:  16.776615 Toluene spectra MAE:  30.700142 Phenol spectra MAE:  50.70966\n",
      "Benzene spectra MAE:  16.625034 Toluene spectra MAE:  30.605352 Phenol spectra MAE:  50.562954\n",
      "Benzene spectra MAE:  16.591879 Toluene spectra MAE:  30.486414 Phenol spectra MAE:  50.38266\n",
      "Benzene spectra MAE:  16.545086 Toluene spectra MAE:  30.576553 Phenol spectra MAE:  50.500065\n",
      "Benzene spectra MAE:  16.478128 Toluene spectra MAE:  30.521782 Phenol spectra MAE:  50.331913\n",
      "Benzene spectra MAE:  16.413342 Toluene spectra MAE:  30.48055 Phenol spectra MAE:  50.221985\n",
      "Benzene spectra MAE:  16.370815 Toluene spectra MAE:  30.476751 Phenol spectra MAE:  50.16095\n",
      "Benzene spectra MAE:  16.320465 Toluene spectra MAE:  30.477358 Phenol spectra MAE:  50.106205\n",
      "Benzene spectra MAE:  16.274359 Toluene spectra MAE:  30.498968 Phenol spectra MAE:  50.126053\n",
      "Benzene spectra MAE:  16.223335 Toluene spectra MAE:  30.432796 Phenol spectra MAE:  50.010033\n",
      "Benzene spectra MAE:  16.236683 Toluene spectra MAE:  30.478592 Phenol spectra MAE:  49.946194\n",
      "Benzene spectra MAE:  16.184383 Toluene spectra MAE:  30.365206 Phenol spectra MAE:  49.80618\n",
      "Benzene spectra MAE:  16.154804 Toluene spectra MAE:  30.328062 Phenol spectra MAE:  49.73584\n",
      "Benzene spectra MAE:  16.091482 Toluene spectra MAE:  30.47433 Phenol spectra MAE:  49.91797\n",
      "Benzene spectra MAE:  16.058384 Toluene spectra MAE:  30.32252 Phenol spectra MAE:  49.695946\n",
      "Benzene spectra MAE:  15.949572 Toluene spectra MAE:  30.271278 Phenol spectra MAE:  49.555916\n",
      "Benzene spectra MAE:  16.10506 Toluene spectra MAE:  30.476387 Phenol spectra MAE:  49.711887\n",
      "Benzene spectra MAE:  16.11747 Toluene spectra MAE:  30.471498 Phenol spectra MAE:  49.621273\n",
      "Benzene spectra MAE:  15.883598 Toluene spectra MAE:  30.337994 Phenol spectra MAE:  49.39849\n",
      "Benzene spectra MAE:  16.211338 Toluene spectra MAE:  30.1129 Phenol spectra MAE:  49.095898\n",
      "Benzene spectra MAE:  16.278996 Toluene spectra MAE:  30.201336 Phenol spectra MAE:  49.20075\n",
      "Benzene spectra MAE:  16.22334 Toluene spectra MAE:  30.258965 Phenol spectra MAE:  49.357246\n",
      "Benzene spectra MAE:  15.994577 Toluene spectra MAE:  30.378843 Phenol spectra MAE:  49.55244\n",
      "Benzene spectra MAE:  15.814683 Toluene spectra MAE:  30.22547 Phenol spectra MAE:  49.29263\n",
      "Benzene spectra MAE:  16.152103 Toluene spectra MAE:  29.871767 Phenol spectra MAE:  48.75188\n",
      "Benzene spectra MAE:  16.126778 Toluene spectra MAE:  29.838505 Phenol spectra MAE:  48.68667\n",
      "Benzene spectra MAE:  15.870178 Toluene spectra MAE:  30.089375 Phenol spectra MAE:  49.105854\n",
      "Benzene spectra MAE:  15.934539 Toluene spectra MAE:  30.257431 Phenol spectra MAE:  49.420155\n",
      "Benzene spectra MAE:  15.778355 Toluene spectra MAE:  30.19681 Phenol spectra MAE:  49.446037\n",
      "Benzene spectra MAE:  15.947546 Toluene spectra MAE:  29.918745 Phenol spectra MAE:  49.039078\n",
      "Benzene spectra MAE:  16.109535 Toluene spectra MAE:  29.794546 Phenol spectra MAE:  48.819572\n",
      "Benzene spectra MAE:  15.954994 Toluene spectra MAE:  29.761816 Phenol spectra MAE:  48.828045\n",
      "Benzene spectra MAE:  15.61092 Toluene spectra MAE:  29.846468 Phenol spectra MAE:  49.109222\n",
      "Benzene spectra MAE:  15.884344 Toluene spectra MAE:  30.12804 Phenol spectra MAE:  49.39206\n",
      "Benzene spectra MAE:  16.040577 Toluene spectra MAE:  30.118315 Phenol spectra MAE:  49.29323\n",
      "Benzene spectra MAE:  15.910915 Toluene spectra MAE:  29.878462 Phenol spectra MAE:  48.93916\n",
      "Benzene spectra MAE:  15.633878 Toluene spectra MAE:  29.579361 Phenol spectra MAE:  48.592197\n",
      "Benzene spectra MAE:  15.457031 Toluene spectra MAE:  29.611319 Phenol spectra MAE:  48.74169\n",
      "Benzene spectra MAE:  15.649251 Toluene spectra MAE:  30.014458 Phenol spectra MAE:  49.323296\n",
      "Benzene spectra MAE:  15.756837 Toluene spectra MAE:  30.05125 Phenol spectra MAE:  49.470684\n",
      "Benzene spectra MAE:  15.65247 Toluene spectra MAE:  29.805174 Phenol spectra MAE:  49.145065\n",
      "Benzene spectra MAE:  15.610411 Toluene spectra MAE:  29.632933 Phenol spectra MAE:  48.88118\n",
      "Benzene spectra MAE:  15.407553 Toluene spectra MAE:  29.555614 Phenol spectra MAE:  48.71879\n",
      "Benzene spectra MAE:  15.266297 Toluene spectra MAE:  29.664248 Phenol spectra MAE:  48.887016\n",
      "Benzene spectra MAE:  15.378682 Toluene spectra MAE:  29.712181 Phenol spectra MAE:  48.91578\n",
      "Benzene spectra MAE:  15.220061 Toluene spectra MAE:  29.678028 Phenol spectra MAE:  48.917793\n",
      "Benzene spectra MAE:  15.188096 Toluene spectra MAE:  29.503965 Phenol spectra MAE:  48.740257\n",
      "Benzene spectra MAE:  15.278098 Toluene spectra MAE:  29.544134 Phenol spectra MAE:  48.80446\n",
      "Benzene spectra MAE:  15.120956 Toluene spectra MAE:  29.551327 Phenol spectra MAE:  48.843117\n",
      "Benzene spectra MAE:  15.219179 Toluene spectra MAE:  29.661907 Phenol spectra MAE:  48.918976\n",
      "Benzene spectra MAE:  15.280938 Toluene spectra MAE:  29.518587 Phenol spectra MAE:  48.650387\n",
      "Benzene spectra MAE:  15.176529 Toluene spectra MAE:  29.352571 Phenol spectra MAE:  48.42346\n",
      "Benzene spectra MAE:  15.051127 Toluene spectra MAE:  29.334488 Phenol spectra MAE:  48.437332\n",
      "Benzene spectra MAE:  14.925454 Toluene spectra MAE:  29.51806 Phenol spectra MAE:  48.719147\n",
      "Benzene spectra MAE:  15.031534 Toluene spectra MAE:  29.60622 Phenol spectra MAE:  48.916252\n",
      "Benzene spectra MAE:  14.953675 Toluene spectra MAE:  29.603992 Phenol spectra MAE:  48.81683\n",
      "Benzene spectra MAE:  14.852909 Toluene spectra MAE:  29.463856 Phenol spectra MAE:  48.519398\n",
      "Benzene spectra MAE:  14.813117 Toluene spectra MAE:  29.498917 Phenol spectra MAE:  48.582375\n",
      "Benzene spectra MAE:  14.837525 Toluene spectra MAE:  29.579727 Phenol spectra MAE:  48.64541\n",
      "Benzene spectra MAE:  14.730625 Toluene spectra MAE:  29.440464 Phenol spectra MAE:  48.49799\n",
      "Benzene spectra MAE:  14.811274 Toluene spectra MAE:  29.470047 Phenol spectra MAE:  48.4879\n",
      "Benzene spectra MAE:  14.734947 Toluene spectra MAE:  29.531235 Phenol spectra MAE:  48.595024\n",
      "Benzene spectra MAE:  14.6600065 Toluene spectra MAE:  29.501566 Phenol spectra MAE:  48.55192\n",
      "Benzene spectra MAE:  14.686289 Toluene spectra MAE:  29.354996 Phenol spectra MAE:  48.236275\n",
      "Benzene spectra MAE:  14.690735 Toluene spectra MAE:  29.318607 Phenol spectra MAE:  48.18869\n",
      "Benzene spectra MAE:  14.77443 Toluene spectra MAE:  29.58554 Phenol spectra MAE:  48.597553\n",
      "Benzene spectra MAE:  14.705644 Toluene spectra MAE:  29.593277 Phenol spectra MAE:  48.605736\n",
      "Benzene spectra MAE:  14.57028 Toluene spectra MAE:  29.394135 Phenol spectra MAE:  48.246613\n",
      "Benzene spectra MAE:  14.6376095 Toluene spectra MAE:  29.287743 Phenol spectra MAE:  48.075687\n",
      "Benzene spectra MAE:  14.445726 Toluene spectra MAE:  29.45897 Phenol spectra MAE:  48.346687\n",
      "Benzene spectra MAE:  14.634982 Toluene spectra MAE:  29.542452 Phenol spectra MAE:  48.44502\n",
      "Benzene spectra MAE:  14.41892 Toluene spectra MAE:  29.309853 Phenol spectra MAE:  48.121574\n",
      "Benzene spectra MAE:  14.653061 Toluene spectra MAE:  29.191845 Phenol spectra MAE:  47.84318\n",
      "Benzene spectra MAE:  14.390534 Toluene spectra MAE:  29.294397 Phenol spectra MAE:  48.030926\n",
      "Benzene spectra MAE:  14.697029 Toluene spectra MAE:  29.680351 Phenol spectra MAE:  48.539696\n",
      "Benzene spectra MAE:  14.731373 Toluene spectra MAE:  29.723597 Phenol spectra MAE:  48.584095\n",
      "Benzene spectra MAE:  14.3106985 Toluene spectra MAE:  29.398056 Phenol spectra MAE:  48.184002\n",
      "Benzene spectra MAE:  14.821338 Toluene spectra MAE:  29.13327 Phenol spectra MAE:  47.548977\n",
      "Benzene spectra MAE:  14.932159 Toluene spectra MAE:  29.116568 Phenol spectra MAE:  47.46205\n",
      "Benzene spectra MAE:  14.532028 Toluene spectra MAE:  29.280394 Phenol spectra MAE:  47.802315\n",
      "Benzene spectra MAE:  14.33723 Toluene spectra MAE:  29.605108 Phenol spectra MAE:  48.383614\n",
      "Benzene spectra MAE:  14.469167 Toluene spectra MAE:  29.67915 Phenol spectra MAE:  48.47129\n",
      "Benzene spectra MAE:  14.260499 Toluene spectra MAE:  29.471968 Phenol spectra MAE:  48.11428\n",
      "Benzene spectra MAE:  14.128563 Toluene spectra MAE:  29.294415 Phenol spectra MAE:  47.81331\n",
      "Benzene spectra MAE:  14.139273 Toluene spectra MAE:  29.297583 Phenol spectra MAE:  47.896225\n",
      "Benzene spectra MAE:  14.097638 Toluene spectra MAE:  29.329687 Phenol spectra MAE:  47.95206\n",
      "Benzene spectra MAE:  13.92982 Toluene spectra MAE:  29.32969 Phenol spectra MAE:  47.832874\n",
      "Benzene spectra MAE:  13.97081 Toluene spectra MAE:  29.372171 Phenol spectra MAE:  47.85923\n",
      "Benzene spectra MAE:  13.854355 Toluene spectra MAE:  29.37186 Phenol spectra MAE:  47.92706\n",
      "Benzene spectra MAE:  13.983057 Toluene spectra MAE:  29.246733 Phenol spectra MAE:  47.70907\n",
      "Benzene spectra MAE:  13.993557 Toluene spectra MAE:  29.154976 Phenol spectra MAE:  47.55565\n",
      "Benzene spectra MAE:  13.877738 Toluene spectra MAE:  29.307537 Phenol spectra MAE:  47.74745\n",
      "Benzene spectra MAE:  13.864812 Toluene spectra MAE:  29.370972 Phenol spectra MAE:  47.83781\n",
      "Benzene spectra MAE:  13.890594 Toluene spectra MAE:  29.271122 Phenol spectra MAE:  47.648853\n",
      "Benzene spectra MAE:  13.810778 Toluene spectra MAE:  29.197412 Phenol spectra MAE:  47.553333\n",
      "Benzene spectra MAE:  13.927071 Toluene spectra MAE:  29.245527 Phenol spectra MAE:  47.68645\n",
      "Benzene spectra MAE:  13.802756 Toluene spectra MAE:  29.23242 Phenol spectra MAE:  47.637173\n",
      "Benzene spectra MAE:  14.050656 Toluene spectra MAE:  29.08977 Phenol spectra MAE:  47.31265\n",
      "Benzene spectra MAE:  14.055205 Toluene spectra MAE:  29.186543 Phenol spectra MAE:  47.418167\n",
      "Benzene spectra MAE:  13.808525 Toluene spectra MAE:  29.279617 Phenol spectra MAE:  47.64366\n",
      "Benzene spectra MAE:  14.194352 Toluene spectra MAE:  29.371088 Phenol spectra MAE:  47.832123\n",
      "Benzene spectra MAE:  14.238682 Toluene spectra MAE:  29.189384 Phenol spectra MAE:  47.564766\n",
      "Benzene spectra MAE:  14.165155 Toluene spectra MAE:  28.969038 Phenol spectra MAE:  47.292564\n",
      "Benzene spectra MAE:  14.181939 Toluene spectra MAE:  28.816753 Phenol spectra MAE:  46.96208\n",
      "Benzene spectra MAE:  13.942894 Toluene spectra MAE:  28.94478 Phenol spectra MAE:  47.173042\n",
      "Benzene spectra MAE:  14.084452 Toluene spectra MAE:  29.310678 Phenol spectra MAE:  47.74002\n",
      "Benzene spectra MAE:  14.096585 Toluene spectra MAE:  29.360966 Phenol spectra MAE:  47.74141\n",
      "Benzene spectra MAE:  14.105508 Toluene spectra MAE:  29.100262 Phenol spectra MAE:  47.28261\n",
      "Benzene spectra MAE:  14.243623 Toluene spectra MAE:  28.893963 Phenol spectra MAE:  46.88021\n",
      "Benzene spectra MAE:  14.044518 Toluene spectra MAE:  28.876947 Phenol spectra MAE:  46.987774\n",
      "Benzene spectra MAE:  13.9048815 Toluene spectra MAE:  29.119198 Phenol spectra MAE:  47.442684\n",
      "Benzene spectra MAE:  14.049665 Toluene spectra MAE:  29.228403 Phenol spectra MAE:  47.561077\n",
      "Benzene spectra MAE:  13.902016 Toluene spectra MAE:  28.95542 Phenol spectra MAE:  47.219418\n",
      "Benzene spectra MAE:  14.124393 Toluene spectra MAE:  28.771439 Phenol spectra MAE:  46.8072\n",
      "Benzene spectra MAE:  14.03708 Toluene spectra MAE:  28.858393 Phenol spectra MAE:  46.908234\n",
      "Benzene spectra MAE:  13.81846 Toluene spectra MAE:  29.121395 Phenol spectra MAE:  47.37362\n",
      "Benzene spectra MAE:  14.014322 Toluene spectra MAE:  29.240973 Phenol spectra MAE:  47.57869\n",
      "Benzene spectra MAE:  13.83267 Toluene spectra MAE:  29.09078 Phenol spectra MAE:  47.30705\n",
      "Benzene spectra MAE:  13.871417 Toluene spectra MAE:  28.856966 Phenol spectra MAE:  46.960148\n",
      "Benzene spectra MAE:  13.715851 Toluene spectra MAE:  28.851961 Phenol spectra MAE:  47.051266\n",
      "Benzene spectra MAE:  14.036926 Toluene spectra MAE:  29.132113 Phenol spectra MAE:  47.425747\n",
      "Benzene spectra MAE:  14.033472 Toluene spectra MAE:  29.140284 Phenol spectra MAE:  47.430458\n",
      "Benzene spectra MAE:  13.734066 Toluene spectra MAE:  28.856361 Phenol spectra MAE:  47.073597\n",
      "Benzene spectra MAE:  14.105286 Toluene spectra MAE:  28.781336 Phenol spectra MAE:  46.723198\n",
      "Benzene spectra MAE:  14.131075 Toluene spectra MAE:  28.88004 Phenol spectra MAE:  46.791744\n",
      "Benzene spectra MAE:  14.095526 Toluene spectra MAE:  29.038881 Phenol spectra MAE:  47.153564\n",
      "Benzene spectra MAE:  14.023689 Toluene spectra MAE:  29.179945 Phenol spectra MAE:  47.4529\n",
      "Benzene spectra MAE:  13.855202 Toluene spectra MAE:  29.069317 Phenol spectra MAE:  47.276657\n",
      "Benzene spectra MAE:  13.931349 Toluene spectra MAE:  28.696806 Phenol spectra MAE:  46.716103\n",
      "Benzene spectra MAE:  13.955545 Toluene spectra MAE:  28.633358 Phenol spectra MAE:  46.65673\n",
      "Benzene spectra MAE:  13.818333 Toluene spectra MAE:  28.85711 Phenol spectra MAE:  47.060303\n",
      "Benzene spectra MAE:  13.967055 Toluene spectra MAE:  29.038637 Phenol spectra MAE:  47.273\n",
      "Benzene spectra MAE:  13.653251 Toluene spectra MAE:  28.894 Phenol spectra MAE:  47.00821\n",
      "Benzene spectra MAE:  14.1728 Toluene spectra MAE:  28.654911 Phenol spectra MAE:  46.483303\n",
      "Benzene spectra MAE:  14.267305 Toluene spectra MAE:  28.699 Phenol spectra MAE:  46.439507\n",
      "Benzene spectra MAE:  14.002196 Toluene spectra MAE:  28.854527 Phenol spectra MAE:  46.792538\n",
      "Benzene spectra MAE:  13.794697 Toluene spectra MAE:  28.989552 Phenol spectra MAE:  47.13327\n",
      "Benzene spectra MAE:  13.793386 Toluene spectra MAE:  28.934189 Phenol spectra MAE:  47.077618\n",
      "Benzene spectra MAE:  13.788531 Toluene spectra MAE:  28.573412 Phenol spectra MAE:  46.574158\n",
      "Benzene spectra MAE:  13.898508 Toluene spectra MAE:  28.50226 Phenol spectra MAE:  46.449265\n",
      "Benzene spectra MAE:  13.955126 Toluene spectra MAE:  28.6179 Phenol spectra MAE:  46.657516\n",
      "Benzene spectra MAE:  13.788275 Toluene spectra MAE:  28.782286 Phenol spectra MAE:  46.866535\n",
      "Benzene spectra MAE:  13.688534 Toluene spectra MAE:  28.862066 Phenol spectra MAE:  46.877705\n",
      "Benzene spectra MAE:  13.745993 Toluene spectra MAE:  28.911509 Phenol spectra MAE:  46.9383\n",
      "Benzene spectra MAE:  13.682109 Toluene spectra MAE:  28.891602 Phenol spectra MAE:  46.966568\n",
      "Benzene spectra MAE:  13.6390915 Toluene spectra MAE:  28.67494 Phenol spectra MAE:  46.63627\n",
      "Benzene spectra MAE:  13.735299 Toluene spectra MAE:  28.668577 Phenol spectra MAE:  46.660206\n",
      "Benzene spectra MAE:  13.622308 Toluene spectra MAE:  28.66304 Phenol spectra MAE:  46.64487\n",
      "Benzene spectra MAE:  13.7329235 Toluene spectra MAE:  28.691996 Phenol spectra MAE:  46.607666\n",
      "Benzene spectra MAE:  13.760605 Toluene spectra MAE:  28.749208 Phenol spectra MAE:  46.710155\n",
      "Benzene spectra MAE:  13.715954 Toluene spectra MAE:  28.846493 Phenol spectra MAE:  46.8982\n",
      "Benzene spectra MAE:  13.524679 Toluene spectra MAE:  28.650282 Phenol spectra MAE:  46.60786\n",
      "Benzene spectra MAE:  13.696659 Toluene spectra MAE:  28.601439 Phenol spectra MAE:  46.628937\n",
      "Benzene spectra MAE:  13.62091 Toluene spectra MAE:  28.632475 Phenol spectra MAE:  46.634167\n",
      "Benzene spectra MAE:  13.690153 Toluene spectra MAE:  28.62859 Phenol spectra MAE:  46.53551\n",
      "Benzene spectra MAE:  13.668033 Toluene spectra MAE:  28.685972 Phenol spectra MAE:  46.567806\n",
      "Benzene spectra MAE:  13.652049 Toluene spectra MAE:  28.752811 Phenol spectra MAE:  46.7678\n",
      "Benzene spectra MAE:  13.592308 Toluene spectra MAE:  28.566488 Phenol spectra MAE:  46.506702\n",
      "Benzene spectra MAE:  13.643514 Toluene spectra MAE:  28.511932 Phenol spectra MAE:  46.472225\n",
      "Benzene spectra MAE:  13.7494135 Toluene spectra MAE:  28.420464 Phenol spectra MAE:  46.26798\n",
      "Benzene spectra MAE:  13.470964 Toluene spectra MAE:  28.61124 Phenol spectra MAE:  46.53312\n",
      "Benzene spectra MAE:  13.883231 Toluene spectra MAE:  28.831953 Phenol spectra MAE:  46.90521\n",
      "Benzene spectra MAE:  13.775979 Toluene spectra MAE:  28.774614 Phenol spectra MAE:  46.744503\n",
      "Benzene spectra MAE:  13.7248745 Toluene spectra MAE:  28.511673 Phenol spectra MAE:  46.306023\n",
      "Benzene spectra MAE:  13.832559 Toluene spectra MAE:  28.390047 Phenol spectra MAE:  46.11738\n",
      "Benzene spectra MAE:  13.490593 Toluene spectra MAE:  28.514936 Phenol spectra MAE:  46.3524\n",
      "Benzene spectra MAE:  13.649708 Toluene spectra MAE:  28.630215 Phenol spectra MAE:  46.558765\n",
      "Benzene spectra MAE:  13.559107 Toluene spectra MAE:  28.597406 Phenol spectra MAE:  46.44208\n",
      "Benzene spectra MAE:  13.552755 Toluene spectra MAE:  28.578218 Phenol spectra MAE:  46.427837\n",
      "Benzene spectra MAE:  13.734909 Toluene spectra MAE:  28.635712 Phenol spectra MAE:  46.54884\n",
      "Benzene spectra MAE:  13.589746 Toluene spectra MAE:  28.446167 Phenol spectra MAE:  46.255463\n",
      "Benzene spectra MAE:  13.871197 Toluene spectra MAE:  28.318623 Phenol spectra MAE:  45.95369\n",
      "Benzene spectra MAE:  13.727462 Toluene spectra MAE:  28.426939 Phenol spectra MAE:  46.101696\n",
      "Benzene spectra MAE:  13.725015 Toluene spectra MAE:  28.749424 Phenol spectra MAE:  46.615707\n",
      "Benzene spectra MAE:  13.824614 Toluene spectra MAE:  28.82202 Phenol spectra MAE:  46.710167\n",
      "Benzene spectra MAE:  13.688801 Toluene spectra MAE:  28.588726 Phenol spectra MAE:  46.298603\n",
      "Benzene spectra MAE:  13.731483 Toluene spectra MAE:  28.435434 Phenol spectra MAE:  46.042107\n",
      "Benzene spectra MAE:  13.478179 Toluene spectra MAE:  28.427343 Phenol spectra MAE:  46.12543\n",
      "Benzene spectra MAE:  13.96093 Toluene spectra MAE:  28.718914 Phenol spectra MAE:  46.610466\n",
      "Benzene spectra MAE:  14.084099 Toluene spectra MAE:  28.775892 Phenol spectra MAE:  46.66628\n",
      "Benzene spectra MAE:  13.890682 Toluene spectra MAE:  28.56287 Phenol spectra MAE:  46.39436\n",
      "Benzene spectra MAE:  13.623588 Toluene spectra MAE:  28.288124 Phenol spectra MAE:  46.03508\n",
      "Benzene spectra MAE:  14.086741 Toluene spectra MAE:  28.2033 Phenol spectra MAE:  45.663387\n",
      "Benzene spectra MAE:  14.253125 Toluene spectra MAE:  28.325333 Phenol spectra MAE:  45.669968\n",
      "Benzene spectra MAE:  13.896671 Toluene spectra MAE:  28.53423 Phenol spectra MAE:  46.153076\n",
      "Benzene spectra MAE:  13.781081 Toluene spectra MAE:  28.722137 Phenol spectra MAE:  46.568626\n",
      "Benzene spectra MAE:  13.932074 Toluene spectra MAE:  28.70288 Phenol spectra MAE:  46.632\n",
      "Benzene spectra MAE:  13.500013 Toluene spectra MAE:  28.395893 Phenol spectra MAE:  46.19586\n",
      "Benzene spectra MAE:  14.024503 Toluene spectra MAE:  27.972006 Phenol spectra MAE:  45.47002\n",
      "Benzene spectra MAE:  14.222857 Toluene spectra MAE:  27.843916 Phenol spectra MAE:  45.26211\n",
      "Benzene spectra MAE:  13.811137 Toluene spectra MAE:  27.963398 Phenol spectra MAE:  45.536556\n",
      "Benzene spectra MAE:  13.947138 Toluene spectra MAE:  28.434565 Phenol spectra MAE:  46.217884\n",
      "Benzene spectra MAE:  14.404274 Toluene spectra MAE:  28.816147 Phenol spectra MAE:  46.67772\n",
      "Benzene spectra MAE:  14.154337 Toluene spectra MAE:  28.721493 Phenol spectra MAE:  46.606373\n",
      "Benzene spectra MAE:  13.501221 Toluene spectra MAE:  28.405268 Phenol spectra MAE:  46.13106\n",
      "Benzene spectra MAE:  14.127116 Toluene spectra MAE:  28.107832 Phenol spectra MAE:  45.355625\n",
      "Benzene spectra MAE:  14.738151 Toluene spectra MAE:  28.068384 Phenol spectra MAE:  45.054306\n",
      "Benzene spectra MAE:  14.402202 Toluene spectra MAE:  28.164526 Phenol spectra MAE:  45.26824\n",
      "Benzene spectra MAE:  13.746047 Toluene spectra MAE:  28.342588 Phenol spectra MAE:  45.970562\n",
      "Benzene spectra MAE:  14.078794 Toluene spectra MAE:  28.66211 Phenol spectra MAE:  46.55931\n",
      "Benzene spectra MAE:  14.253128 Toluene spectra MAE:  28.76959 Phenol spectra MAE:  46.63472\n",
      "Benzene spectra MAE:  13.817492 Toluene spectra MAE:  28.424305 Phenol spectra MAE:  46.137\n",
      "Benzene spectra MAE:  13.659342 Toluene spectra MAE:  27.97788 Phenol spectra MAE:  45.532066\n",
      "Benzene spectra MAE:  14.115939 Toluene spectra MAE:  27.782286 Phenol spectra MAE:  45.111485\n",
      "Benzene spectra MAE:  14.06555 Toluene spectra MAE:  27.871317 Phenol spectra MAE:  45.155624\n",
      "Benzene spectra MAE:  13.540241 Toluene spectra MAE:  28.16286 Phenol spectra MAE:  45.651596\n",
      "Benzene spectra MAE:  13.83635 Toluene spectra MAE:  28.522104 Phenol spectra MAE:  46.288242\n",
      "Benzene spectra MAE:  14.086877 Toluene spectra MAE:  28.66021 Phenol spectra MAE:  46.473366\n",
      "Benzene spectra MAE:  13.720717 Toluene spectra MAE:  28.462378 Phenol spectra MAE:  46.198967\n",
      "Benzene spectra MAE:  13.596287 Toluene spectra MAE:  28.096182 Phenol spectra MAE:  45.531963\n",
      "Benzene spectra MAE:  13.971132 Toluene spectra MAE:  27.928429 Phenol spectra MAE:  45.191746\n",
      "Benzene spectra MAE:  13.772737 Toluene spectra MAE:  27.94308 Phenol spectra MAE:  45.312065\n",
      "Benzene spectra MAE:  13.374622 Toluene spectra MAE:  28.221155 Phenol spectra MAE:  45.81248\n",
      "Benzene spectra MAE:  13.652394 Toluene spectra MAE:  28.351923 Phenol spectra MAE:  46.024982\n",
      "Benzene spectra MAE:  13.3419075 Toluene spectra MAE:  28.229029 Phenol spectra MAE:  45.774303\n",
      "Benzene spectra MAE:  13.651695 Toluene spectra MAE:  27.931923 Phenol spectra MAE:  45.29213\n",
      "Benzene spectra MAE:  13.621075 Toluene spectra MAE:  27.910688 Phenol spectra MAE:  45.310913\n",
      "Benzene spectra MAE:  13.344398 Toluene spectra MAE:  28.178072 Phenol spectra MAE:  45.717884\n",
      "Benzene spectra MAE:  13.392574 Toluene spectra MAE:  28.225067 Phenol spectra MAE:  45.80721\n",
      "Benzene spectra MAE:  13.4186945 Toluene spectra MAE:  28.03374 Phenol spectra MAE:  45.397724\n",
      "Benzene spectra MAE:  13.397337 Toluene spectra MAE:  28.031116 Phenol spectra MAE:  45.424656\n",
      "Benzene spectra MAE:  13.3136015 Toluene spectra MAE:  28.13977 Phenol spectra MAE:  45.675495\n",
      "Benzene spectra MAE:  13.38488 Toluene spectra MAE:  28.105955 Phenol spectra MAE:  45.65952\n",
      "Benzene spectra MAE:  13.291772 Toluene spectra MAE:  27.98922 Phenol spectra MAE:  45.439266\n",
      "Benzene spectra MAE:  13.431657 Toluene spectra MAE:  27.97139 Phenol spectra MAE:  45.326942\n",
      "Benzene spectra MAE:  13.340086 Toluene spectra MAE:  28.112684 Phenol spectra MAE:  45.56723\n",
      "Benzene spectra MAE:  13.4407 Toluene spectra MAE:  28.212015 Phenol spectra MAE:  45.754284\n",
      "Benzene spectra MAE:  13.28846 Toluene spectra MAE:  28.018808 Phenol spectra MAE:  45.477497\n",
      "Benzene spectra MAE:  13.432638 Toluene spectra MAE:  27.848589 Phenol spectra MAE:  45.19447\n",
      "Benzene spectra MAE:  13.271594 Toluene spectra MAE:  27.953081 Phenol spectra MAE:  45.388607\n",
      "Benzene spectra MAE:  13.357331 Toluene spectra MAE:  28.111404 Phenol spectra MAE:  45.61323\n",
      "Benzene spectra MAE:  13.264159 Toluene spectra MAE:  28.007784 Phenol spectra MAE:  45.40262\n",
      "Benzene spectra MAE:  13.346101 Toluene spectra MAE:  27.88461 Phenol spectra MAE:  45.218388\n",
      "Benzene spectra MAE:  13.2496195 Toluene spectra MAE:  28.005234 Phenol spectra MAE:  45.46422\n",
      "Benzene spectra MAE:  13.297045 Toluene spectra MAE:  28.040733 Phenol spectra MAE:  45.5282\n",
      "Benzene spectra MAE:  13.313564 Toluene spectra MAE:  27.856953 Phenol spectra MAE:  45.20035\n",
      "Benzene spectra MAE:  13.221984 Toluene spectra MAE:  27.926674 Phenol spectra MAE:  45.3039\n",
      "Benzene spectra MAE:  13.410144 Toluene spectra MAE:  28.08264 Phenol spectra MAE:  45.589622\n",
      "Benzene spectra MAE:  13.250957 Toluene spectra MAE:  27.95313 Phenol spectra MAE:  45.422924\n",
      "Benzene spectra MAE:  13.422714 Toluene spectra MAE:  27.739847 Phenol spectra MAE:  45.044872\n",
      "Benzene spectra MAE:  13.332583 Toluene spectra MAE:  27.790653 Phenol spectra MAE:  45.095684\n",
      "Benzene spectra MAE:  13.456625 Toluene spectra MAE:  28.078682 Phenol spectra MAE:  45.56186\n",
      "Benzene spectra MAE:  13.453404 Toluene spectra MAE:  28.080853 Phenol spectra MAE:  45.57673\n",
      "Benzene spectra MAE:  13.227881 Toluene spectra MAE:  27.84372 Phenol spectra MAE:  45.143566\n",
      "Benzene spectra MAE:  13.318893 Toluene spectra MAE:  27.737349 Phenol spectra MAE:  45.025753\n",
      "Benzene spectra MAE:  13.267679 Toluene spectra MAE:  27.914902 Phenol spectra MAE:  45.30851\n",
      "Benzene spectra MAE:  13.336834 Toluene spectra MAE:  27.980858 Phenol spectra MAE:  45.41767\n",
      "Benzene spectra MAE:  13.135143 Toluene spectra MAE:  27.861729 Phenol spectra MAE:  45.166286\n",
      "Benzene spectra MAE:  13.298965 Toluene spectra MAE:  27.762508 Phenol spectra MAE:  45.016773\n",
      "Benzene spectra MAE:  13.151842 Toluene spectra MAE:  27.8643 Phenol spectra MAE:  45.264828\n",
      "Benzene spectra MAE:  13.141907 Toluene spectra MAE:  27.881908 Phenol spectra MAE:  45.280922\n",
      "Benzene spectra MAE:  13.134561 Toluene spectra MAE:  27.791597 Phenol spectra MAE:  45.09089\n",
      "Benzene spectra MAE:  13.13387 Toluene spectra MAE:  27.86865 Phenol spectra MAE:  45.213066\n",
      "Benzene spectra MAE:  13.34633 Toluene spectra MAE:  27.974613 Phenol spectra MAE:  45.427788\n",
      "Benzene spectra MAE:  13.075945 Toluene spectra MAE:  27.82248 Phenol spectra MAE:  45.165184\n",
      "Benzene spectra MAE:  13.279999 Toluene spectra MAE:  27.64861 Phenol spectra MAE:  44.896255\n",
      "Benzene spectra MAE:  13.143418 Toluene spectra MAE:  27.753418 Phenol spectra MAE:  45.08978\n",
      "Benzene spectra MAE:  13.10965 Toluene spectra MAE:  27.770164 Phenol spectra MAE:  45.075844\n",
      "Benzene spectra MAE:  13.145414 Toluene spectra MAE:  27.85544 Phenol spectra MAE:  45.202282\n",
      "Benzene spectra MAE:  13.251983 Toluene spectra MAE:  27.721508 Phenol spectra MAE:  44.964764\n",
      "Benzene spectra MAE:  13.1914015 Toluene spectra MAE:  27.725883 Phenol spectra MAE:  44.98804\n",
      "Benzene spectra MAE:  13.213983 Toluene spectra MAE:  27.820667 Phenol spectra MAE:  45.234898\n",
      "Benzene spectra MAE:  13.251704 Toluene spectra MAE:  27.76124 Phenol spectra MAE:  45.19724\n",
      "Benzene spectra MAE:  13.117684 Toluene spectra MAE:  27.677221 Phenol spectra MAE:  44.997166\n",
      "Benzene spectra MAE:  13.049967 Toluene spectra MAE:  27.726908 Phenol spectra MAE:  45.07029\n",
      "Benzene spectra MAE:  13.061605 Toluene spectra MAE:  27.752335 Phenol spectra MAE:  45.06039\n"
     ]
    }
   ],
   "source": [
    "@jax.jit\n",
    "def update_fn(\n",
    "    params, optimizer_state\n",
    "):\n",
    "    loss, grad = jax.value_and_grad(\n",
    "        lambda params: loss_fn_train(spectra_predictor(params))\n",
    "    )(params)\n",
    "\n",
    "    updates, optimizer_state = gradient_transform.update(\n",
    "        grad, optimizer_state, params\n",
    "    )\n",
    "    params = optax.apply_updates(params, updates)\n",
    "    return loss, params, optimizer_state\n",
    "\n",
    "spectra_mae = []\n",
    "\n",
    "for ind in range(500):\n",
    "    train_modes = predict_gamma_spectra_filter(params,model_fn,train_graph,train_masses)\n",
    "    valid_modes1 = predict_gamma_spectra_filter(params,model_fn,test_graph1,test_masses1)\n",
    "    valid_modes2 = predict_gamma_spectra_filter(params,model_fn,test_graph2,test_masses2)\n",
    "    \n",
    "    train_mae = mae_spectra(train_modes,benzene_gamma)\n",
    "    valid_mae1 = mae_spectra(valid_modes1,toluene_gamma)\n",
    "    valid_mae2 = mae_spectra(valid_modes2,phenol_gamma)\n",
    "\n",
    "    loss, params, optimizer_state = update_fn(params, optimizer_state)\n",
    "\n",
    "    print(\n",
    "        'Benzene spectra MAE: ', \n",
    "        train_mae,\n",
    "        'Toluene spectra MAE: ',\n",
    "        valid_mae1,\n",
    "        'Phenol spectra MAE: ',\n",
    "        valid_mae2,\n",
    "    )\n",
    "    spectra_mae.append([train_mae, valid_mae1, valid_mae2])\n"
   ]
  },
  {
   "cell_type": "code",
   "execution_count": 11,
   "id": "401f2bb6",
   "metadata": {},
   "outputs": [
    {
     "data": {
      "text/plain": [
       "[<matplotlib.lines.Line2D at 0x7fbeca4fd350>,\n",
       " <matplotlib.lines.Line2D at 0x7fbeca45f590>,\n",
       " <matplotlib.lines.Line2D at 0x7fbecc28fd10>]"
      ]
     },
     "execution_count": 11,
     "metadata": {},
     "output_type": "execute_result"
    },
    {
     "data": {
      "image/png": "[encoded data removed]",
      "text/plain": [
       "<Figure size 640x480 with 1 Axes>"
      ]
     },
     "metadata": {},
     "output_type": "display_data"
    }
   ],
   "source": [
    "import matplotlib.pyplot as plt \n",
    "spectra_mae = np.array(spectra_mae)\n",
    "plt.plot(spectra_mae)"
   ]
  },
  {
   "cell_type": "code",
   "execution_count": 13,
   "id": "ec406737",
   "metadata": {},
   "outputs": [
    {
     "data": {
      "text/plain": [
       "<matplotlib.collections.PathCollection at 0x7fbeca50d810>"
      ]
     },
     "execution_count": 13,
     "metadata": {},
     "output_type": "execute_result"
    },
    {
     "data": {
      "image/png": "[encoded data removed]",
      "text/plain": [
       "<Figure size 640x480 with 1 Axes>"
      ]
     },
     "metadata": {},
     "output_type": "display_data"
    }
   ],
   "source": [
    "plt.scatter(toluene_gamma, valid_modes1)"
   ]
  },
  {
   "cell_type": "code",
   "execution_count": 14,
   "id": "584aaef2-bf56-4404-9267-63fa9c364dfb",
   "metadata": {},
   "outputs": [
    {
     "data": {
      "text/plain": [
       "<matplotlib.collections.PathCollection at 0x7fbec9ec1110>"
      ]
     },
     "execution_count": 14,
     "metadata": {},
     "output_type": "execute_result"
    },
    {
     "data": {
      "image/png": "[encoded data removed]",
      "text/plain": [
       "<Figure size 640x480 with 1 Axes>"
      ]
     },
     "metadata": {},
     "output_type": "display_data"
    }
   ],
   "source": [
    "plt.scatter(phenol_gamma, valid_modes2)"
   ]
  },
  {
   "cell_type": "code",
   "execution_count": 15,
   "id": "174405d0",
   "metadata": {},
   "outputs": [
    {
     "data": {
      "text/plain": [
       "<matplotlib.collections.PathCollection at 0x7fbeca82ac50>"
      ]
     },
     "execution_count": 15,
     "metadata": {},
     "output_type": "execute_result"
    },
    {
     "data": {
      "image/png": "[encoded data removed]",
      "text/plain": [
       "<Figure size 640x480 with 1 Axes>"
      ]
     },
     "metadata": {},
     "output_type": "display_data"
    }
   ],
   "source": [
    "\n",
    "plt.scatter(toluene_gamma, valid_modes_original1)"
   ]
  },
  {
   "cell_type": "code",
   "execution_count": 16,
   "id": "45a2cda0-30cb-4761-8a8c-16123a6f334f",
   "metadata": {},
   "outputs": [
    {
     "data": {
      "text/plain": [
       "<matplotlib.collections.PathCollection at 0x7fbecab74210>"
      ]
     },
     "execution_count": 16,
     "metadata": {},
     "output_type": "execute_result"
    },
    {
     "data": {
      "image/png": "[encoded data removed]",
      "text/plain": [
       "<Figure size 640x480 with 1 Axes>"
      ]
     },
     "metadata": {},
     "output_type": "display_data"
    }
   ],
   "source": [
    "plt.scatter(phenol_gamma, valid_modes_original2)"
   ]
  },
  {
   "cell_type": "code",
   "execution_count": 18,
   "id": "6d56f11b-3d7d-46fd-b20a-b257fb8dacf7",
   "metadata": {},
   "outputs": [
    {
     "data": {
      "text/plain": [
       "[<matplotlib.lines.Line2D at 0x7fbeca348150>]"
      ]
     },
     "execution_count": 18,
     "metadata": {},
     "output_type": "execute_result"
    },
    {
     "data": {
      "image/png": "[encoded data removed]",
      "text/plain": [
       "<Figure size 640x480 with 1 Axes>"
      ]
     },
     "metadata": {},
     "output_type": "display_data"
    }
   ],
   "source": [
    "plt.scatter(toluene_gamma, valid_modes1, color='b')\n",
    "plt.scatter(toluene_gamma, valid_modes_original1, color='r')\n",
    "plt.plot([0,3500],[0,3500],color='k')"
   ]
  },
  {
   "cell_type": "code",
   "execution_count": 20,
   "id": "97ab46a7-e7c7-4f73-9cbe-1fa0045f6268",
   "metadata": {},
   "outputs": [
    {
     "data": {
      "text/plain": [
       "[<matplotlib.lines.Line2D at 0x7fbeca3dcb50>]"
      ]
     },
     "execution_count": 20,
     "metadata": {},
     "output_type": "execute_result"
    },
    {
     "data": {
      "image/png": "[encoded data removed]",
      "text/plain": [
       "<Figure size 640x480 with 1 Axes>"
      ]
     },
     "metadata": {},
     "output_type": "display_data"
    }
   ],
   "source": [
    "plt.scatter(phenol_gamma, valid_modes2, color='b')\n",
    "plt.scatter(phenol_gamma, valid_modes_original2, color='r')\n",
    "plt.plot([0,4500],[0,4500],color='k')"
   ]
  },
  {
   "cell_type": "code",
   "execution_count": 21,
   "id": "3de72966-b35c-4263-92a6-8f8e145b3b8f",
   "metadata": {},
   "outputs": [
    {
     "data": {
      "text/plain": [
       "[<matplotlib.lines.Line2D at 0x7fbecb338d90>]"
      ]
     },
     "execution_count": 21,
     "metadata": {},
     "output_type": "execute_result"
    },
    {
     "data": {
      "image/png": "[encoded data removed]",
      "text/plain": [
       "<Figure size 640x480 with 1 Axes>"
      ]
     },
     "metadata": {},
     "output_type": "display_data"
    }
   ],
   "source": [
    "plt.plot(np.abs(-toluene_gamma+valid_modes1), color='b')\n",
    "plt.plot(np.abs(-toluene_gamma+valid_modes_original1), color='r')"
   ]
  },
  {
   "cell_type": "code",
   "execution_count": 22,
   "id": "68156e4a-22f9-4956-9540-8c7e9bc1b2a9",
   "metadata": {},
   "outputs": [
    {
     "data": {
      "text/plain": [
       "[<matplotlib.lines.Line2D at 0x7fbec9f3c7d0>]"
      ]
     },
     "execution_count": 22,
     "metadata": {},
     "output_type": "execute_result"
    },
    {
     "data": {
      "image/png": "[encoded data removed]",
      "text/plain": [
       "<Figure size 640x480 with 1 Axes>"
      ]
     },
     "metadata": {},
     "output_type": "display_data"
    }
   ],
   "source": [
    "plt.plot(np.abs(-phenol_gamma+valid_modes2), color='b')\n",
    "plt.plot(np.abs(-phenol_gamma+valid_modes_original2), color='r')"
   ]
  },
  {
   "cell_type": "code",
   "execution_count": 23,
   "id": "a7e30d6a-243c-4785-ac7a-a23088df28d0",
   "metadata": {},
   "outputs": [
    {
     "data": {
      "text/plain": [
       "Array([ 409.748,  409.875,  622.161,  622.172,  686.588,  719.438,\n",
       "        862.405,  862.419,  979.691,  979.726, 1010.604, 1011.054,\n",
       "       1022.242, 1058.602, 1058.666, 1174.409, 1197.043, 1197.065,\n",
       "       1335.573, 1380.654, 1509.93 , 1509.991, 1633.063, 1633.107,\n",
       "       3154.428, 3164.629, 3164.645, 3180.355, 3180.37 , 3190.503],      dtype=float32)"
      ]
     },
     "execution_count": 23,
     "metadata": {},
     "output_type": "execute_result"
    }
   ],
   "source": [
    "benzene_gamma"
   ]
  },
  {
   "cell_type": "code",
   "execution_count": null,
   "id": "d0e37df3-00df-4577-8e66-d00ef5e9c212",
   "metadata": {},
   "outputs": [],
   "source": []
  }
 ],
 "metadata": {
  "kernelspec": {
   "display_name": "Python 3 (ipykernel)",
   "language": "python",
   "name": "python3"
  },
  "language_info": {
   "codemirror_mode": {
    "name": "ipython",
    "version": 3
   },
   "file_extension": ".py",
   "mimetype": "text/x-python",
   "name": "python",
   "nbconvert_exporter": "python",
   "pygments_lexer": "ipython3",
   "version": "3.11.3"
  }
 },
 "nbformat": 4,
 "nbformat_minor": 5
}
